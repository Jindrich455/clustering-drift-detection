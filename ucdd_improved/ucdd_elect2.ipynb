{
 "cells": [
  {
   "cell_type": "markdown",
   "metadata": {
    "collapsed": true,
    "pycharm": {
     "name": "#%% md\n"
    }
   },
   "source": [
    "# UCDD on ELECT2 evaluation"
   ]
  },
  {
   "cell_type": "markdown",
   "source": [
    "## Accept and preprocess the ELECT2 dataset"
   ],
   "metadata": {
    "collapsed": false
   }
  },
  {
   "cell_type": "code",
   "execution_count": 2,
   "outputs": [],
   "source": [
    "import csv\n",
    "\n",
    "import numpy as np\n",
    "import pandas as pd\n",
    "import seaborn as sb"
   ],
   "metadata": {
    "collapsed": false,
    "pycharm": {
     "name": "#%%\n"
    }
   }
  },
  {
   "cell_type": "code",
   "execution_count": 13,
   "outputs": [
    {
     "name": "stdout",
     "output_type": "stream",
     "text": [
      "   date  day    period  nswprice  nswdemand  vicprice  vicdemand  transfer\n",
      "0   0.0  2.0  0.000000  0.056443   0.439155  0.003467   0.422915  0.414912\n",
      "1   0.0  2.0  0.021277  0.051699   0.415055  0.003467   0.422915  0.414912\n",
      "2   0.0  2.0  0.042553  0.051489   0.385004  0.003467   0.422915  0.414912\n",
      "3   0.0  2.0  0.063830  0.045485   0.314639  0.003467   0.422915  0.414912\n",
      "4   0.0  2.0  0.085106  0.042482   0.251116  0.003467   0.422915  0.414912\n",
      "DTYPES\n",
      "date         float64\n",
      "day          float64\n",
      "period       float64\n",
      "nswprice     float64\n",
      "nswdemand    float64\n",
      "vicprice     float64\n",
      "vicdemand    float64\n",
      "transfer     float64\n",
      "dtype: object\n",
      "# nan values in X 0\n",
      "\n",
      "reference data\n",
      "(15104, 8)\n",
      "[[0.       2.       0.       ... 0.003467 0.422915 0.414912]\n",
      " [0.       2.       0.021277 ... 0.003467 0.422915 0.414912]\n",
      " [0.       2.       0.042553 ... 0.003467 0.422915 0.414912]\n",
      " ...\n",
      " [0.434052 1.       0.617021 ... 0.003467 0.422915 0.414912]\n",
      " [0.434052 1.       0.638298 ... 0.003467 0.422915 0.414912]\n",
      " [0.434052 1.       0.659574 ... 0.003467 0.422915 0.414912]]\n",
      "\n",
      "reference labels\n",
      "(15104, 1)\n",
      "\n",
      "testing data\n",
      "(30208, 8)\n",
      "[[4.34052e-01 1.00000e+00 6.80851e-01 ... 3.46700e-03 4.22915e-01\n",
      "  4.14912e-01]\n",
      " [4.34052e-01 1.00000e+00 7.02128e-01 ... 3.46700e-03 4.22915e-01\n",
      "  4.14912e-01]\n",
      " [4.34052e-01 1.00000e+00 7.23404e-01 ... 3.46700e-03 4.22915e-01\n",
      "  4.14912e-01]\n",
      " ...\n",
      " [9.15800e-01 7.00000e+00 9.57447e-01 ... 2.98300e-03 2.47799e-01\n",
      "  3.62281e-01]\n",
      " [9.15800e-01 7.00000e+00 9.78723e-01 ... 4.63000e-03 3.45417e-01\n",
      "  2.06579e-01]\n",
      " [9.15800e-01 7.00000e+00 1.00000e+00 ... 3.54200e-03 3.55256e-01\n",
      "  2.31140e-01]]\n",
      "\n",
      "testing labels\n",
      "(30208, 1)\n"
     ]
    }
   ],
   "source": [
    "from eval_helpers import accepting\n",
    "\n",
    "df = pd.read_csv(\"../Datasets_concept_drift/real_world_data/electricity_dataset.csv\")\n",
    "\n",
    "X = df.drop(columns=['Unnamed: 0', 'label', 'real_date'])\n",
    "y = df[\"label\"]\n",
    "\n",
    "X['day'] = X['day'].apply(lambda x: float(x.split('\\'')[1]))\n",
    "\n",
    "print(X.head())\n",
    "print('DTYPES')\n",
    "print(X.dtypes)\n",
    "# X = float(X)\n",
    "# print(X.head())\n",
    "\n",
    "print('# nan values in X', np.count_nonzero(np.isnan(X)))\n",
    "\n",
    "X_ref = X[:15104]\n",
    "X_test = X[15104:]\n",
    "y_ref = y[:15104]\n",
    "y_test = y[15104:]\n",
    "\n",
    "X_ref = X_ref.to_numpy()\n",
    "X_test = X_test.to_numpy()\n",
    "y_ref = y_ref.to_numpy().reshape((len(y_ref.index), 1))\n",
    "y_test = y_test.to_numpy().reshape((len(y_test.index), 1))\n",
    "\n",
    "print('\\nreference data')\n",
    "print(X_ref.shape)\n",
    "print(X_ref)\n",
    "print('\\nreference labels')\n",
    "print(y_ref.shape)\n",
    "print('\\ntesting data')\n",
    "print(X_test.shape)\n",
    "print(X_test)\n",
    "print('\\ntesting labels')\n",
    "print(y_test.shape)"
   ],
   "metadata": {
    "collapsed": false,
    "pycharm": {
     "name": "#%%\n"
    }
   }
  },
  {
   "cell_type": "markdown",
   "source": [
    "## Split the dataset to batches (size=365)"
   ],
   "metadata": {
    "collapsed": false
   }
  },
  {
   "cell_type": "code",
   "execution_count": 14,
   "outputs": [
    {
     "name": "stdout",
     "output_type": "stream",
     "text": [
      "[[0.434052 1.       0.680851 ... 0.003467 0.422915 0.414912]\n",
      " [0.434052 1.       0.702128 ... 0.003467 0.422915 0.414912]\n",
      " [0.434052 1.       0.723404 ... 0.003467 0.422915 0.414912]\n",
      " ...\n",
      " [0.434406 2.       0.212766 ... 0.003467 0.422915 0.414912]\n",
      " [0.434406 2.       0.234043 ... 0.003467 0.422915 0.414912]\n",
      " [0.434406 2.       0.255319 ... 0.003467 0.422915 0.414912]]\n",
      "(365, 8)\n",
      "[[0.00000e+00 2.00000e+00 0.00000e+00 ... 3.46700e-03 4.22915e-01\n",
      "  4.14912e-01]\n",
      " [0.00000e+00 2.00000e+00 2.12770e-02 ... 3.46700e-03 4.22915e-01\n",
      "  4.14912e-01]\n",
      " [0.00000e+00 2.00000e+00 4.25530e-02 ... 3.46700e-03 4.22915e-01\n",
      "  4.14912e-01]\n",
      " ...\n",
      " [3.10000e-04 2.00000e+00 5.53191e-01 ... 3.46700e-03 4.22915e-01\n",
      "  4.14912e-01]\n",
      " [3.10000e-04 2.00000e+00 5.74468e-01 ... 3.46700e-03 4.22915e-01\n",
      "  4.14912e-01]\n",
      " [3.10000e-04 2.00000e+00 5.95745e-01 ... 3.46700e-03 4.22915e-01\n",
      "  4.14912e-01]]\n",
      "(365, 8)\n",
      "# yearly test batches:\n",
      "82\n",
      "82\n",
      "# yearly ref batches:\n",
      "41\n",
      "41\n"
     ]
    }
   ],
   "source": [
    "from eval_helpers import helpers\n",
    "\n",
    "X_test_batches_year, y_test_batches_year = helpers.split_to_fixed_size_batches(X_test, y_test, batch_size=365)\n",
    "X_ref_batches_year, y_ref_batches_year = helpers.split_to_fixed_size_batches(X_ref, y_ref, batch_size=365)\n",
    "\n",
    "print('# yearly test batches:')\n",
    "print(len(X_test_batches_year))\n",
    "print(len(y_test_batches_year))\n",
    "print('# yearly ref batches:')\n",
    "print(len(X_ref_batches_year))\n",
    "print(len(y_ref_batches_year))"
   ],
   "metadata": {
    "collapsed": false,
    "pycharm": {
     "name": "#%%\n"
    }
   }
  },
  {
   "cell_type": "markdown",
   "source": [
    "## Imports"
   ],
   "metadata": {
    "collapsed": false
   }
  },
  {
   "cell_type": "code",
   "execution_count": 15,
   "outputs": [
    {
     "name": "stdout",
     "output_type": "stream",
     "text": [
      "something\n"
     ]
    },
    {
     "data": {
      "text/plain": "<module 'eval_helpers.kmeans_verbose_helpers' from 'C:\\\\Users\\\\jpohl\\\\PycharmProjects\\\\clustering-drift-detection\\\\ucdd_improved\\\\eval_helpers\\\\kmeans_verbose_helpers.py'>"
     },
     "execution_count": 15,
     "metadata": {},
     "output_type": "execute_result"
    }
   ],
   "source": [
    "import importlib\n",
    "from eval_helpers import ucdd_eval_real_world\n",
    "from eval_helpers import kmeans_verbose_helpers\n",
    "from core import ucdd_supported_parameters as spms\n",
    "from core import ucdd\n",
    "importlib.reload(ucdd_eval_real_world)\n",
    "importlib.reload(ucdd)\n",
    "importlib.reload(kmeans_verbose_helpers)"
   ],
   "metadata": {
    "collapsed": false,
    "pycharm": {
     "name": "#%%\n"
    }
   }
  },
  {
   "cell_type": "markdown",
   "source": [
    "## Find suitable KMeans clustering parameters"
   ],
   "metadata": {
    "collapsed": false
   }
  },
  {
   "cell_type": "code",
   "execution_count": 16,
   "outputs": [
    {
     "name": "stdout",
     "output_type": "stream",
     "text": [
      "filename elect2_kmeans_year/elect2_kmeans_year_output0.txt\n",
      "random state: 1053\n",
      "filename elect2_kmeans_year/elect2_kmeans_year_output1.txt\n",
      "random state: 1053\n",
      "filename elect2_kmeans_year/elect2_kmeans_year_output2.txt\n",
      "random state: 1053\n",
      "filename elect2_kmeans_year/elect2_kmeans_year_output3.txt\n",
      "random state: 1053\n",
      "filename elect2_kmeans_year/elect2_kmeans_year_output4.txt\n",
      "random state: 1053\n",
      "filename elect2_kmeans_year/elect2_kmeans_year_output5.txt\n",
      "random state: 1053\n",
      "filename elect2_kmeans_year/elect2_kmeans_year_output6.txt\n",
      "random state: 1053\n",
      "filename elect2_kmeans_year/elect2_kmeans_year_output7.txt\n",
      "random state: 1053\n",
      "filename elect2_kmeans_year/elect2_kmeans_year_output8.txt\n",
      "random state: 1053\n",
      "filename elect2_kmeans_year/elect2_kmeans_year_output9.txt\n",
      "random state: 1053\n",
      "filename elect2_kmeans_year/elect2_kmeans_year_output10.txt\n",
      "random state: 1053\n",
      "filename elect2_kmeans_year/elect2_kmeans_year_output11.txt\n",
      "random state: 1053\n",
      "filename elect2_kmeans_year/elect2_kmeans_year_output12.txt\n",
      "random state: 1053\n",
      "filename elect2_kmeans_year/elect2_kmeans_year_output13.txt\n",
      "random state: 1053\n",
      "filename elect2_kmeans_year/elect2_kmeans_year_output14.txt\n",
      "random state: 1053\n",
      "filename elect2_kmeans_year/elect2_kmeans_year_output15.txt\n",
      "random state: 1053\n",
      "filename elect2_kmeans_year/elect2_kmeans_year_output16.txt\n",
      "random state: 1053\n",
      "filename elect2_kmeans_year/elect2_kmeans_year_output17.txt\n",
      "random state: 1053\n",
      "filename elect2_kmeans_year/elect2_kmeans_year_output18.txt\n",
      "random state: 1053\n",
      "filename elect2_kmeans_year/elect2_kmeans_year_output19.txt\n",
      "random state: 1053\n",
      "filename elect2_kmeans_year/elect2_kmeans_year_output20.txt\n",
      "random state: 1053\n",
      "filename elect2_kmeans_year/elect2_kmeans_year_output21.txt\n",
      "random state: 1053\n",
      "filename elect2_kmeans_year/elect2_kmeans_year_output22.txt\n",
      "random state: 1053\n",
      "filename elect2_kmeans_year/elect2_kmeans_year_output23.txt\n",
      "random state: 1053\n",
      "filename elect2_kmeans_year/elect2_kmeans_year_output24.txt\n",
      "random state: 1053\n",
      "filename elect2_kmeans_year/elect2_kmeans_year_output25.txt\n",
      "random state: 1053\n",
      "filename elect2_kmeans_year/elect2_kmeans_year_output26.txt\n",
      "random state: 1053\n",
      "filename elect2_kmeans_year/elect2_kmeans_year_output27.txt\n",
      "random state: 1053\n",
      "filename elect2_kmeans_year/elect2_kmeans_year_output28.txt\n",
      "random state: 1053\n",
      "filename elect2_kmeans_year/elect2_kmeans_year_output29.txt\n",
      "random state: 1053\n",
      "filename elect2_kmeans_year/elect2_kmeans_year_output30.txt\n",
      "random state: 1053\n",
      "filename elect2_kmeans_year/elect2_kmeans_year_output31.txt\n",
      "random state: 1053\n",
      "filename elect2_kmeans_year/elect2_kmeans_year_output32.txt\n",
      "random state: 1053\n",
      "filename elect2_kmeans_year/elect2_kmeans_year_output33.txt\n",
      "random state: 1053\n",
      "filename elect2_kmeans_year/elect2_kmeans_year_output34.txt\n",
      "random state: 1053\n",
      "filename elect2_kmeans_year/elect2_kmeans_year_output35.txt\n",
      "random state: 1053\n",
      "filename elect2_kmeans_year/elect2_kmeans_year_output36.txt\n",
      "random state: 1053\n",
      "filename elect2_kmeans_year/elect2_kmeans_year_output37.txt\n",
      "random state: 1053\n",
      "filename elect2_kmeans_year/elect2_kmeans_year_output38.txt\n",
      "random state: 1053\n",
      "filename elect2_kmeans_year/elect2_kmeans_year_output39.txt\n",
      "random state: 1053\n",
      "filename elect2_kmeans_year/elect2_kmeans_year_output40.txt\n",
      "random state: 1053\n",
      "{'total_max_iterations': 5, 'total_min_init_inertia': 850.3993918057371, 'total_max_init_inertia': 5408.377348504151, 'total_min_final_inertia': 752.84458321554, 'total_max_final_inertia': 851.0132648920893, 'total_num_convergences': 4100, 'total_num_strict_convergences': 4100, 'total_num_tol_based_convergences': 0}\n"
     ]
    }
   ],
   "source": [
    "kmeans_verbose_helpers.write_kmeans_results_ucdd_helper('elect2_kmeans_year/elect2_kmeans_year_output',\n",
    "                                                        X_ref_batches_year,\n",
    "                                                        n_init=100, max_iter=500, tol=0, random_state=1053)"
   ],
   "metadata": {
    "collapsed": false,
    "pycharm": {
     "name": "#%%\n"
    }
   }
  },
  {
   "cell_type": "markdown",
   "source": [
    "### Use UCDD directly to obtain inspectable results"
   ],
   "metadata": {
    "collapsed": false
   }
  },
  {
   "cell_type": "code",
   "execution_count": 17,
   "outputs": [
    {
     "name": "stdout",
     "output_type": "stream",
     "text": [
      "random_state\n",
      "0\n",
      "pool opened\n",
      "random_state\n",
      "100\n",
      "pool opened\n"
     ]
    }
   ],
   "source": [
    "from core import ucdd\n",
    "import importlib\n",
    "importlib.reload(ucdd)\n",
    "\n",
    "all_2d_drifts_year = []\n",
    "all_2d_cluster_classif_accs_year = []\n",
    "\n",
    "for random_state in [0, 100]:\n",
    "    drifts_2d_arr_year, cluster_classif_accs_2d_arr_year = ucdd.all_drifting_batches_parallel_all_info(\n",
    "        X_ref_batches_year,\n",
    "        X_test_batches_year,\n",
    "        additional_check=True,\n",
    "        n_init=100,\n",
    "        max_iter=5000,\n",
    "        tol=0,\n",
    "        random_state=random_state,\n",
    "        reference_label_batches=y_ref_batches_year,\n",
    "        testing_label_batches=y_test_batches_year\n",
    "    )\n",
    "    all_2d_drifts_year.append(drifts_2d_arr_year)\n",
    "    all_2d_cluster_classif_accs_year.append(cluster_classif_accs_2d_arr_year)\n",
    "\n",
    "result_dict_year = {\n",
    "    'all_2d_drifts_year': all_2d_drifts_year,\n",
    "    'all_2d_cluster_classif_accs_year': all_2d_cluster_classif_accs_year\n",
    "}\n",
    "np.save('elect2_stats_year.npy', result_dict_year)"
   ],
   "metadata": {
    "collapsed": false,
    "pycharm": {
     "name": "#%%\n"
    }
   }
  },
  {
   "cell_type": "code",
   "execution_count": 19,
   "outputs": [
    {
     "name": "stdout",
     "output_type": "stream",
     "text": [
      "resulting dictionary\n",
      "{'all_2d_drifts_year': [array([[ True, False, False, ...,  True,  True,  True],\n",
      "       [False, False, False, ...,  True,  True,  True],\n",
      "       [ True,  True, False, ...,  True,  True,  True],\n",
      "       ...,\n",
      "       [False, False, False, ...,  True,  True,  True],\n",
      "       [False, False, False, ...,  True,  True,  True],\n",
      "       [False, False, False, ...,  True,  True,  True]]), array([[ True, False, False, ...,  True,  True,  True],\n",
      "       [False, False, False, ...,  True,  True,  True],\n",
      "       [ True,  True, False, ...,  True,  True,  True],\n",
      "       ...,\n",
      "       [False, False, False, ...,  True,  True,  True],\n",
      "       [False, False, False, ...,  True,  True,  True],\n",
      "       [False, False, False, ...,  True,  True,  True]])], 'all_2d_cluster_classif_accs_year': [array([[0.53424658, 0.50136986, 0.54109589, ..., 0.5630137 , 0.54109589,\n",
      "        0.56986301],\n",
      "       [0.57260274, 0.53972603, 0.54109589, ..., 0.5630137 , 0.57945205,\n",
      "        0.60821918],\n",
      "       [0.52739726, 0.53561644, 0.52328767, ..., 0.50136986, 0.53424658,\n",
      "        0.5630137 ],\n",
      "       ...,\n",
      "       [0.53150685, 0.50136986, 0.51780822, ..., 0.53972603, 0.53835616,\n",
      "        0.56712329],\n",
      "       [0.58630137, 0.55342466, 0.54794521, ..., 0.56986301, 0.59315068,\n",
      "        0.62191781],\n",
      "       [0.51917808, 0.51369863, 0.52054795, ..., 0.50136986, 0.5260274 ,\n",
      "        0.55479452]]), array([[0.53424658, 0.50136986, 0.54109589, ..., 0.5630137 , 0.54109589,\n",
      "        0.56986301],\n",
      "       [0.57260274, 0.53972603, 0.54109589, ..., 0.5630137 , 0.57945205,\n",
      "        0.60821918],\n",
      "       [0.52739726, 0.53561644, 0.52328767, ..., 0.50136986, 0.53424658,\n",
      "        0.5630137 ],\n",
      "       ...,\n",
      "       [0.53150685, 0.50136986, 0.51780822, ..., 0.53972603, 0.53835616,\n",
      "        0.56712329],\n",
      "       [0.58630137, 0.55342466, 0.54794521, ..., 0.56986301, 0.59315068,\n",
      "        0.62191781],\n",
      "       [0.51917808, 0.51369863, 0.52054795, ..., 0.50136986, 0.5260274 ,\n",
      "        0.55479452]])]}\n",
      "total number of drift detections: 3362\n",
      "number of drift detection differences in the two runs:\n",
      "0\n"
     ]
    }
   ],
   "source": [
    "result_dict_year = np.load('elect2_stats_year.npy', allow_pickle=True).item()\n",
    "print('resulting dictionary')\n",
    "print(result_dict_year)\n",
    "all_2d_drifts_year = result_dict_year['all_2d_drifts_year']\n",
    "print('total number of drift detections:', len(X_ref_batches_year) * len(X_test_batches_year))\n",
    "print('number of drift detection differences in the two runs:')\n",
    "num_diffs = np.sum(all_2d_drifts_year[0] != all_2d_drifts_year[1])\n",
    "print(num_diffs)"
   ],
   "metadata": {
    "collapsed": false,
    "pycharm": {
     "name": "#%%\n"
    }
   }
  },
  {
   "cell_type": "code",
   "execution_count": null,
   "outputs": [],
   "source": [],
   "metadata": {
    "collapsed": false,
    "pycharm": {
     "name": "#%%\n"
    }
   }
  }
 ],
 "metadata": {
  "kernelspec": {
   "display_name": "Python 3",
   "language": "python",
   "name": "python3"
  },
  "language_info": {
   "codemirror_mode": {
    "name": "ipython",
    "version": 2
   },
   "file_extension": ".py",
   "mimetype": "text/x-python",
   "name": "python",
   "nbconvert_exporter": "python",
   "pygments_lexer": "ipython2",
   "version": "2.7.6"
  }
 },
 "nbformat": 4,
 "nbformat_minor": 0
}