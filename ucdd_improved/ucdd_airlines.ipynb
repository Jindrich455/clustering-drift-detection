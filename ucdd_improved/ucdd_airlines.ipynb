{
 "cells": [
  {
   "cell_type": "markdown",
   "metadata": {
    "collapsed": true,
    "pycharm": {
     "name": "#%% md\n"
    }
   },
   "source": [
    "# UCDD on airlines evaluation"
   ]
  },
  {
   "cell_type": "markdown",
   "source": [
    "## Accept and preprocess the airlines dataset"
   ],
   "metadata": {
    "collapsed": false
   }
  },
  {
   "cell_type": "code",
   "execution_count": 8,
   "outputs": [],
   "source": [
    "import csv\n",
    "\n",
    "import numpy as np\n",
    "import pandas as pd\n",
    "import seaborn as sb"
   ],
   "metadata": {
    "collapsed": false,
    "pycharm": {
     "name": "#%%\n"
    }
   }
  },
  {
   "cell_type": "code",
   "execution_count": 9,
   "outputs": [
    {
     "name": "stdout",
     "output_type": "stream",
     "text": [
      "number of unique airlines 18\n"
     ]
    },
    {
     "name": "stderr",
     "output_type": "stream",
     "text": [
      "c:\\users\\jpohl\\pycharmprojects\\clustering-drift-detection\\venv\\lib\\site-packages\\category_encoders\\target_encoder.py:122: FutureWarning: Default parameter min_samples_leaf will change in version 2.6.See https://github.com/scikit-learn-contrib/category_encoders/issues/327\n",
      "  warnings.warn(\"Default parameter min_samples_leaf will change in version 2.6.\"\n",
      "c:\\users\\jpohl\\pycharmprojects\\clustering-drift-detection\\venv\\lib\\site-packages\\category_encoders\\target_encoder.py:127: FutureWarning: Default parameter smoothing will change in version 2.6.See https://github.com/scikit-learn-contrib/category_encoders/issues/327\n",
      "  warnings.warn(\"Default parameter smoothing will change in version 2.6.\"\n"
     ]
    },
    {
     "name": "stdout",
     "output_type": "stream",
     "text": [
      "\n",
      "reference data shape\n",
      "exclude\n",
      "(179794, 3)\n",
      "onehot\n",
      "(179794, 21)\n",
      "target\n",
      "(179794, 4)\n",
      "\n",
      "reference labels shape\n",
      "(179794, 1)\n",
      "\n",
      "testing data shape\n",
      "exclude\n",
      "(359589, 3)\n",
      "onehot\n",
      "(359589, 21)\n",
      "target\n",
      "(359589, 4)\n",
      "\n",
      "testing labels shape\n",
      "(359589, 1)\n"
     ]
    }
   ],
   "source": [
    "from eval_helpers import accepting\n",
    "from category_encoders import TargetEncoder\n",
    "from sklearn.preprocessing import LabelEncoder, OneHotEncoder\n",
    "from sklearn.preprocessing import MinMaxScaler\n",
    "\n",
    "\n",
    "airlines_exclude_reference_batches = []\n",
    "airlines_exclude_testing_batches = []\n",
    "airlines_onehot_reference_batches = []\n",
    "airlines_onehot_testing_batches = []\n",
    "airlines_target_reference_batches = []\n",
    "airlines_target_testing_batches = []\n",
    "\n",
    "\n",
    "df = pd.read_csv(\"../Datasets_concept_drift/real_world_data/airline_dataset.csv\")\n",
    "\n",
    "X = df.drop(columns=['Unnamed: 0', 'Delay'])\n",
    "y = df[\"Delay\"]\n",
    "\n",
    "print('number of unique airlines', df['Airline'].nunique())\n",
    "\n",
    "X_ref = X[:179794]\n",
    "X_test = X[179794:]\n",
    "y_ref = y[:179794]\n",
    "y_test = y[179794:]\n",
    "\n",
    "df_x_ref_num, df_x_ref_cat = accepting.divide_numeric_categorical(X_ref)\n",
    "df_x_test_num, df_x_test_cat = accepting.divide_numeric_categorical(X_test)\n",
    "\n",
    "X_ref_exclude = df_x_ref_num.to_numpy()\n",
    "X_test_exclude = df_x_test_num.to_numpy()\n",
    "scaler = MinMaxScaler()\n",
    "scaler.fit(X_ref_exclude)\n",
    "X_ref_exclude = scaler.transform(X_ref_exclude)\n",
    "X_test_exclude = scaler.transform(X_test_exclude)\n",
    "\n",
    "ref_index = df_x_ref_cat.index\n",
    "test_index = df_x_test_cat.index\n",
    "encoder = TargetEncoder()\n",
    "encoder.fit(df_x_ref_cat, y_ref)\n",
    "df_x_ref_cat_transformed = pd.DataFrame(encoder.transform(df_x_ref_cat))\n",
    "df_x_test_cat_transformed = pd.DataFrame(encoder.transform(df_x_test_cat))\n",
    "df_x_ref_cat_transformed.set_index(ref_index, inplace=True)\n",
    "df_x_test_cat_transformed.set_index(test_index, inplace=True)\n",
    "X_ref_target = df_x_ref_num.join(df_x_ref_cat_transformed, lsuffix='_num').to_numpy()\n",
    "X_test_target = df_x_test_num.join(df_x_test_cat_transformed, lsuffix='_num').to_numpy()\n",
    "scaler = MinMaxScaler()\n",
    "scaler.fit(X_ref_target)\n",
    "X_ref_target = scaler.transform(X_ref_target)\n",
    "X_test_target = scaler.transform(X_test_target)\n",
    "\n",
    "ref_index = df_x_ref_cat.index\n",
    "test_index = df_x_test_cat.index\n",
    "encoder = OneHotEncoder(sparse=False)\n",
    "encoder.fit(df_x_ref_cat)\n",
    "df_x_ref_cat_transformed = pd.DataFrame(encoder.transform(df_x_ref_cat))\n",
    "df_x_test_cat_transformed = pd.DataFrame(encoder.transform(df_x_test_cat))\n",
    "df_x_ref_cat_transformed.set_index(ref_index, inplace=True)\n",
    "df_x_test_cat_transformed.set_index(test_index, inplace=True)\n",
    "X_ref_onehot = df_x_ref_num.join(df_x_ref_cat_transformed, lsuffix='_num').to_numpy()\n",
    "X_test_onehot = df_x_test_num.join(df_x_test_cat_transformed, lsuffix='_num').to_numpy()\n",
    "scaler = MinMaxScaler()\n",
    "scaler.fit(X_ref_onehot)\n",
    "X_ref_onehot = scaler.transform(X_ref_onehot)\n",
    "X_test_onehot = scaler.transform(X_test_onehot)\n",
    "\n",
    "y_ref = y_ref.to_numpy().reshape((len(y_ref.index), 1))\n",
    "y_test = y_test.to_numpy().reshape((len(y_test.index), 1))\n",
    "\n",
    "print('\\nreference data shape')\n",
    "print('exclude')\n",
    "print(X_ref_exclude.shape)\n",
    "print('onehot')\n",
    "print(X_ref_onehot.shape)\n",
    "print('target')\n",
    "print(X_ref_target.shape)\n",
    "\n",
    "print('\\nreference labels shape')\n",
    "print(y_ref.shape)\n",
    "\n",
    "print('\\ntesting data shape')\n",
    "print('exclude')\n",
    "print(X_test_exclude.shape)\n",
    "print('onehot')\n",
    "print(X_test_onehot.shape)\n",
    "print('target')\n",
    "print(X_test_target.shape)\n",
    "\n",
    "print('\\ntesting labels shape')\n",
    "print(y_test.shape)"
   ],
   "metadata": {
    "collapsed": false,
    "pycharm": {
     "name": "#%%\n"
    }
   }
  },
  {
   "cell_type": "markdown",
   "source": [
    "## Split data to batches (size=17000)"
   ],
   "metadata": {
    "collapsed": false,
    "pycharm": {
     "name": "#%% md\n"
    }
   }
  },
  {
   "cell_type": "code",
   "execution_count": 10,
   "outputs": [
    {
     "name": "stdout",
     "output_type": "stream",
     "text": [
      "[[0.79736303 0.46256123 0.05496183]\n",
      " [0.8766001  0.46256123 0.05801527]\n",
      " [0.89247312 0.46256123 0.22748092]\n",
      " ...\n",
      " [0.12839222 0.563331   0.22137405]\n",
      " [0.15245776 0.563331   0.24427481]\n",
      " [0.20302099 0.563331   0.08396947]]\n",
      "(17000, 3)\n",
      "[[0.0343062  0.00349895 0.3129771 ]\n",
      " [0.19930876 0.00349895 0.3389313 ]\n",
      " [0.30709165 0.0069979  0.2519084 ]\n",
      " ...\n",
      " [0.42524322 0.88523443 0.18320611]\n",
      " [0.28046595 0.88523443 0.12977099]\n",
      " [0.38082437 0.88523443 0.17251908]]\n",
      "(17000, 3)\n",
      "[[0.79736303 0.46256123 0.05496183 ... 0.         0.         0.        ]\n",
      " [0.8766001  0.46256123 0.05801527 ... 0.         0.         0.        ]\n",
      " [0.89247312 0.46256123 0.22748092 ... 0.         0.         0.        ]\n",
      " ...\n",
      " [0.12839222 0.563331   0.22137405 ... 0.         0.         0.        ]\n",
      " [0.15245776 0.563331   0.24427481 ... 0.         0.         0.        ]\n",
      " [0.20302099 0.563331   0.08396947 ... 0.         0.         0.        ]]\n",
      "(17000, 21)\n",
      "[[0.0343062  0.00349895 0.3129771  ... 0.         0.         0.        ]\n",
      " [0.19930876 0.00349895 0.3389313  ... 0.         0.         0.        ]\n",
      " [0.30709165 0.0069979  0.2519084  ... 0.         0.         0.        ]\n",
      " ...\n",
      " [0.42524322 0.88523443 0.18320611 ... 1.         0.         0.        ]\n",
      " [0.28046595 0.88523443 0.12977099 ... 0.         1.         0.        ]\n",
      " [0.38082437 0.88523443 0.17251908 ... 0.         1.         0.        ]]\n",
      "(17000, 21)\n",
      "[[0.79736303 0.46256123 0.05496183 0.4817961 ]\n",
      " [0.8766001  0.46256123 0.05801527 0.4817961 ]\n",
      " [0.89247312 0.46256123 0.22748092 0.4817961 ]\n",
      " ...\n",
      " [0.12839222 0.563331   0.22137405 0.36543251]\n",
      " [0.15245776 0.563331   0.24427481 0.36543251]\n",
      " [0.20302099 0.563331   0.08396947 0.36543251]]\n",
      "(17000, 4)\n",
      "[[0.0343062  0.00349895 0.3129771  0.65821603]\n",
      " [0.19930876 0.00349895 0.3389313  0.22004826]\n",
      " [0.30709165 0.0069979  0.2519084  0.36543251]\n",
      " ...\n",
      " [0.42524322 0.88523443 0.18320611 1.        ]\n",
      " [0.28046595 0.88523443 0.12977099 0.26603767]\n",
      " [0.38082437 0.88523443 0.17251908 0.26603767]]\n",
      "(17000, 4)\n",
      "number of resulting testing batches\n",
      "exclude\n",
      "21\n",
      "onehot\n",
      "21\n",
      "target\n",
      "21\n",
      "labels\n",
      "21\n",
      "number of resulting reference batches\n",
      "exclude\n",
      "10\n",
      "onehot\n",
      "10\n",
      "target\n",
      "10\n",
      "labels\n",
      "10\n"
     ]
    }
   ],
   "source": [
    "from eval_helpers import helpers\n",
    "import importlib\n",
    "importlib.reload(helpers)\n",
    "\n",
    "X_test_batches_exclude, y_test_batches = helpers.split_to_fixed_size_batches(X_test_exclude, y_test, batch_size=17000)\n",
    "X_ref_batches_exclude, y_ref_batches = helpers.split_to_fixed_size_batches(X_ref_exclude, y_ref, batch_size=17000)\n",
    "X_test_batches_onehot, _ = helpers.split_to_fixed_size_batches(X_test_onehot, y_test, batch_size=17000)\n",
    "X_ref_batches_onehot, _ = helpers.split_to_fixed_size_batches(X_ref_onehot, y_ref, batch_size=17000)\n",
    "X_test_batches_target, _ = helpers.split_to_fixed_size_batches(X_test_target, y_test, batch_size=17000)\n",
    "X_ref_batches_target, _ = helpers.split_to_fixed_size_batches(X_ref_target, y_ref, batch_size=17000)\n",
    "\n",
    "print('number of resulting testing batches')\n",
    "print('exclude')\n",
    "print(len(X_test_batches_exclude))\n",
    "print('onehot')\n",
    "print(len(X_test_batches_onehot))\n",
    "print('target')\n",
    "print(len(X_test_batches_target))\n",
    "print('labels')\n",
    "print(len(y_test_batches))\n",
    "\n",
    "print('number of resulting reference batches')\n",
    "print('exclude')\n",
    "print(len(X_ref_batches_exclude))\n",
    "print('onehot')\n",
    "print(len(X_ref_batches_onehot))\n",
    "print('target')\n",
    "print(len(X_ref_batches_target))\n",
    "print('labels')\n",
    "print(len(y_ref_batches))"
   ],
   "metadata": {
    "collapsed": false,
    "pycharm": {
     "name": "#%%\n"
    }
   }
  },
  {
   "cell_type": "markdown",
   "source": [
    "## Imports"
   ],
   "metadata": {
    "collapsed": false
   }
  },
  {
   "cell_type": "code",
   "execution_count": 11,
   "outputs": [
    {
     "name": "stdout",
     "output_type": "stream",
     "text": [
      "something\n",
      "something\n"
     ]
    },
    {
     "data": {
      "text/plain": "<module 'eval_helpers.kmeans_verbose_helpers' from 'C:\\\\Users\\\\jpohl\\\\PycharmProjects\\\\clustering-drift-detection\\\\ucdd_improved\\\\eval_helpers\\\\kmeans_verbose_helpers.py'>"
     },
     "execution_count": 11,
     "metadata": {},
     "output_type": "execute_result"
    }
   ],
   "source": [
    "import importlib\n",
    "from eval_helpers import ucdd_eval_real_world\n",
    "from eval_helpers import kmeans_verbose_helpers\n",
    "from core import ucdd_supported_parameters as spms\n",
    "from core import ucdd\n",
    "importlib.reload(ucdd_eval_real_world)\n",
    "importlib.reload(ucdd)\n",
    "importlib.reload(kmeans_verbose_helpers)"
   ],
   "metadata": {
    "collapsed": false,
    "pycharm": {
     "name": "#%%\n"
    }
   }
  },
  {
   "cell_type": "markdown",
   "source": [
    "## Experiments with target encoding"
   ],
   "metadata": {
    "collapsed": false,
    "pycharm": {
     "name": "#%% md\n"
    }
   }
  },
  {
   "cell_type": "markdown",
   "source": [
    "### Find suitable KMeans clustering parameters"
   ],
   "metadata": {
    "collapsed": false
   }
  },
  {
   "cell_type": "code",
   "execution_count": 25,
   "outputs": [
    {
     "name": "stdout",
     "output_type": "stream",
     "text": [
      "filename airlines_kmeans_target/airlines_kmeans_target_output0.txt\n",
      "random state: 1053\n",
      "filename airlines_kmeans_target/airlines_kmeans_target_output1.txt\n",
      "random state: 1053\n",
      "filename airlines_kmeans_target/airlines_kmeans_target_output2.txt\n",
      "random state: 1053\n",
      "filename airlines_kmeans_target/airlines_kmeans_target_output3.txt\n",
      "random state: 1053\n",
      "filename airlines_kmeans_target/airlines_kmeans_target_output4.txt\n",
      "random state: 1053\n",
      "filename airlines_kmeans_target/airlines_kmeans_target_output5.txt\n",
      "random state: 1053\n",
      "filename airlines_kmeans_target/airlines_kmeans_target_output6.txt\n",
      "random state: 1053\n",
      "filename airlines_kmeans_target/airlines_kmeans_target_output7.txt\n",
      "random state: 1053\n",
      "filename airlines_kmeans_target/airlines_kmeans_target_output8.txt\n",
      "random state: 1053\n",
      "filename airlines_kmeans_target/airlines_kmeans_target_output9.txt\n",
      "random state: 1053\n",
      "{'total_max_iterations': 42, 'total_min_init_inertia': 4637.488648502701, 'total_max_init_inertia': 12548.678845293836, 'total_min_final_inertia': 4296.967267770373, 'total_max_final_inertia': 5039.664439430261, 'total_num_convergences': 1000, 'total_num_strict_convergences': 1000, 'total_num_tol_based_convergences': 0}\n"
     ]
    }
   ],
   "source": [
    "kmeans_verbose_helpers.write_kmeans_results_ucdd_helper('airlines_kmeans_target/airlines_kmeans_target_output',\n",
    "                                                        X_ref_batches_target,\n",
    "                                                        n_init=100, max_iter=500, tol=0, random_state=1053)\n"
   ],
   "metadata": {
    "collapsed": false,
    "pycharm": {
     "name": "#%%\n"
    }
   }
  },
  {
   "cell_type": "markdown",
   "source": [
    "### Use UCDD directly to obtain inspectable results"
   ],
   "metadata": {
    "collapsed": false,
    "pycharm": {
     "name": "#%% md\n"
    }
   }
  },
  {
   "cell_type": "code",
   "execution_count": 32,
   "outputs": [
    {
     "name": "stdout",
     "output_type": "stream",
     "text": [
      "random_state\n",
      "0\n",
      "pool opened\n",
      "random_state\n",
      "100\n",
      "pool opened\n"
     ]
    }
   ],
   "source": [
    "from core import ucdd\n",
    "import importlib\n",
    "importlib.reload(ucdd)\n",
    "\n",
    "all_2d_drifts_target = []\n",
    "all_2d_cluster_classif_accs_target = []\n",
    "\n",
    "for random_state in [0, 100]:\n",
    "    drifts_2d_arr_target, cluster_classif_accs_2d_arr_target = ucdd.all_drifting_batches_parallel_all_info(\n",
    "        X_ref_batches_target,\n",
    "        X_test_batches_target,\n",
    "        additional_check=True,\n",
    "        n_init=100,\n",
    "        max_iter=42000,\n",
    "        tol=0,\n",
    "        random_state=random_state,\n",
    "        reference_label_batches=y_ref_batches,\n",
    "        testing_label_batches=y_test_batches\n",
    "    )\n",
    "    all_2d_drifts_target.append(drifts_2d_arr_target)\n",
    "    all_2d_cluster_classif_accs_target.append(cluster_classif_accs_2d_arr_target)\n",
    "\n",
    "result_dict_target = {\n",
    "    'all_2d_drifts_target': all_2d_drifts_target,\n",
    "    'all_2d_cluster_classif_accs_target': all_2d_cluster_classif_accs_target\n",
    "}\n",
    "np.save('airlines_stats_target.npy', result_dict_target)"
   ],
   "metadata": {
    "collapsed": false,
    "pycharm": {
     "name": "#%%\n"
    }
   }
  },
  {
   "cell_type": "code",
   "execution_count": 6,
   "outputs": [
    {
     "name": "stdout",
     "output_type": "stream",
     "text": [
      "total number of drift detections: 210\n",
      "number of drift detection differences in the two runs:\n",
      "0\n",
      "mean class estimate accuracy\n",
      "0.6397285714285715\n"
     ]
    }
   ],
   "source": [
    "result_dict_target = np.load('airlines_stats_target.npy', allow_pickle=True).item()\n",
    "all_2d_drifts_target = result_dict_target['all_2d_drifts_target']\n",
    "print('total number of drift detections:', len(X_ref_batches_target) * len(X_test_batches_target))\n",
    "print('number of drift detection differences in the two runs:')\n",
    "num_diffs = np.sum(all_2d_drifts_target[0] != all_2d_drifts_target[1])\n",
    "print(num_diffs)\n",
    "print('mean class estimate accuracy')\n",
    "print(np.mean(result_dict_target['all_2d_cluster_classif_accs_target']))\n"
   ],
   "metadata": {
    "collapsed": false,
    "pycharm": {
     "name": "#%%\n"
    }
   }
  },
  {
   "cell_type": "markdown",
   "source": [
    "### Read the defined target drift locations"
   ],
   "metadata": {
    "collapsed": false
   }
  },
  {
   "cell_type": "code",
   "execution_count": 15,
   "outputs": [
    {
     "name": "stdout",
     "output_type": "stream",
     "text": [
      "['False', ' True', ' True', ' True', ' True', ' True', ' True', ' True', ' True', ' True', ' True', ' True', ' True', ' True', ' True', ' True', ' True', ' True', ' True', ' True', ' True', ' True']\n",
      "[False, True, True, True, True, True, True, True, True, True, True, True, True, True, True, True, True, True, True, True, True]\n"
     ]
    }
   ],
   "source": [
    "import csv\n",
    "# onehot_def_dict = np.load('../Datasets_concept_drift/real_world_data_drifts/airlines/airlines_onehot_def_dict.npy',\n",
    "#                           allow_pickle=True).item()\n",
    "# print(onehot_def_dict)\n",
    "# true_drift_bool_onehot = onehot_def_dict['defined_drifts'][:-1]\n",
    "with open('../Datasets_concept_drift/real_world_data_drifts/airlines/airlines_target_time.csv') as f:\n",
    "    rdr = csv.reader(f, delimiter=',')\n",
    "    true_drift_bool_target = rdr.__next__()\n",
    "    print(true_drift_bool_target)\n",
    "    true_drift_bool_target = [v.strip() == 'True' for v in true_drift_bool_target][:-1]\n",
    "\n",
    "print(true_drift_bool_target)\n"
   ],
   "metadata": {
    "collapsed": false,
    "pycharm": {
     "name": "#%%\n"
    }
   }
  },
  {
   "cell_type": "markdown",
   "source": [
    "### Use the drift locations and multiple values of min_ref_batches_drift to observe the algorithm performance"
   ],
   "metadata": {
    "collapsed": false
   }
  },
  {
   "cell_type": "code",
   "execution_count": 17,
   "outputs": [
    {
     "name": "stdout",
     "output_type": "stream",
     "text": [
      "total number of reference batches\n",
      "10\n",
      "[[False False False False False  True  True False False  True False  True\n",
      "   True False False False  True  True  True  True  True]\n",
      " [ True False  True False False False False False False False False False\n",
      "  False False False False False False False False False]\n",
      " [False False False False False False False False False False False False\n",
      "  False False False False False False  True False False]\n",
      " [False False False False  True  True  True  True  True  True  True  True\n",
      "   True  True  True  True  True  True  True  True  True]\n",
      " [False False False False False  True  True False False  True  True  True\n",
      "   True  True False False  True  True  True  True  True]\n",
      " [ True False False False False False False False False False False False\n",
      "  False False False False False False False False False]\n",
      " [False False False False False  True  True False False  True  True  True\n",
      "   True  True False False  True  True  True  True  True]\n",
      " [False False False False False  True  True  True False  True  True  True\n",
      "   True  True False False  True  True  True  True  True]\n",
      " [False False False False False False False False False False False False\n",
      "  False False False False False False  True False False]\n",
      " [False False False False False False False False False False False False\n",
      "  False False False False False False  True False False]]\n",
      "[ True False  True False  True  True  True  True  True  True  True  True\n",
      "  True  True  True  True  True  True  True  True  True]\n",
      "[False, True, True, True, True, True, True, True, True, True, True, True, True, True, True, True, True, True, True, True, True]\n",
      "fpr: 1.0 acc: 0.9\n",
      "[ True False False False False  True  True  True False  True  True  True\n",
      "  True  True False False  True  True  True  True  True]\n",
      "[False, True, True, True, True, True, True, True, True, True, True, True, True, True, True, True, True, True, True, True, True]\n",
      "fpr: 1.0 acc: 0.65\n",
      "[False False False False False  True  True False False  True  True  True\n",
      "  True  True False False  True  True  True  True  True]\n",
      "[False, True, True, True, True, True, True, True, True, True, True, True, True, True, True, True, True, True, True, True, True]\n",
      "fpr: 0.0 acc: 0.6\n",
      "[False False False False False  True  True False False  True  True  True\n",
      "  True  True False False  True  True  True  True  True]\n",
      "[False, True, True, True, True, True, True, True, True, True, True, True, True, True, True, True, True, True, True, True, True]\n",
      "fpr: 0.0 acc: 0.6\n",
      "[False False False False False  True  True False False  True False  True\n",
      "  True False False False  True  True  True  True  True]\n",
      "[False, True, True, True, True, True, True, True, True, True, True, True, True, True, True, True, True, True, True, True, True]\n",
      "fpr: 0.0 acc: 0.5\n",
      "[False False False False False False False False False False False False\n",
      " False False False False False False  True False False]\n",
      "[False, True, True, True, True, True, True, True, True, True, True, True, True, True, True, True, True, True, True, True, True]\n",
      "fpr: 0.0 acc: 0.05\n",
      "[False False False False False False False False False False False False\n",
      " False False False False False False  True False False]\n",
      "[False, True, True, True, True, True, True, True, True, True, True, True, True, True, True, True, True, True, True, True, True]\n",
      "fpr: 0.0 acc: 0.05\n",
      "[False False False False False False False False False False False False\n",
      " False False False False False False  True False False]\n",
      "[False, True, True, True, True, True, True, True, True, True, True, True, True, True, True, True, True, True, True, True, True]\n",
      "fpr: 0.0 acc: 0.05\n",
      "[False False False False False False False False False False False False\n",
      " False False False False False False False False False]\n",
      "[False, True, True, True, True, True, True, True, True, True, True, True, True, True, True, True, True, True, True, True, True]\n",
      "fpr: 0.0 acc: 0.0\n",
      "[False False False False False False False False False False False False\n",
      " False False False False False False False False False]\n",
      "[False, True, True, True, True, True, True, True, True, True, True, True, True, True, True, True, True, True, True, True, True]\n",
      "fpr: 0.0 acc: 0.0\n",
      "[1.e-16 1.e-01 2.e-01 3.e-01 4.e-01 5.e-01 6.e-01 7.e-01 8.e-01 9.e-01]\n",
      "[1.0, 1.0, 0.0, 0.0, 0.0, 0.0, 0.0, 0.0, 0.0, 0.0]\n",
      "[0.9, 0.65, 0.6, 0.6, 0.5, 0.05, 0.05, 0.05, 0.0, 0.0]\n"
     ]
    }
   ],
   "source": [
    "import importlib\n",
    "import csv\n",
    "importlib.reload(ucdd_eval_real_world)\n",
    "\n",
    "print('total number of reference batches')\n",
    "print(len(X_ref_batches_target))\n",
    "\n",
    "one_run_target = result_dict_target['all_2d_drifts_target'][0]\n",
    "print(one_run_target)\n",
    "\n",
    "mrbds_target = np.concatenate(([1e-16], np.arange(0.1, 1, 0.1)))\n",
    "\n",
    "fprs, accs = ucdd_eval_real_world.results_multiple_min_ref_batches_drift(\n",
    "    mrbds_target,\n",
    "    one_run_target,\n",
    "    true_drift_bool_target\n",
    ")\n",
    "\n",
    "print(mrbds_target)\n",
    "print(fprs)\n",
    "print(accs)\n",
    "\n",
    "with open('ucdd_airlines_results_target.csv', 'w', newline='') as f:\n",
    "    wrtr = csv.writer(f)\n",
    "    wrtr.writerow(['mrbd', 'fpr', 'acc'])\n",
    "    for i in range(len(mrbds_target)):\n",
    "        wrtr.writerow([mrbds_target[i], fprs[i], accs[i]])\n"
   ],
   "metadata": {
    "collapsed": false,
    "pycharm": {
     "name": "#%%\n"
    }
   }
  },
  {
   "cell_type": "markdown",
   "source": [
    "### Use them for the evaluation"
   ],
   "metadata": {
    "collapsed": false,
    "pycharm": {
     "name": "#%% md\n"
    }
   }
  },
  {
   "cell_type": "code",
   "execution_count": 5,
   "outputs": [
    {
     "name": "stdout",
     "output_type": "stream",
     "text": [
      "random_state\n",
      "0\n",
      "random_state\n",
      "100\n",
      "target detection list\n",
      "[[False, False, False, False, False, False, False, False, False, False, False, False, False, False, False, False, False, False, True, False, False], [False, False, False, False, False, False, False, False, False, False, False, False, False, False, False, False, False, False, True, False, False]]\n",
      "execution time\n",
      "229.92048907279968\n"
     ]
    }
   ],
   "source": [
    "import time\n",
    "import random\n",
    "from ucdd_improved.core import ucdd\n",
    "import csv\n",
    "importlib.reload(ucdd)\n",
    "\n",
    "# # because of time constraints, only use 20% of all reference batches\n",
    "# print('number of reference batches')\n",
    "# print(len(X_ref_batches_target))\n",
    "# num_ref_batches_to_use = int(0.2 * len(X_ref_batches_target))\n",
    "#\n",
    "# random.seed(0)\n",
    "# X_ref_batches_target_choice = random.sample(X_ref_batches_target, num_ref_batches_to_use)\n",
    "# print('number of batches in the choice')\n",
    "# print(len(X_ref_batches_target_choice))\n",
    "# print(X_ref_batches_target_choice)\n",
    "\n",
    "target_detection_list = []\n",
    "start_time = time.time()\n",
    "for first_random_state in [0, 100]:\n",
    "    drifts_detected = ucdd.all_drifting_batches_parallel(\n",
    "        X_ref_batches_target,\n",
    "        X_test_batches_target,\n",
    "        min_ref_batches_drift=0.3,\n",
    "        additional_check=True,\n",
    "        n_init=100,\n",
    "        max_iter=42000,\n",
    "        tol=0,\n",
    "        random_state=first_random_state\n",
    "    )\n",
    "    target_detection_list.append(drifts_detected)\n",
    "\n",
    "print('target detection list')\n",
    "print(target_detection_list)\n",
    "print('execution time')\n",
    "print(time.time() - start_time)\n",
    "with open('airlines_target.csv', 'w') as f:\n",
    "    wrtr = csv.writer(f)\n",
    "    wrtr.writerows(target_detection_list)"
   ],
   "metadata": {
    "collapsed": false,
    "pycharm": {
     "name": "#%%\n"
    }
   }
  },
  {
   "cell_type": "markdown",
   "source": [
    "## Experiments with onehot encoding"
   ],
   "metadata": {
    "collapsed": false
   }
  },
  {
   "cell_type": "markdown",
   "source": [
    "### Find suitable KMeans clustering parameters"
   ],
   "metadata": {
    "collapsed": false
   }
  },
  {
   "cell_type": "code",
   "execution_count": 26,
   "outputs": [
    {
     "name": "stdout",
     "output_type": "stream",
     "text": [
      "filename airlines_kmeans_onehot/airlines_kmeans_onehot_output0.txt\n",
      "random state: 1053\n",
      "filename airlines_kmeans_onehot/airlines_kmeans_onehot_output1.txt\n",
      "random state: 1053\n",
      "filename airlines_kmeans_onehot/airlines_kmeans_onehot_output2.txt\n",
      "random state: 1053\n",
      "filename airlines_kmeans_onehot/airlines_kmeans_onehot_output3.txt\n",
      "random state: 1053\n",
      "filename airlines_kmeans_onehot/airlines_kmeans_onehot_output4.txt\n",
      "random state: 1053\n",
      "filename airlines_kmeans_onehot/airlines_kmeans_onehot_output5.txt\n",
      "random state: 1053\n",
      "filename airlines_kmeans_onehot/airlines_kmeans_onehot_output6.txt\n",
      "random state: 1053\n",
      "filename airlines_kmeans_onehot/airlines_kmeans_onehot_output7.txt\n",
      "random state: 1053\n",
      "filename airlines_kmeans_onehot/airlines_kmeans_onehot_output8.txt\n",
      "random state: 1053\n",
      "filename airlines_kmeans_onehot/airlines_kmeans_onehot_output9.txt\n",
      "random state: 1053\n",
      "{'total_max_iterations': 16, 'total_min_init_inertia': 51567.30607214207, 'total_max_init_inertia': 71575.79111583055, 'total_min_final_inertia': 29377.130552877377, 'total_max_final_inertia': 33896.98754005208, 'total_num_convergences': 1000, 'total_num_strict_convergences': 1000, 'total_num_tol_based_convergences': 0}\n"
     ]
    }
   ],
   "source": [
    "kmeans_verbose_helpers.write_kmeans_results_ucdd_helper('airlines_kmeans_onehot/airlines_kmeans_onehot_output',\n",
    "                                                        X_ref_batches_onehot,\n",
    "                                                        n_init=100, max_iter=500, tol=0, random_state=1053)\n"
   ],
   "metadata": {
    "collapsed": false,
    "pycharm": {
     "name": "#%%\n"
    }
   }
  },
  {
   "cell_type": "markdown",
   "source": [
    "### Use UCDD directly to obtain inspectable results"
   ],
   "metadata": {
    "collapsed": false
   }
  },
  {
   "cell_type": "code",
   "execution_count": 34,
   "outputs": [
    {
     "name": "stdout",
     "output_type": "stream",
     "text": [
      "random_state\n",
      "0\n",
      "pool opened\n",
      "random_state\n",
      "100\n",
      "pool opened\n"
     ]
    }
   ],
   "source": [
    "from core import ucdd\n",
    "import importlib\n",
    "importlib.reload(ucdd)\n",
    "\n",
    "all_2d_drifts_onehot = []\n",
    "all_2d_cluster_classif_accs_onehot = []\n",
    "\n",
    "for random_state in [0, 100]:\n",
    "    drifts_2d_arr_onehot, cluster_classif_accs_2d_arr_onehot = ucdd.all_drifting_batches_parallel_all_info(\n",
    "        X_ref_batches_onehot,\n",
    "        X_test_batches_onehot,\n",
    "        additional_check=True,\n",
    "        n_init=100,\n",
    "        max_iter=16000,\n",
    "        tol=0,\n",
    "        random_state=random_state,\n",
    "        reference_label_batches=y_ref_batches,\n",
    "        testing_label_batches=y_test_batches\n",
    "    )\n",
    "    all_2d_drifts_onehot.append(drifts_2d_arr_onehot)\n",
    "    all_2d_cluster_classif_accs_onehot.append(cluster_classif_accs_2d_arr_onehot)\n",
    "\n",
    "result_dict_onehot = {\n",
    "    'all_2d_drifts_onehot': all_2d_drifts_onehot,\n",
    "    'all_2d_cluster_classif_accs_onehot': all_2d_cluster_classif_accs_onehot\n",
    "}\n",
    "np.save('airlines_stats_onehot.npy', result_dict_onehot)"
   ],
   "metadata": {
    "collapsed": false,
    "pycharm": {
     "name": "#%%\n"
    }
   }
  },
  {
   "cell_type": "code",
   "execution_count": 19,
   "outputs": [
    {
     "name": "stdout",
     "output_type": "stream",
     "text": [
      "total number of drift detections: 210\n",
      "number of drift detection differences in the two runs:\n",
      "0\n",
      "mean class estimate accuracy\n",
      "0.6370978991596639\n",
      "[[ True  True False False False  True  True  True  True  True  True False\n",
      "  False  True  True  True False False  True  True  True]\n",
      " [False False False False False False  True  True  True  True  True False\n",
      "  False  True  True  True  True  True False  True  True]\n",
      " [False False False False False False  True  True  True  True  True False\n",
      "  False  True  True  True  True False False False False]\n",
      " [False False False False False False False  True False False False False\n",
      "  False  True  True False False  True False False False]\n",
      " [False False False False False False False  True False False False False\n",
      "  False  True  True False False  True False False False]\n",
      " [False False False False False False  True  True  True  True  True False\n",
      "  False  True  True  True  True  True  True  True  True]\n",
      " [ True False False False False False  True  True False  True False False\n",
      "  False  True  True  True False False False False  True]\n",
      " [False False False False False False  True  True False  True False False\n",
      "  False  True  True  True False False False False  True]\n",
      " [False False False False False False  True  True  True  True  True False\n",
      "  False  True  True  True  True False False False False]\n",
      " [False False False False False False  True  True  True  True  True False\n",
      "  False  True  True  True False False  True False False]]\n"
     ]
    }
   ],
   "source": [
    "result_dict_onehot = np.load('airlines_stats_onehot.npy', allow_pickle=True).item()\n",
    "all_2d_drifts_onehot = result_dict_onehot['all_2d_drifts_onehot']\n",
    "print('total number of drift detections:', len(X_ref_batches_onehot) * len(X_test_batches_onehot))\n",
    "print('number of drift detection differences in the two runs:')\n",
    "num_diffs = np.sum(all_2d_drifts_onehot[0] != all_2d_drifts_onehot[1])\n",
    "print(num_diffs)\n",
    "print('mean class estimate accuracy')\n",
    "print(np.mean(result_dict_onehot['all_2d_cluster_classif_accs_onehot']))"
   ],
   "metadata": {
    "collapsed": false,
    "pycharm": {
     "name": "#%%\n"
    }
   }
  },
  {
   "cell_type": "markdown",
   "source": [
    "### Read the defined one-hot drift locations"
   ],
   "metadata": {
    "collapsed": false
   }
  },
  {
   "cell_type": "code",
   "execution_count": 20,
   "outputs": [
    {
     "name": "stdout",
     "output_type": "stream",
     "text": [
      "['False', ' True', ' True', ' True', ' True', ' True', ' True', ' True', ' True', ' True', ' True', ' True', ' True', ' True', ' True', ' True', ' True', ' True', ' True', ' True', ' True', ' True']\n",
      "[False, True, True, True, True, True, True, True, True, True, True, True, True, True, True, True, True, True, True, True, True]\n"
     ]
    }
   ],
   "source": [
    "import csv\n",
    "# onehot_def_dict = np.load('../Datasets_concept_drift/real_world_data_drifts/airlines/airlines_onehot_def_dict.npy',\n",
    "#                           allow_pickle=True).item()\n",
    "# print(onehot_def_dict)\n",
    "# true_drift_bool_onehot = onehot_def_dict['defined_drifts'][:-1]\n",
    "with open('../Datasets_concept_drift/real_world_data_drifts/airlines/airlines_onehot_time.csv') as f:\n",
    "    rdr = csv.reader(f, delimiter=',')\n",
    "    true_drift_bool_onehot = rdr.__next__()\n",
    "    print(true_drift_bool_onehot)\n",
    "    true_drift_bool_onehot = [v.strip() == 'True' for v in true_drift_bool_onehot][:-1]\n",
    "\n",
    "print(true_drift_bool_onehot)\n"
   ],
   "metadata": {
    "collapsed": false,
    "pycharm": {
     "name": "#%%\n"
    }
   }
  },
  {
   "cell_type": "markdown",
   "source": [
    "### Use the drift locations and multiple values of min_ref_batches_drift to observe the algorithm performance"
   ],
   "metadata": {
    "collapsed": false
   }
  },
  {
   "cell_type": "code",
   "execution_count": 21,
   "outputs": [
    {
     "name": "stdout",
     "output_type": "stream",
     "text": [
      "total number of reference batches\n",
      "10\n",
      "[[ True  True False False False  True  True  True  True  True  True False\n",
      "  False  True  True  True False False  True  True  True]\n",
      " [False False False False False False  True  True  True  True  True False\n",
      "  False  True  True  True  True  True False  True  True]\n",
      " [False False False False False False  True  True  True  True  True False\n",
      "  False  True  True  True  True False False False False]\n",
      " [False False False False False False False  True False False False False\n",
      "  False  True  True False False  True False False False]\n",
      " [False False False False False False False  True False False False False\n",
      "  False  True  True False False  True False False False]\n",
      " [False False False False False False  True  True  True  True  True False\n",
      "  False  True  True  True  True  True  True  True  True]\n",
      " [ True False False False False False  True  True False  True False False\n",
      "  False  True  True  True False False False False  True]\n",
      " [False False False False False False  True  True False  True False False\n",
      "  False  True  True  True False False False False  True]\n",
      " [False False False False False False  True  True  True  True  True False\n",
      "  False  True  True  True  True False False False False]\n",
      " [False False False False False False  True  True  True  True  True False\n",
      "  False  True  True  True False False  True False False]]\n",
      "[ True  True False False False  True  True  True  True  True  True False\n",
      " False  True  True  True  True  True  True  True  True]\n",
      "[False, True, True, True, True, True, True, True, True, True, True, True, True, True, True, True, True, True, True, True, True]\n",
      "fpr: 1.0 acc: 0.75\n",
      "[ True False False False False False  True  True  True  True  True False\n",
      " False  True  True  True  True  True  True  True  True]\n",
      "[False, True, True, True, True, True, True, True, True, True, True, True, True, True, True, True, True, True, True, True, True]\n",
      "fpr: 1.0 acc: 0.65\n",
      "[False False False False False False  True  True  True  True  True False\n",
      " False  True  True  True  True  True  True  True  True]\n",
      "[False, True, True, True, True, True, True, True, True, True, True, True, True, True, True, True, True, True, True, True, True]\n",
      "fpr: 0.0 acc: 0.65\n",
      "[False False False False False False  True  True  True  True  True False\n",
      " False  True  True  True  True  True False False  True]\n",
      "[False, True, True, True, True, True, True, True, True, True, True, True, True, True, True, True, True, True, True, True, True]\n",
      "fpr: 0.0 acc: 0.55\n",
      "[False False False False False False  True  True  True  True  True False\n",
      " False  True  True  True False False False False  True]\n",
      "[False, True, True, True, True, True, True, True, True, True, True, True, True, True, True, True, True, True, True, True, True]\n",
      "fpr: 0.0 acc: 0.45\n",
      "[False False False False False False  True  True  True  True  True False\n",
      " False  True  True  True False False False False False]\n",
      "[False, True, True, True, True, True, True, True, True, True, True, True, True, True, True, True, True, True, True, True, True]\n",
      "fpr: 0.0 acc: 0.4\n",
      "[False False False False False False  True  True False  True False False\n",
      " False  True  True  True False False False False False]\n",
      "[False, True, True, True, True, True, True, True, True, True, True, True, True, True, True, True, True, True, True, True, True]\n",
      "fpr: 0.0 acc: 0.3\n",
      "[False False False False False False  True  True False  True False False\n",
      " False  True  True  True False False False False False]\n",
      "[False, True, True, True, True, True, True, True, True, True, True, True, True, True, True, True, True, True, True, True, True]\n",
      "fpr: 0.0 acc: 0.3\n",
      "[False False False False False False False  True False False False False\n",
      " False  True  True False False False False False False]\n",
      "[False, True, True, True, True, True, True, True, True, True, True, True, True, True, True, True, True, True, True, True, True]\n",
      "fpr: 0.0 acc: 0.15\n",
      "[False False False False False False False  True False False False False\n",
      " False  True  True False False False False False False]\n",
      "[False, True, True, True, True, True, True, True, True, True, True, True, True, True, True, True, True, True, True, True, True]\n",
      "fpr: 0.0 acc: 0.15\n",
      "[1.e-16 1.e-01 2.e-01 3.e-01 4.e-01 5.e-01 6.e-01 7.e-01 8.e-01 9.e-01]\n",
      "[1.0, 1.0, 0.0, 0.0, 0.0, 0.0, 0.0, 0.0, 0.0, 0.0]\n",
      "[0.75, 0.65, 0.65, 0.55, 0.45, 0.4, 0.3, 0.3, 0.15, 0.15]\n"
     ]
    }
   ],
   "source": [
    "import importlib\n",
    "import csv\n",
    "importlib.reload(ucdd_eval_real_world)\n",
    "\n",
    "print('total number of reference batches')\n",
    "print(len(X_ref_batches_onehot))\n",
    "\n",
    "one_run_onehot = result_dict_onehot['all_2d_drifts_onehot'][0]\n",
    "print(one_run_onehot)\n",
    "\n",
    "mrbds_onehot = np.concatenate(([1e-16], np.arange(0.1, 1, 0.1)))\n",
    "\n",
    "fprs, accs = ucdd_eval_real_world.results_multiple_min_ref_batches_drift(\n",
    "    mrbds_onehot,\n",
    "    one_run_onehot,\n",
    "    true_drift_bool_onehot\n",
    ")\n",
    "\n",
    "print(mrbds_onehot)\n",
    "print(fprs)\n",
    "print(accs)\n",
    "\n",
    "with open('ucdd_airlines_results_onehot.csv', 'w', newline='') as f:\n",
    "    wrtr = csv.writer(f)\n",
    "    wrtr.writerow(['mrbd', 'fpr', 'acc'])\n",
    "    for i in range(len(mrbds_onehot)):\n",
    "        wrtr.writerow([mrbds_onehot[i], fprs[i], accs[i]])\n",
    "\n",
    "\n"
   ],
   "metadata": {
    "collapsed": false,
    "pycharm": {
     "name": "#%%\n"
    }
   }
  },
  {
   "cell_type": "markdown",
   "source": [
    "### Use them for the evaluation"
   ],
   "metadata": {
    "collapsed": false
   }
  },
  {
   "cell_type": "code",
   "execution_count": 6,
   "outputs": [
    {
     "name": "stdout",
     "output_type": "stream",
     "text": [
      "random_state\n",
      "0\n",
      "random_state\n",
      "100\n",
      "onehot detection list\n",
      "[[False, False, False, False, False, False, True, True, False, True, False, False, False, True, True, True, False, False, False, False, False], [False, False, False, False, False, False, True, True, False, True, False, False, False, True, True, True, False, False, False, False, False]]\n",
      "execution time\n",
      "282.94530868530273\n"
     ]
    }
   ],
   "source": [
    "import time\n",
    "import random\n",
    "from ucdd_improved.core import ucdd\n",
    "import csv\n",
    "importlib.reload(ucdd)\n",
    "\n",
    "# # because of time constraints, only use 20% of all reference batches\n",
    "# print('number of reference batches')\n",
    "# print(len(X_ref_batches_onehot))\n",
    "# num_ref_batches_to_use = int(0.2 * len(X_ref_batches_onehot))\n",
    "#\n",
    "# random.seed(0)\n",
    "# X_ref_batches_onehot_choice = random.sample(X_ref_batches_onehot, num_ref_batches_to_use)\n",
    "# print('number of batches in the choice')\n",
    "# print(len(X_ref_batches_onehot_choice))\n",
    "# print(X_ref_batches_onehot_choice)\n",
    "\n",
    "onehot_detection_list = []\n",
    "start_time = time.time()\n",
    "for first_random_state in [0, 100]:\n",
    "    drifts_detected = ucdd.all_drifting_batches_parallel(\n",
    "        X_ref_batches_onehot,\n",
    "        X_test_batches_onehot,\n",
    "        min_ref_batches_drift=0.3,\n",
    "        additional_check=True,\n",
    "        n_init=100,\n",
    "        max_iter=16000,\n",
    "        tol=0,\n",
    "        random_state=first_random_state\n",
    "    )\n",
    "    onehot_detection_list.append(drifts_detected)\n",
    "\n",
    "print('onehot detection list')\n",
    "print(onehot_detection_list)\n",
    "print('execution time')\n",
    "print(time.time() - start_time)\n",
    "with open('airlines_onehot.csv', 'w') as f:\n",
    "    wrtr = csv.writer(f)\n",
    "    wrtr.writerows(onehot_detection_list)\n"
   ],
   "metadata": {
    "collapsed": false,
    "pycharm": {
     "name": "#%%\n"
    }
   }
  },
  {
   "cell_type": "markdown",
   "source": [
    "## Experiments with excluded categories"
   ],
   "metadata": {
    "collapsed": false
   }
  },
  {
   "cell_type": "markdown",
   "source": [
    "### Find suitable KMeans clustering parameters"
   ],
   "metadata": {
    "collapsed": false
   }
  },
  {
   "cell_type": "code",
   "execution_count": 27,
   "outputs": [
    {
     "name": "stdout",
     "output_type": "stream",
     "text": [
      "filename airlines_kmeans_exclude/airlines_kmeans_exclude_output0.txt\n",
      "random state: 1053\n",
      "filename airlines_kmeans_exclude/airlines_kmeans_exclude_output1.txt\n",
      "random state: 1053\n",
      "filename airlines_kmeans_exclude/airlines_kmeans_exclude_output2.txt\n",
      "random state: 1053\n",
      "filename airlines_kmeans_exclude/airlines_kmeans_exclude_output3.txt\n",
      "random state: 1053\n",
      "filename airlines_kmeans_exclude/airlines_kmeans_exclude_output4.txt\n",
      "random state: 1053\n",
      "filename airlines_kmeans_exclude/airlines_kmeans_exclude_output5.txt\n",
      "random state: 1053\n",
      "filename airlines_kmeans_exclude/airlines_kmeans_exclude_output6.txt\n",
      "random state: 1053\n",
      "filename airlines_kmeans_exclude/airlines_kmeans_exclude_output7.txt\n",
      "random state: 1053\n",
      "filename airlines_kmeans_exclude/airlines_kmeans_exclude_output8.txt\n",
      "random state: 1053\n",
      "filename airlines_kmeans_exclude/airlines_kmeans_exclude_output9.txt\n",
      "random state: 1053\n",
      "{'total_max_iterations': 24, 'total_min_init_inertia': 2193.374855109041, 'total_max_init_inertia': 8673.080383545612, 'total_min_final_inertia': 2062.897163906888, 'total_max_final_inertia': 2255.1812155416997, 'total_num_convergences': 1000, 'total_num_strict_convergences': 1000, 'total_num_tol_based_convergences': 0}\n"
     ]
    }
   ],
   "source": [
    "kmeans_verbose_helpers.write_kmeans_results_ucdd_helper('airlines_kmeans_exclude/airlines_kmeans_exclude_output',\n",
    "                                                        X_ref_batches_exclude,\n",
    "                                                        n_init=100, max_iter=500, tol=0, random_state=1053)\n"
   ],
   "metadata": {
    "collapsed": false,
    "pycharm": {
     "name": "#%%\n"
    }
   }
  },
  {
   "cell_type": "markdown",
   "source": [
    "### Use UCDD directly to obtain inspectable results"
   ],
   "metadata": {
    "collapsed": false
   }
  },
  {
   "cell_type": "code",
   "execution_count": 36,
   "outputs": [
    {
     "name": "stdout",
     "output_type": "stream",
     "text": [
      "random_state\n",
      "0\n",
      "pool opened\n",
      "random_state\n",
      "100\n",
      "pool opened\n"
     ]
    }
   ],
   "source": [
    "from core import ucdd\n",
    "import importlib\n",
    "importlib.reload(ucdd)\n",
    "\n",
    "all_2d_drifts_exclude = []\n",
    "all_2d_cluster_classif_accs_exclude = []\n",
    "\n",
    "for random_state in [0, 100]:\n",
    "    drifts_2d_arr_exclude, cluster_classif_accs_2d_arr_exclude = ucdd.all_drifting_batches_parallel_all_info(\n",
    "        X_ref_batches_exclude,\n",
    "        X_test_batches_exclude,\n",
    "        additional_check=True,\n",
    "        n_init=100,\n",
    "        max_iter=24000,\n",
    "        tol=0,\n",
    "        random_state=random_state,\n",
    "        reference_label_batches=y_ref_batches,\n",
    "        testing_label_batches=y_test_batches\n",
    "    )\n",
    "    all_2d_drifts_exclude.append(drifts_2d_arr_exclude)\n",
    "    all_2d_cluster_classif_accs_exclude.append(cluster_classif_accs_2d_arr_exclude)\n",
    "\n",
    "result_dict_exclude = {\n",
    "    'all_2d_drifts_exclude': all_2d_drifts_exclude,\n",
    "    'all_2d_cluster_classif_accs_exclude': all_2d_cluster_classif_accs_exclude\n",
    "}\n",
    "np.save('airlines_stats_exclude.npy', result_dict_exclude)"
   ],
   "metadata": {
    "collapsed": false,
    "pycharm": {
     "name": "#%%\n"
    }
   }
  },
  {
   "cell_type": "code",
   "execution_count": 37,
   "outputs": [
    {
     "name": "stdout",
     "output_type": "stream",
     "text": [
      "resulting dictionary\n",
      "{'all_2d_drifts_exclude': [array([[False, False, False, False, False, False, False, False, False,\n",
      "        False, False, False, False, False, False, False, False, False,\n",
      "        False, False, False],\n",
      "       [False, False, False, False, False, False, False, False, False,\n",
      "        False, False, False, False, False, False, False, False, False,\n",
      "        False, False, False],\n",
      "       [False, False, False, False, False, False, False, False, False,\n",
      "        False, False, False, False, False, False, False, False, False,\n",
      "        False, False, False],\n",
      "       [False, False, False, False, False, False, False, False, False,\n",
      "        False, False, False, False, False, False, False, False, False,\n",
      "        False, False, False],\n",
      "       [False, False, False, False, False, False, False, False, False,\n",
      "        False, False, False, False, False, False, False, False, False,\n",
      "        False, False, False],\n",
      "       [False, False, False, False, False, False, False, False, False,\n",
      "        False, False, False, False, False, False, False, False, False,\n",
      "        False, False, False],\n",
      "       [False, False, False, False, False, False, False, False, False,\n",
      "        False, False, False, False, False, False, False, False, False,\n",
      "        False, False, False],\n",
      "       [False, False, False, False, False, False, False, False, False,\n",
      "        False, False, False, False, False, False, False, False, False,\n",
      "        False, False, False],\n",
      "       [False, False, False, False, False, False, False, False, False,\n",
      "        False, False, False, False, False, False, False, False, False,\n",
      "        False, False, False],\n",
      "       [False, False, False, False, False, False, False, False, False,\n",
      "        False, False, False, False, False, False, False, False, False,\n",
      "        False, False, False]]), array([[False, False, False, False, False, False, False, False, False,\n",
      "        False, False, False, False, False, False, False, False, False,\n",
      "        False, False, False],\n",
      "       [False, False, False, False, False, False, False, False, False,\n",
      "        False, False, False, False, False, False, False, False, False,\n",
      "        False, False, False],\n",
      "       [False, False, False, False, False, False, False, False, False,\n",
      "        False, False, False, False, False, False, False, False, False,\n",
      "        False, False, False],\n",
      "       [False, False, False, False, False, False, False, False, False,\n",
      "        False, False, False, False, False, False, False, False, False,\n",
      "        False, False, False],\n",
      "       [False, False, False, False, False, False, False, False, False,\n",
      "        False, False, False, False, False, False, False, False, False,\n",
      "        False, False, False],\n",
      "       [False, False, False, False, False, False, False, False, False,\n",
      "        False, False, False, False, False, False, False, False, False,\n",
      "        False, False, False],\n",
      "       [False, False, False, False, False, False, False, False, False,\n",
      "        False, False, False, False, False, False, False, False, False,\n",
      "        False, False, False],\n",
      "       [False, False, False, False, False, False, False, False, False,\n",
      "        False, False, False, False, False, False, False, False, False,\n",
      "        False, False, False],\n",
      "       [False, False, False, False, False, False, False, False, False,\n",
      "        False, False, False, False, False, False, False, False, False,\n",
      "        False, False, False],\n",
      "       [False, False, False, False, False, False, False, False, False,\n",
      "        False, False, False, False, False, False, False, False, False,\n",
      "        False, False, False]])], 'all_2d_cluster_classif_accs_exclude': [array([[0.52714706, 0.51335294, 0.51491176, 0.51511765, 0.50855882,\n",
      "        0.52338235, 0.52282353, 0.516     , 0.50405882, 0.52052941,\n",
      "        0.52644118, 0.52444118, 0.51079412, 0.51658824, 0.51202941,\n",
      "        0.50488235, 0.501     , 0.54067647, 0.54017647, 0.53323529,\n",
      "        0.52182353],\n",
      "       [0.56358824, 0.52232353, 0.55088235, 0.55114706, 0.52738235,\n",
      "        0.51261765, 0.51335294, 0.52038235, 0.53179412, 0.51502941,\n",
      "        0.50911765, 0.511     , 0.52479412, 0.55302941, 0.54805882,\n",
      "        0.54082353, 0.53467647, 0.50517647, 0.50464706, 0.50238235,\n",
      "        0.51441176],\n",
      "       [0.56447059, 0.52370588, 0.55147059, 0.55241176, 0.52852941,\n",
      "        0.51341176, 0.51394118, 0.52132353, 0.53255882, 0.51629412,\n",
      "        0.51023529, 0.51208824, 0.52561765, 0.55394118, 0.54902941,\n",
      "        0.54173529, 0.53561765, 0.50414706, 0.50370588, 0.50335294,\n",
      "        0.51535294],\n",
      "       [0.56929412, 0.52782353, 0.55588235, 0.55623529, 0.53229412,\n",
      "        0.51688235, 0.51802941, 0.52505882, 0.53652941, 0.52011765,\n",
      "        0.51402941, 0.51558824, 0.52941176, 0.55817647, 0.55270588,\n",
      "        0.54544118, 0.53923529, 0.50079412, 0.50017647, 0.50697059,\n",
      "        0.51952941],\n",
      "       [0.55467647, 0.51382353, 0.54223529, 0.54258824, 0.51870588,\n",
      "        0.50385294, 0.50447059, 0.51155882, 0.523     , 0.50673529,\n",
      "        0.50061765, 0.50244118, 0.51611765, 0.54411765, 0.53929412,\n",
      "        0.53211765, 0.52594118, 0.51379412, 0.51323529, 0.50623529,\n",
      "        0.50544118],\n",
      "       [0.54967647, 0.50897059, 0.53732353, 0.53779412, 0.51382353,\n",
      "        0.50108824, 0.50044118, 0.50629412, 0.51791176, 0.50155882,\n",
      "        0.50447059, 0.50244118, 0.51108824, 0.53897059, 0.53429412,\n",
      "        0.52711765, 0.521     , 0.51867647, 0.51826471, 0.51117647,\n",
      "        0.5005    ],\n",
      "       [0.57773529, 0.53694118, 0.56491176, 0.56535294, 0.54194118,\n",
      "        0.52673529, 0.52747059, 0.53476471, 0.54594118, 0.52955882,\n",
      "        0.52364706, 0.52547059, 0.53905882, 0.56752941, 0.5625    ,\n",
      "        0.55526471, 0.549     , 0.50932353, 0.50973529, 0.51676471,\n",
      "        0.52876471],\n",
      "       [0.56508824, 0.52432353, 0.55223529, 0.55279412, 0.52908824,\n",
      "        0.51391176, 0.51455882, 0.52176471, 0.53308824, 0.51673529,\n",
      "        0.51067647, 0.51258824, 0.52605882, 0.55455882, 0.54976471,\n",
      "        0.54217647, 0.53602941, 0.50376471, 0.50323529, 0.50376471,\n",
      "        0.51597059],\n",
      "       [0.55511765, 0.51432353, 0.54264706, 0.54297059, 0.51914706,\n",
      "        0.50432353, 0.50497059, 0.51167647, 0.52320588, 0.50694118,\n",
      "        0.50076471, 0.50282353, 0.51638235, 0.54420588, 0.53964706,\n",
      "        0.53244118, 0.52626471, 0.51344118, 0.51302941, 0.50594118,\n",
      "        0.50579412],\n",
      "       [0.54579412, 0.50476471, 0.53338235, 0.53358824, 0.50976471,\n",
      "        0.50485294, 0.50441176, 0.50252941, 0.51417647, 0.50229412,\n",
      "        0.50835294, 0.50626471, 0.50735294, 0.53535294, 0.53032353,\n",
      "        0.52326471, 0.51723529, 0.5225    , 0.52208824, 0.51494118,\n",
      "        0.50347059]]), array([[0.52714706, 0.51335294, 0.51491176, 0.51511765, 0.50855882,\n",
      "        0.52338235, 0.52282353, 0.516     , 0.50405882, 0.52052941,\n",
      "        0.52644118, 0.52444118, 0.51079412, 0.51658824, 0.51202941,\n",
      "        0.50488235, 0.501     , 0.54067647, 0.54017647, 0.53323529,\n",
      "        0.52182353],\n",
      "       [0.56358824, 0.52232353, 0.55088235, 0.55114706, 0.52738235,\n",
      "        0.51261765, 0.51335294, 0.52038235, 0.53179412, 0.51502941,\n",
      "        0.50911765, 0.511     , 0.52479412, 0.55302941, 0.54805882,\n",
      "        0.54082353, 0.53467647, 0.50517647, 0.50464706, 0.50238235,\n",
      "        0.51441176],\n",
      "       [0.56447059, 0.52370588, 0.55147059, 0.55241176, 0.52852941,\n",
      "        0.51341176, 0.51394118, 0.52132353, 0.53255882, 0.51629412,\n",
      "        0.51023529, 0.51208824, 0.52561765, 0.55394118, 0.54902941,\n",
      "        0.54173529, 0.53561765, 0.50414706, 0.50370588, 0.50335294,\n",
      "        0.51535294],\n",
      "       [0.56929412, 0.52782353, 0.55588235, 0.55623529, 0.53229412,\n",
      "        0.51688235, 0.51802941, 0.52505882, 0.53652941, 0.52011765,\n",
      "        0.51402941, 0.51558824, 0.52941176, 0.55817647, 0.55270588,\n",
      "        0.54544118, 0.53923529, 0.50082353, 0.50017647, 0.50697059,\n",
      "        0.51952941],\n",
      "       [0.55467647, 0.51382353, 0.54223529, 0.54258824, 0.51870588,\n",
      "        0.50385294, 0.50447059, 0.51155882, 0.523     , 0.50673529,\n",
      "        0.50061765, 0.50244118, 0.51611765, 0.54411765, 0.53929412,\n",
      "        0.53211765, 0.52594118, 0.51379412, 0.51323529, 0.50623529,\n",
      "        0.50544118],\n",
      "       [0.54967647, 0.50897059, 0.53732353, 0.53779412, 0.51382353,\n",
      "        0.50108824, 0.50044118, 0.50629412, 0.51791176, 0.50155882,\n",
      "        0.50447059, 0.50244118, 0.51108824, 0.53897059, 0.53429412,\n",
      "        0.52711765, 0.521     , 0.51867647, 0.51826471, 0.51117647,\n",
      "        0.5005    ],\n",
      "       [0.57773529, 0.53694118, 0.56491176, 0.56535294, 0.54194118,\n",
      "        0.52673529, 0.52747059, 0.53476471, 0.54594118, 0.52955882,\n",
      "        0.52364706, 0.52547059, 0.53905882, 0.56752941, 0.5625    ,\n",
      "        0.55526471, 0.549     , 0.50932353, 0.50973529, 0.51676471,\n",
      "        0.52876471],\n",
      "       [0.56508824, 0.52432353, 0.55223529, 0.55279412, 0.52908824,\n",
      "        0.51391176, 0.51455882, 0.52176471, 0.53308824, 0.51673529,\n",
      "        0.51067647, 0.51258824, 0.52605882, 0.55455882, 0.54976471,\n",
      "        0.54217647, 0.53602941, 0.50376471, 0.50323529, 0.50376471,\n",
      "        0.51597059],\n",
      "       [0.55511765, 0.51435294, 0.54264706, 0.54297059, 0.51914706,\n",
      "        0.50432353, 0.50497059, 0.51167647, 0.52320588, 0.50694118,\n",
      "        0.50076471, 0.50282353, 0.51638235, 0.54420588, 0.53964706,\n",
      "        0.53244118, 0.52626471, 0.51344118, 0.51302941, 0.50594118,\n",
      "        0.50579412],\n",
      "       [0.54579412, 0.50476471, 0.53338235, 0.53358824, 0.50976471,\n",
      "        0.50485294, 0.50441176, 0.50252941, 0.51417647, 0.50229412,\n",
      "        0.50835294, 0.50626471, 0.50741176, 0.53535294, 0.53032353,\n",
      "        0.52326471, 0.51723529, 0.5225    , 0.52208824, 0.51494118,\n",
      "        0.50347059]])]}\n",
      "total number of drift detections: 210\n",
      "number of drift detection differences in the two runs:\n",
      "0\n"
     ]
    }
   ],
   "source": [
    "result_dict_exclude = np.load('airlines_stats_exclude.npy', allow_pickle=True).item()\n",
    "print('resulting dictionary')\n",
    "print(result_dict_exclude)\n",
    "all_2d_drifts_exclude = result_dict_exclude['all_2d_drifts_exclude']\n",
    "print('total number of drift detections:', len(X_ref_batches_exclude) * len(X_test_batches_exclude))\n",
    "print('number of drift detection differences in the two runs:')\n",
    "num_diffs = np.sum(all_2d_drifts_exclude[0] != all_2d_drifts_exclude[1])\n",
    "print(num_diffs)\n"
   ],
   "metadata": {
    "collapsed": false,
    "pycharm": {
     "name": "#%%\n"
    }
   }
  },
  {
   "cell_type": "markdown",
   "source": [
    "### Use them for the evaluation"
   ],
   "metadata": {
    "collapsed": false
   }
  },
  {
   "cell_type": "code",
   "execution_count": 7,
   "outputs": [
    {
     "name": "stdout",
     "output_type": "stream",
     "text": [
      "random_state\n",
      "0\n",
      "random_state\n",
      "100\n",
      "exclude detection list\n",
      "[[False, False, False, False, False, False, False, False, False, False, False, False, False, False, False, False, False, False, False, False, False], [False, False, False, False, False, False, False, False, False, False, False, False, False, False, False, False, False, False, False, False, False]]\n",
      "execution time\n",
      "177.9049210548401\n"
     ]
    }
   ],
   "source": [
    "import time\n",
    "import random\n",
    "from ucdd_improved.core import ucdd\n",
    "import csv\n",
    "importlib.reload(ucdd)\n",
    "\n",
    "# # because of time constraints, only use 20% of all reference batches\n",
    "# print('number of reference batches')\n",
    "# print(len(X_ref_batches_exclude))\n",
    "# num_ref_batches_to_use = int(0.2 * len(X_ref_batches_exclude))\n",
    "#\n",
    "# random.seed(0)\n",
    "# X_ref_batches_exclude_choice = random.sample(X_ref_batches_exclude, num_ref_batches_to_use)\n",
    "# print('number of batches in the choice')\n",
    "# print(len(X_ref_batches_exclude_choice))\n",
    "# print(X_ref_batches_exclude_choice)\n",
    "\n",
    "exclude_detection_list = []\n",
    "start_time = time.time()\n",
    "for first_random_state in [0, 100]:\n",
    "    drifts_detected = ucdd.all_drifting_batches_parallel(\n",
    "        X_ref_batches_exclude,\n",
    "        X_test_batches_exclude,\n",
    "        min_ref_batches_drift=0.3,\n",
    "        additional_check=True,\n",
    "        n_init=100,\n",
    "        max_iter=24000,\n",
    "        tol=0,\n",
    "        random_state=first_random_state\n",
    "    )\n",
    "    exclude_detection_list.append(drifts_detected)\n",
    "\n",
    "print('exclude detection list')\n",
    "print(exclude_detection_list)\n",
    "print('execution time')\n",
    "print(time.time() - start_time)\n",
    "with open('airlines_exclude.csv', 'w') as f:\n",
    "    wrtr = csv.writer(f)\n",
    "    wrtr.writerows(exclude_detection_list)"
   ],
   "metadata": {
    "collapsed": false,
    "pycharm": {
     "name": "#%%\n"
    }
   }
  },
  {
   "cell_type": "code",
   "execution_count": null,
   "outputs": [],
   "source": [],
   "metadata": {
    "collapsed": false,
    "pycharm": {
     "name": "#%%\n"
    }
   }
  }
 ],
 "metadata": {
  "kernelspec": {
   "display_name": "Python 3",
   "language": "python",
   "name": "python3"
  },
  "language_info": {
   "codemirror_mode": {
    "name": "ipython",
    "version": 2
   },
   "file_extension": ".py",
   "mimetype": "text/x-python",
   "name": "python",
   "nbconvert_exporter": "python",
   "pygments_lexer": "ipython2",
   "version": "2.7.6"
  }
 },
 "nbformat": 4,
 "nbformat_minor": 0
}