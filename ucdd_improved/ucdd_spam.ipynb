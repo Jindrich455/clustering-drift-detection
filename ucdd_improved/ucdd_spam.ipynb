{
 "cells": [
  {
   "cell_type": "markdown",
   "metadata": {
    "collapsed": true,
    "pycharm": {
     "name": "#%% md\n"
    }
   },
   "source": [
    "# UCDD on spam evaluation"
   ]
  },
  {
   "cell_type": "markdown",
   "source": [
    "## Accept and preprocess the spam dataset"
   ],
   "metadata": {
    "collapsed": false
   }
  },
  {
   "cell_type": "code",
   "execution_count": 2,
   "outputs": [],
   "source": [
    "import numpy as np\n",
    "import pandas as pd"
   ],
   "metadata": {
    "collapsed": false,
    "pycharm": {
     "name": "#%%\n"
    }
   }
  },
  {
   "cell_type": "code",
   "execution_count": 10,
   "outputs": [
    {
     "name": "stdout",
     "output_type": "stream",
     "text": [
      "df columns\n",
      "Index(['Unnamed: 0', 'aa', 'aba', 'abandon', 'abb', 'abbey', 'abbrevi',\n",
      "       'abdomin', 'abduct', 'aberr',\n",
      "       ...\n",
      "       'zig', 'zimbabw', 'zinc', 'zip', 'zodiac', 'zone', 'zoo', 'zoom',\n",
      "       'zowi', 'ACTUAL_LABEL'],\n",
      "      dtype='object', length=10729)\n",
      "first rows of aba\n",
      "      aba\n",
      "0     0.0\n",
      "1     0.0\n",
      "2     0.0\n",
      "3     0.0\n",
      "4     0.0\n",
      "...   ...\n",
      "1463  0.0\n",
      "1464  0.0\n",
      "1465  0.0\n",
      "1466  0.0\n",
      "1467  0.0\n",
      "\n",
      "[1468 rows x 1 columns]\n",
      "scaler min_\n",
      "[0. 0. 0. ... 0. 0. 0.]\n",
      "scaler scale_\n",
      "[6.31423128 1.         6.53268125 ... 1.         6.22316195 1.        ]\n",
      "scaler data_min_\n",
      "[0. 0. 0. ... 0. 0. 0.]\n",
      "scaler data_max_\n",
      "[0.15837241 0.         0.1530765  ... 0.         0.16069002 0.        ]\n",
      "scaler data_range_\n",
      "[0.15837241 0.         0.1530765  ... 0.         0.16069002 0.        ]\n",
      "0.0006779101229450423\n",
      "transformed reference data with \n",
      "\n",
      "reference data\n",
      "(1468, 10727)\n",
      "[[0. 0. 0. ... 0. 0. 0.]\n",
      " [0. 0. 0. ... 0. 0. 0.]\n",
      " [0. 0. 0. ... 0. 0. 0.]\n",
      " ...\n",
      " [0. 0. 0. ... 0. 0. 0.]\n",
      " [0. 0. 0. ... 0. 0. 0.]\n",
      " [0. 0. 0. ... 0. 0. 0.]]\n",
      "\n",
      "reference labels\n",
      "(1468, 1)\n",
      "\n",
      "testing data\n",
      "(2937, 10727)\n",
      "[[0. 0. 0. ... 0. 0. 0.]\n",
      " [0. 0. 0. ... 0. 0. 0.]\n",
      " [0. 0. 0. ... 0. 0. 0.]\n",
      " ...\n",
      " [0. 0. 0. ... 0. 0. 0.]\n",
      " [0. 0. 0. ... 0. 0. 0.]\n",
      " [0. 0. 0. ... 0. 0. 0.]]\n",
      "\n",
      "testing labels\n",
      "(2937, 1)\n"
     ]
    }
   ],
   "source": [
    "from sklearn.preprocessing import MinMaxScaler\n",
    "\n",
    "\n",
    "df = pd.read_csv(\"../Datasets_concept_drift/real_world_data/spam_dataset.csv\")\n",
    "\n",
    "print('df columns')\n",
    "print(df.columns)\n",
    "\n",
    "X = df.drop(columns=['Unnamed: 0', 'ACTUAL_LABEL'])\n",
    "y = df[\"ACTUAL_LABEL\"]\n",
    "\n",
    "X_ref = X[:1468]\n",
    "X_test = X[1468:]\n",
    "y_ref = y[:1468]\n",
    "y_test = y[1468:]\n",
    "\n",
    "print('first rows of aba')\n",
    "print(X_ref[['aba']])\n",
    "\n",
    "X_ref = X_ref.to_numpy()\n",
    "X_test = X_test.to_numpy()\n",
    "y_ref = y_ref.to_numpy().reshape((len(y_ref.index), 1))\n",
    "y_test = y_test.to_numpy().reshape((len(y_test.index), 1))\n",
    "\n",
    "scaler = MinMaxScaler()\n",
    "scaler.fit(X_ref)\n",
    "X_ref = scaler.transform(X_ref)\n",
    "X_test = scaler.transform(X_test)\n",
    "\n",
    "print('\\nreference data')\n",
    "print(X_ref.shape)\n",
    "print(X_ref)\n",
    "print('\\nreference labels')\n",
    "print(y_ref.shape)\n",
    "print('\\ntesting data')\n",
    "print(X_test.shape)\n",
    "print(X_test)\n",
    "print('\\ntesting labels')\n",
    "print(y_test.shape)"
   ],
   "metadata": {
    "collapsed": false,
    "pycharm": {
     "name": "#%%\n"
    }
   }
  },
  {
   "cell_type": "markdown",
   "source": [
    "## Split the dataset to batches"
   ],
   "metadata": {
    "collapsed": false
   }
  },
  {
   "cell_type": "markdown",
   "source": [
    "### Size=100"
   ],
   "metadata": {
    "collapsed": false
   }
  },
  {
   "cell_type": "code",
   "execution_count": 24,
   "outputs": [
    {
     "name": "stdout",
     "output_type": "stream",
     "text": [
      "[[0. 0. 0. ... 0. 0. 0.]\n",
      " [0. 0. 0. ... 0. 0. 0.]\n",
      " [0. 0. 0. ... 0. 0. 0.]\n",
      " ...\n",
      " [0. 0. 0. ... 0. 0. 0.]\n",
      " [0. 0. 0. ... 0. 0. 0.]\n",
      " [0. 0. 0. ... 0. 0. 0.]]\n",
      "(100, 10727)\n",
      "[[0. 0. 0. ... 0. 0. 0.]\n",
      " [0. 0. 0. ... 0. 0. 0.]\n",
      " [0. 0. 0. ... 0. 0. 0.]\n",
      " ...\n",
      " [0. 0. 0. ... 0. 0. 0.]\n",
      " [0. 0. 0. ... 0. 0. 0.]\n",
      " [0. 0. 0. ... 0. 0. 0.]]\n",
      "(100, 10727)\n",
      "# test batches 100:\n",
      "29\n",
      "29\n",
      "# ref batches 100:\n",
      "14\n",
      "14\n"
     ]
    }
   ],
   "source": [
    "from eval_helpers import helpers\n",
    "\n",
    "X_test_batches_100, y_test_batches_100 = helpers.split_to_fixed_size_batches(X_test, y_test, batch_size=100)\n",
    "X_ref_batches_100, y_ref_batches_100 = helpers.split_to_fixed_size_batches(X_ref, y_ref, batch_size=100)\n",
    "\n",
    "print('# test batches 100:')\n",
    "print(len(X_test_batches_100))\n",
    "print(len(y_test_batches_100))\n",
    "print('# ref batches 100:')\n",
    "print(len(X_ref_batches_100))\n",
    "print(len(y_ref_batches_100))"
   ],
   "metadata": {
    "collapsed": false,
    "pycharm": {
     "name": "#%%\n"
    }
   }
  },
  {
   "cell_type": "markdown",
   "source": [
    "### Size=50"
   ],
   "metadata": {
    "collapsed": false
   }
  },
  {
   "cell_type": "code",
   "execution_count": 25,
   "outputs": [
    {
     "name": "stdout",
     "output_type": "stream",
     "text": [
      "[[0. 0. 0. ... 0. 0. 0.]\n",
      " [0. 0. 0. ... 0. 0. 0.]\n",
      " [0. 0. 0. ... 0. 0. 0.]\n",
      " ...\n",
      " [0. 0. 0. ... 0. 0. 0.]\n",
      " [0. 0. 0. ... 0. 0. 0.]\n",
      " [0. 0. 0. ... 0. 0. 0.]]\n",
      "(50, 10727)\n",
      "[[0. 0. 0. ... 0. 0. 0.]\n",
      " [0. 0. 0. ... 0. 0. 0.]\n",
      " [0. 0. 0. ... 0. 0. 0.]\n",
      " ...\n",
      " [0. 0. 0. ... 0. 0. 0.]\n",
      " [0. 0. 0. ... 0. 0. 0.]\n",
      " [0. 0. 0. ... 0. 0. 0.]]\n",
      "(50, 10727)\n",
      "# test batches 50:\n",
      "58\n",
      "58\n",
      "# ref batches 50:\n",
      "29\n",
      "29\n"
     ]
    }
   ],
   "source": [
    "from eval_helpers import helpers\n",
    "\n",
    "X_test_batches_50, y_test_batches_50 = helpers.split_to_fixed_size_batches(X_test, y_test, batch_size=50)\n",
    "X_ref_batches_50, y_ref_batches_50 = helpers.split_to_fixed_size_batches(X_ref, y_ref, batch_size=50)\n",
    "\n",
    "print('# test batches 50:')\n",
    "print(len(X_test_batches_50))\n",
    "print(len(y_test_batches_50))\n",
    "print('# ref batches 50:')\n",
    "print(len(X_ref_batches_50))\n",
    "print(len(y_ref_batches_50))"
   ],
   "metadata": {
    "collapsed": false,
    "pycharm": {
     "name": "#%%\n"
    }
   }
  },
  {
   "cell_type": "markdown",
   "source": [
    "### Size=20"
   ],
   "metadata": {
    "collapsed": false
   }
  },
  {
   "cell_type": "code",
   "execution_count": 26,
   "outputs": [
    {
     "name": "stdout",
     "output_type": "stream",
     "text": [
      "[[0. 0. 0. ... 0. 0. 0.]\n",
      " [0. 0. 0. ... 0. 0. 0.]\n",
      " [0. 0. 0. ... 0. 0. 0.]\n",
      " ...\n",
      " [0. 0. 0. ... 0. 0. 0.]\n",
      " [0. 0. 0. ... 0. 0. 0.]\n",
      " [0. 0. 0. ... 0. 0. 0.]]\n",
      "(20, 10727)\n",
      "[[0. 0. 0. ... 0. 0. 0.]\n",
      " [0. 0. 0. ... 0. 0. 0.]\n",
      " [0. 0. 0. ... 0. 0. 0.]\n",
      " ...\n",
      " [0. 0. 0. ... 0. 0. 0.]\n",
      " [0. 0. 0. ... 0. 0. 0.]\n",
      " [0. 0. 0. ... 0. 0. 0.]]\n",
      "(20, 10727)\n",
      "# test batches 20:\n",
      "146\n",
      "146\n",
      "# ref batches 20:\n",
      "73\n",
      "73\n"
     ]
    }
   ],
   "source": [
    "from eval_helpers import helpers\n",
    "\n",
    "X_test_batches_20, y_test_batches_20 = helpers.split_to_fixed_size_batches(X_test, y_test, batch_size=20)\n",
    "X_ref_batches_20, y_ref_batches_20 = helpers.split_to_fixed_size_batches(X_ref, y_ref, batch_size=20)\n",
    "\n",
    "print('# test batches 20:')\n",
    "print(len(X_test_batches_20))\n",
    "print(len(y_test_batches_20))\n",
    "print('# ref batches 20:')\n",
    "print(len(X_ref_batches_20))\n",
    "print(len(y_ref_batches_20))"
   ],
   "metadata": {
    "collapsed": false,
    "pycharm": {
     "name": "#%%\n"
    }
   }
  },
  {
   "cell_type": "markdown",
   "source": [
    "## Imports"
   ],
   "metadata": {
    "collapsed": false,
    "pycharm": {
     "name": "#%% md\n"
    }
   }
  },
  {
   "cell_type": "code",
   "execution_count": 27,
   "outputs": [
    {
     "name": "stdout",
     "output_type": "stream",
     "text": [
      "something\n"
     ]
    },
    {
     "data": {
      "text/plain": "<module 'eval_helpers.kmeans_verbose_helpers' from 'C:\\\\Users\\\\jpohl\\\\PycharmProjects\\\\clustering-drift-detection\\\\ucdd_improved\\\\eval_helpers\\\\kmeans_verbose_helpers.py'>"
     },
     "execution_count": 27,
     "metadata": {},
     "output_type": "execute_result"
    }
   ],
   "source": [
    "import importlib\n",
    "from eval_helpers import ucdd_eval_real_world\n",
    "from eval_helpers import kmeans_verbose_helpers\n",
    "from core import ucdd_supported_parameters as spms\n",
    "from core import ucdd\n",
    "importlib.reload(ucdd_eval_real_world)\n",
    "importlib.reload(ucdd)\n",
    "importlib.reload(kmeans_verbose_helpers)"
   ],
   "metadata": {
    "collapsed": false,
    "pycharm": {
     "name": "#%%\n"
    }
   }
  },
  {
   "cell_type": "markdown",
   "source": [
    "## Evaluation with size 100 batches\n"
   ],
   "metadata": {
    "collapsed": false,
    "pycharm": {
     "name": "#%% md\n"
    }
   }
  },
  {
   "cell_type": "markdown",
   "source": [
    "### Find suitable KMeans clustering parameters"
   ],
   "metadata": {
    "collapsed": false
   }
  },
  {
   "cell_type": "code",
   "execution_count": 12,
   "outputs": [
    {
     "name": "stdout",
     "output_type": "stream",
     "text": [
      "filename spam_kmeans_100/spam_kmeans_100_output0.txt\n",
      "random state: 1053\n",
      "filename spam_kmeans_100/spam_kmeans_100_output1.txt\n",
      "random state: 1053\n",
      "filename spam_kmeans_100/spam_kmeans_100_output2.txt\n",
      "random state: 1053\n",
      "filename spam_kmeans_100/spam_kmeans_100_output3.txt\n",
      "random state: 1053\n",
      "filename spam_kmeans_100/spam_kmeans_100_output4.txt\n",
      "random state: 1053\n",
      "filename spam_kmeans_100/spam_kmeans_100_output5.txt\n",
      "random state: 1053\n",
      "filename spam_kmeans_100/spam_kmeans_100_output6.txt\n",
      "random state: 1053\n",
      "filename spam_kmeans_100/spam_kmeans_100_output7.txt\n",
      "random state: 1053\n",
      "filename spam_kmeans_100/spam_kmeans_100_output8.txt\n",
      "random state: 1053\n",
      "filename spam_kmeans_100/spam_kmeans_100_output9.txt\n",
      "random state: 1053\n",
      "filename spam_kmeans_100/spam_kmeans_100_output10.txt\n",
      "random state: 1053\n",
      "filename spam_kmeans_100/spam_kmeans_100_output11.txt\n",
      "random state: 1053\n",
      "filename spam_kmeans_100/spam_kmeans_100_output12.txt\n",
      "random state: 1053\n",
      "filename spam_kmeans_100/spam_kmeans_100_output13.txt\n",
      "random state: 1053\n",
      "{'total_max_iterations': 15, 'total_min_init_inertia': 2225.67329712316, 'total_max_init_inertia': 9133.027511093074, 'total_min_final_inertia': 2088.9689270428125, 'total_max_final_inertia': 3464.5708354828, 'total_num_convergences': 1400, 'total_num_strict_convergences': 1400, 'total_num_tol_based_convergences': 0}\n"
     ]
    }
   ],
   "source": [
    "kmeans_verbose_helpers.write_kmeans_results_ucdd_helper('spam_kmeans_100/spam_kmeans_100_output', X_ref_batches_100,\n",
    "                                                        n_init=100, max_iter=500, tol=0,\n",
    "                                                        random_state=1053)"
   ],
   "metadata": {
    "collapsed": false,
    "pycharm": {
     "name": "#%%\n"
    }
   }
  },
  {
   "cell_type": "markdown",
   "source": [
    "### Use UCDD directly to obtain inspectable results"
   ],
   "metadata": {
    "collapsed": false,
    "pycharm": {
     "name": "#%% md\n"
    }
   }
  },
  {
   "cell_type": "code",
   "execution_count": 28,
   "outputs": [
    {
     "name": "stdout",
     "output_type": "stream",
     "text": [
      "random_state\n",
      "0\n",
      "pool opened\n",
      "random_state\n",
      "100\n",
      "pool opened\n"
     ]
    }
   ],
   "source": [
    "from core import ucdd\n",
    "import importlib\n",
    "importlib.reload(ucdd)\n",
    "\n",
    "all_2d_drifts_100 = []\n",
    "all_2d_cluster_classif_accs_100 = []\n",
    "\n",
    "for random_state in [0, 100]:\n",
    "    drifts_2d_arr_100, cluster_classif_accs_2d_arr_100 = ucdd.all_drifting_batches_parallel_all_info(\n",
    "        X_ref_batches_100,\n",
    "        X_test_batches_100,\n",
    "        additional_check=True,\n",
    "        n_init=100,\n",
    "        max_iter=15000,\n",
    "        tol=0,\n",
    "        random_state=random_state,\n",
    "        reference_label_batches=y_ref_batches_100,\n",
    "        testing_label_batches=y_test_batches_100\n",
    "    )\n",
    "    all_2d_drifts_100.append(drifts_2d_arr_100)\n",
    "    all_2d_cluster_classif_accs_100.append(cluster_classif_accs_2d_arr_100)\n",
    "\n",
    "result_dict_100 = {\n",
    "    'all_2d_drifts_100': all_2d_drifts_100,\n",
    "    'all_2d_cluster_classif_accs_100': all_2d_cluster_classif_accs_100\n",
    "}\n",
    "np.save('spam_stats_100.npy', result_dict_100)"
   ],
   "metadata": {
    "collapsed": false,
    "pycharm": {
     "name": "#%%\n"
    }
   }
  },
  {
   "cell_type": "code",
   "execution_count": 14,
   "outputs": [
    {
     "name": "stdout",
     "output_type": "stream",
     "text": [
      "resulting dictionary\n",
      "{'all_2d_drifts_100': [array([[ True,  True,  True,  True,  True,  True,  True,  True,  True,\n",
      "         True,  True,  True,  True,  True,  True,  True,  True,  True,\n",
      "         True,  True,  True,  True,  True,  True,  True,  True,  True,\n",
      "         True,  True],\n",
      "       [ True,  True,  True,  True,  True,  True,  True,  True,  True,\n",
      "         True,  True,  True,  True,  True,  True,  True,  True,  True,\n",
      "         True,  True,  True,  True,  True,  True,  True,  True,  True,\n",
      "         True,  True],\n",
      "       [ True,  True,  True,  True,  True,  True,  True,  True,  True,\n",
      "         True,  True,  True,  True,  True,  True,  True,  True,  True,\n",
      "         True,  True,  True,  True,  True,  True,  True,  True,  True,\n",
      "         True,  True],\n",
      "       [ True,  True,  True,  True,  True,  True,  True,  True,  True,\n",
      "         True,  True,  True,  True,  True,  True,  True,  True,  True,\n",
      "         True,  True,  True,  True,  True,  True,  True,  True,  True,\n",
      "         True,  True],\n",
      "       [ True,  True,  True,  True,  True,  True,  True,  True,  True,\n",
      "         True,  True,  True,  True,  True,  True,  True,  True,  True,\n",
      "         True,  True,  True,  True,  True,  True,  True,  True,  True,\n",
      "         True,  True],\n",
      "       [ True,  True,  True,  True,  True,  True,  True,  True,  True,\n",
      "         True,  True,  True,  True,  True,  True,  True,  True,  True,\n",
      "         True,  True,  True,  True,  True,  True,  True,  True,  True,\n",
      "         True,  True],\n",
      "       [ True,  True,  True,  True,  True,  True,  True,  True,  True,\n",
      "         True,  True,  True,  True,  True,  True,  True,  True,  True,\n",
      "         True,  True,  True,  True,  True,  True,  True,  True,  True,\n",
      "         True,  True],\n",
      "       [ True,  True,  True,  True,  True,  True,  True,  True,  True,\n",
      "         True,  True,  True,  True,  True,  True,  True,  True,  True,\n",
      "         True,  True,  True,  True,  True,  True,  True,  True,  True,\n",
      "         True,  True],\n",
      "       [ True,  True,  True,  True,  True,  True,  True,  True,  True,\n",
      "         True,  True,  True,  True,  True,  True,  True,  True,  True,\n",
      "         True,  True,  True,  True,  True,  True,  True,  True,  True,\n",
      "         True,  True],\n",
      "       [ True,  True,  True,  True,  True,  True,  True,  True,  True,\n",
      "         True,  True,  True,  True,  True,  True,  True,  True,  True,\n",
      "         True,  True,  True,  True,  True,  True,  True,  True,  True,\n",
      "         True,  True],\n",
      "       [ True,  True,  True,  True,  True,  True,  True,  True,  True,\n",
      "         True,  True,  True,  True,  True,  True,  True,  True,  True,\n",
      "         True,  True,  True,  True,  True,  True,  True,  True,  True,\n",
      "         True,  True],\n",
      "       [ True,  True,  True,  True,  True,  True,  True,  True,  True,\n",
      "         True,  True,  True,  True,  True,  True,  True,  True,  True,\n",
      "         True,  True,  True,  True,  True,  True,  True,  True,  True,\n",
      "         True,  True],\n",
      "       [ True,  True,  True,  True,  True,  True,  True,  True,  True,\n",
      "         True,  True,  True,  True,  True,  True,  True,  True,  True,\n",
      "         True,  True,  True,  True,  True,  True,  True,  True,  True,\n",
      "         True,  True],\n",
      "       [ True,  True,  True,  True,  True,  True,  True,  True,  True,\n",
      "         True,  True,  True,  True,  True,  True,  True,  True,  True,\n",
      "         True,  True,  True,  True,  True,  True,  True,  True,  True,\n",
      "         True,  True]]), array([[ True,  True,  True,  True,  True,  True,  True,  True,  True,\n",
      "         True,  True,  True,  True,  True,  True,  True,  True,  True,\n",
      "         True,  True,  True,  True,  True,  True,  True,  True,  True,\n",
      "         True,  True],\n",
      "       [ True,  True,  True,  True,  True,  True,  True,  True,  True,\n",
      "         True,  True,  True,  True,  True,  True,  True,  True,  True,\n",
      "         True,  True,  True,  True,  True,  True,  True,  True,  True,\n",
      "         True,  True],\n",
      "       [ True,  True,  True,  True,  True,  True,  True,  True,  True,\n",
      "         True,  True,  True,  True,  True,  True,  True,  True,  True,\n",
      "         True,  True,  True,  True,  True,  True,  True,  True,  True,\n",
      "         True,  True],\n",
      "       [ True,  True,  True,  True,  True,  True,  True,  True,  True,\n",
      "         True,  True,  True,  True,  True,  True,  True,  True,  True,\n",
      "         True,  True,  True,  True,  True,  True,  True,  True,  True,\n",
      "         True,  True],\n",
      "       [ True,  True,  True,  True,  True,  True,  True,  True,  True,\n",
      "         True,  True,  True,  True,  True,  True,  True,  True,  True,\n",
      "         True,  True,  True,  True,  True,  True,  True,  True,  True,\n",
      "         True,  True],\n",
      "       [ True,  True,  True,  True,  True,  True,  True,  True,  True,\n",
      "         True,  True,  True,  True,  True,  True,  True,  True,  True,\n",
      "         True,  True,  True,  True,  True,  True,  True,  True,  True,\n",
      "         True,  True],\n",
      "       [ True,  True,  True,  True,  True,  True,  True,  True,  True,\n",
      "         True,  True,  True,  True,  True,  True,  True,  True,  True,\n",
      "         True,  True,  True,  True,  True,  True,  True,  True,  True,\n",
      "         True,  True],\n",
      "       [ True,  True,  True,  True,  True,  True,  True,  True,  True,\n",
      "         True,  True,  True,  True,  True,  True,  True,  True,  True,\n",
      "         True,  True,  True,  True,  True,  True,  True,  True,  True,\n",
      "         True,  True],\n",
      "       [ True,  True,  True,  True,  True,  True,  True,  True,  True,\n",
      "         True,  True,  True,  True,  True,  True,  True,  True,  True,\n",
      "         True,  True,  True,  True,  True,  True,  True,  True,  True,\n",
      "         True,  True],\n",
      "       [ True,  True,  True,  True,  True,  True,  True,  True,  True,\n",
      "         True,  True,  True,  True,  True,  True,  True,  True,  True,\n",
      "         True,  True,  True,  True,  True,  True,  True,  True,  True,\n",
      "         True,  True],\n",
      "       [ True,  True,  True,  True,  True,  True,  True,  True,  True,\n",
      "         True,  True,  True,  True,  True,  True,  True,  True,  True,\n",
      "         True,  True,  True,  True,  True,  True,  True,  True,  True,\n",
      "         True,  True],\n",
      "       [ True,  True,  True,  True,  True,  True,  True,  True,  True,\n",
      "         True,  True,  True,  True,  True,  True,  True,  True,  True,\n",
      "         True,  True,  True,  True,  True,  True,  True,  True,  True,\n",
      "         True,  True],\n",
      "       [ True,  True,  True,  True,  True,  True,  True,  True,  True,\n",
      "         True,  True,  True,  True,  True,  True,  True,  True,  True,\n",
      "         True,  True,  True,  True,  True,  True,  True,  True,  True,\n",
      "         True,  True],\n",
      "       [ True,  True,  True,  True,  True,  True,  True,  True,  True,\n",
      "         True,  True,  True,  True,  True,  True,  True,  True,  True,\n",
      "         True,  True,  True,  True,  True,  True,  True,  True,  True,\n",
      "         True,  True]])], 'all_2d_cluster_classif_accs_100': [array([[0.75 , 0.655, 0.505, 0.505, 0.505, 0.52 , 0.6  , 0.695, 0.78 ,\n",
      "        0.63 , 0.635, 0.67 , 0.595, 0.605, 0.605, 0.635, 0.695, 0.66 ,\n",
      "        0.64 , 0.585, 0.625, 0.545, 0.515, 0.505, 0.505, 0.51 , 0.52 ,\n",
      "        0.52 , 0.505],\n",
      "       [0.655, 0.56 , 0.59 , 0.59 , 0.59 , 0.575, 0.505, 0.6  , 0.685,\n",
      "        0.535, 0.54 , 0.575, 0.5  , 0.51 , 0.51 , 0.54 , 0.6  , 0.565,\n",
      "        0.545, 0.51 , 0.53 , 0.55 , 0.58 , 0.59 , 0.59 , 0.585, 0.575,\n",
      "        0.575, 0.59 ],\n",
      "       [0.645, 0.74 , 0.89 , 0.89 , 0.89 , 0.875, 0.795, 0.7  , 0.615,\n",
      "        0.765, 0.76 , 0.725, 0.8  , 0.79 , 0.79 , 0.76 , 0.7  , 0.735,\n",
      "        0.755, 0.81 , 0.77 , 0.85 , 0.88 , 0.89 , 0.89 , 0.885, 0.875,\n",
      "        0.875, 0.89 ],\n",
      "       [0.54 , 0.555, 0.705, 0.705, 0.705, 0.69 , 0.61 , 0.515, 0.57 ,\n",
      "        0.58 , 0.575, 0.54 , 0.615, 0.605, 0.605, 0.575, 0.515, 0.55 ,\n",
      "        0.57 , 0.625, 0.585, 0.665, 0.695, 0.705, 0.705, 0.7  , 0.69 ,\n",
      "        0.69 , 0.705],\n",
      "       [0.585, 0.68 , 0.83 , 0.83 , 0.83 , 0.815, 0.735, 0.64 , 0.555,\n",
      "        0.705, 0.7  , 0.665, 0.74 , 0.73 , 0.73 , 0.7  , 0.64 , 0.675,\n",
      "        0.695, 0.75 , 0.71 , 0.79 , 0.82 , 0.83 , 0.83 , 0.825, 0.815,\n",
      "        0.815, 0.83 ],\n",
      "       [0.6  , 0.505, 0.645, 0.645, 0.645, 0.63 , 0.55 , 0.545, 0.63 ,\n",
      "        0.52 , 0.515, 0.52 , 0.555, 0.545, 0.545, 0.515, 0.545, 0.51 ,\n",
      "        0.51 , 0.565, 0.525, 0.605, 0.635, 0.645, 0.645, 0.64 , 0.63 ,\n",
      "        0.63 , 0.645],\n",
      "       [0.545, 0.55 , 0.7  , 0.7  , 0.7  , 0.685, 0.605, 0.51 , 0.575,\n",
      "        0.575, 0.57 , 0.535, 0.61 , 0.6  , 0.6  , 0.57 , 0.51 , 0.545,\n",
      "        0.565, 0.62 , 0.58 , 0.66 , 0.69 , 0.7  , 0.7  , 0.695, 0.685,\n",
      "        0.685, 0.7  ],\n",
      "       [0.51 , 0.605, 0.755, 0.755, 0.755, 0.74 , 0.66 , 0.565, 0.52 ,\n",
      "        0.63 , 0.625, 0.59 , 0.665, 0.655, 0.655, 0.625, 0.565, 0.6  ,\n",
      "        0.62 , 0.675, 0.635, 0.715, 0.745, 0.755, 0.755, 0.75 , 0.74 ,\n",
      "        0.74 , 0.755],\n",
      "       [0.55 , 0.645, 0.795, 0.795, 0.795, 0.78 , 0.7  , 0.605, 0.52 ,\n",
      "        0.67 , 0.665, 0.63 , 0.705, 0.695, 0.695, 0.665, 0.605, 0.64 ,\n",
      "        0.66 , 0.715, 0.675, 0.755, 0.785, 0.795, 0.795, 0.79 , 0.78 ,\n",
      "        0.78 , 0.795],\n",
      "       [0.555, 0.54 , 0.69 , 0.69 , 0.69 , 0.675, 0.595, 0.5  , 0.585,\n",
      "        0.565, 0.56 , 0.525, 0.6  , 0.59 , 0.59 , 0.56 , 0.5  , 0.535,\n",
      "        0.555, 0.61 , 0.57 , 0.65 , 0.68 , 0.69 , 0.69 , 0.685, 0.675,\n",
      "        0.675, 0.69 ],\n",
      "       [0.515, 0.58 , 0.73 , 0.73 , 0.73 , 0.715, 0.635, 0.54 , 0.545,\n",
      "        0.605, 0.6  , 0.565, 0.64 , 0.63 , 0.63 , 0.6  , 0.54 , 0.575,\n",
      "        0.595, 0.65 , 0.61 , 0.69 , 0.72 , 0.73 , 0.73 , 0.725, 0.715,\n",
      "        0.715, 0.73 ],\n",
      "       [0.51 , 0.585, 0.735, 0.735, 0.735, 0.72 , 0.64 , 0.545, 0.54 ,\n",
      "        0.61 , 0.605, 0.57 , 0.645, 0.635, 0.635, 0.605, 0.545, 0.58 ,\n",
      "        0.6  , 0.655, 0.615, 0.695, 0.725, 0.735, 0.735, 0.73 , 0.72 ,\n",
      "        0.72 , 0.735],\n",
      "       [0.615, 0.71 , 0.86 , 0.86 , 0.86 , 0.845, 0.765, 0.67 , 0.585,\n",
      "        0.735, 0.73 , 0.695, 0.77 , 0.76 , 0.76 , 0.73 , 0.67 , 0.705,\n",
      "        0.725, 0.78 , 0.74 , 0.82 , 0.85 , 0.86 , 0.86 , 0.855, 0.845,\n",
      "        0.845, 0.86 ],\n",
      "       [0.565, 0.66 , 0.81 , 0.81 , 0.81 , 0.795, 0.715, 0.62 , 0.535,\n",
      "        0.685, 0.68 , 0.645, 0.72 , 0.71 , 0.71 , 0.68 , 0.62 , 0.655,\n",
      "        0.675, 0.73 , 0.69 , 0.77 , 0.8  , 0.81 , 0.81 , 0.805, 0.795,\n",
      "        0.795, 0.81 ]]), array([[0.75 , 0.655, 0.505, 0.505, 0.505, 0.52 , 0.6  , 0.695, 0.78 ,\n",
      "        0.63 , 0.635, 0.67 , 0.595, 0.605, 0.605, 0.635, 0.695, 0.66 ,\n",
      "        0.64 , 0.585, 0.625, 0.545, 0.515, 0.505, 0.505, 0.51 , 0.52 ,\n",
      "        0.52 , 0.505],\n",
      "       [0.655, 0.56 , 0.59 , 0.59 , 0.59 , 0.575, 0.505, 0.6  , 0.685,\n",
      "        0.535, 0.54 , 0.575, 0.5  , 0.51 , 0.51 , 0.54 , 0.6  , 0.565,\n",
      "        0.545, 0.51 , 0.53 , 0.55 , 0.58 , 0.59 , 0.59 , 0.585, 0.575,\n",
      "        0.575, 0.59 ],\n",
      "       [0.645, 0.74 , 0.89 , 0.89 , 0.89 , 0.875, 0.795, 0.7  , 0.615,\n",
      "        0.765, 0.76 , 0.725, 0.8  , 0.79 , 0.79 , 0.76 , 0.7  , 0.735,\n",
      "        0.755, 0.81 , 0.77 , 0.85 , 0.88 , 0.89 , 0.89 , 0.885, 0.875,\n",
      "        0.875, 0.89 ],\n",
      "       [0.54 , 0.555, 0.705, 0.705, 0.705, 0.69 , 0.61 , 0.515, 0.57 ,\n",
      "        0.58 , 0.575, 0.54 , 0.615, 0.605, 0.605, 0.575, 0.515, 0.55 ,\n",
      "        0.57 , 0.625, 0.585, 0.665, 0.695, 0.705, 0.705, 0.7  , 0.69 ,\n",
      "        0.69 , 0.705],\n",
      "       [0.585, 0.68 , 0.83 , 0.83 , 0.83 , 0.815, 0.735, 0.64 , 0.555,\n",
      "        0.705, 0.7  , 0.665, 0.74 , 0.73 , 0.73 , 0.7  , 0.64 , 0.675,\n",
      "        0.695, 0.75 , 0.71 , 0.79 , 0.82 , 0.83 , 0.83 , 0.825, 0.815,\n",
      "        0.815, 0.83 ],\n",
      "       [0.6  , 0.505, 0.645, 0.645, 0.645, 0.63 , 0.55 , 0.545, 0.63 ,\n",
      "        0.52 , 0.515, 0.52 , 0.555, 0.545, 0.545, 0.515, 0.545, 0.51 ,\n",
      "        0.51 , 0.565, 0.525, 0.605, 0.635, 0.645, 0.645, 0.64 , 0.63 ,\n",
      "        0.63 , 0.645],\n",
      "       [0.545, 0.55 , 0.7  , 0.7  , 0.7  , 0.685, 0.605, 0.51 , 0.575,\n",
      "        0.575, 0.57 , 0.535, 0.61 , 0.6  , 0.6  , 0.57 , 0.51 , 0.545,\n",
      "        0.565, 0.62 , 0.58 , 0.66 , 0.69 , 0.7  , 0.7  , 0.695, 0.685,\n",
      "        0.685, 0.7  ],\n",
      "       [0.51 , 0.605, 0.755, 0.755, 0.755, 0.74 , 0.66 , 0.565, 0.52 ,\n",
      "        0.63 , 0.625, 0.59 , 0.665, 0.655, 0.655, 0.625, 0.565, 0.6  ,\n",
      "        0.62 , 0.675, 0.635, 0.715, 0.745, 0.755, 0.755, 0.75 , 0.74 ,\n",
      "        0.74 , 0.755],\n",
      "       [0.55 , 0.645, 0.795, 0.795, 0.795, 0.78 , 0.7  , 0.605, 0.52 ,\n",
      "        0.67 , 0.665, 0.63 , 0.705, 0.695, 0.695, 0.665, 0.605, 0.64 ,\n",
      "        0.66 , 0.715, 0.675, 0.755, 0.785, 0.795, 0.795, 0.79 , 0.78 ,\n",
      "        0.78 , 0.795],\n",
      "       [0.555, 0.54 , 0.69 , 0.69 , 0.69 , 0.675, 0.595, 0.5  , 0.585,\n",
      "        0.565, 0.56 , 0.525, 0.6  , 0.59 , 0.59 , 0.56 , 0.5  , 0.535,\n",
      "        0.555, 0.61 , 0.57 , 0.65 , 0.68 , 0.69 , 0.69 , 0.685, 0.675,\n",
      "        0.675, 0.69 ],\n",
      "       [0.515, 0.58 , 0.73 , 0.73 , 0.73 , 0.715, 0.635, 0.54 , 0.545,\n",
      "        0.605, 0.6  , 0.565, 0.64 , 0.63 , 0.63 , 0.6  , 0.54 , 0.575,\n",
      "        0.595, 0.65 , 0.61 , 0.69 , 0.72 , 0.73 , 0.73 , 0.725, 0.715,\n",
      "        0.715, 0.73 ],\n",
      "       [0.51 , 0.585, 0.735, 0.735, 0.735, 0.72 , 0.64 , 0.545, 0.54 ,\n",
      "        0.61 , 0.605, 0.57 , 0.645, 0.635, 0.635, 0.605, 0.545, 0.58 ,\n",
      "        0.6  , 0.655, 0.615, 0.695, 0.725, 0.735, 0.735, 0.73 , 0.72 ,\n",
      "        0.72 , 0.735],\n",
      "       [0.615, 0.71 , 0.86 , 0.86 , 0.86 , 0.845, 0.765, 0.67 , 0.585,\n",
      "        0.735, 0.73 , 0.695, 0.77 , 0.76 , 0.76 , 0.73 , 0.67 , 0.705,\n",
      "        0.725, 0.78 , 0.74 , 0.82 , 0.85 , 0.86 , 0.86 , 0.855, 0.845,\n",
      "        0.845, 0.86 ],\n",
      "       [0.565, 0.66 , 0.81 , 0.81 , 0.81 , 0.795, 0.715, 0.62 , 0.535,\n",
      "        0.685, 0.68 , 0.645, 0.72 , 0.71 , 0.71 , 0.68 , 0.62 , 0.655,\n",
      "        0.675, 0.73 , 0.69 , 0.77 , 0.8  , 0.81 , 0.81 , 0.805, 0.795,\n",
      "        0.795, 0.81 ]])]}\n",
      "number of drift detection differences in the two runs:\n",
      "0\n",
      "actual total number of drift detections: 406\n",
      "number of true signals: 406\n"
     ]
    }
   ],
   "source": [
    "result_dict_100 = np.load('spam_stats_100.npy', allow_pickle=True).item()\n",
    "print('resulting dictionary')\n",
    "print(result_dict_100)\n",
    "all_2d_drifts_100 = result_dict_100['all_2d_drifts_100']\n",
    "# print('total number of drift detections:', len(X_ref_batches_100) * len(X_test_batches_100))\n",
    "print('number of drift detection differences in the two runs:')\n",
    "num_diffs = np.sum(all_2d_drifts_100[0] != all_2d_drifts_100[1])\n",
    "print(num_diffs)\n",
    "\n",
    "# print('expected total number of drift detections:', len(X_ref_batches_100) * len(X_test_batches_100))\n",
    "print('actual total number of drift detections:', all_2d_drifts_100[0].size)\n",
    "print('total number of drift signals:', np.sum(all_2d_drifts_100[0]))\n"
   ],
   "metadata": {
    "collapsed": false,
    "pycharm": {
     "name": "#%%\n"
    }
   }
  },
  {
   "cell_type": "markdown",
   "source": [
    "## Evaluation with size 50 batches"
   ],
   "metadata": {
    "collapsed": false
   }
  },
  {
   "cell_type": "markdown",
   "source": [
    "### Find suitable KMeans clustering parameters"
   ],
   "metadata": {
    "collapsed": false
   }
  },
  {
   "cell_type": "code",
   "execution_count": 18,
   "outputs": [
    {
     "name": "stdout",
     "output_type": "stream",
     "text": [
      "filename spam_kmeans_50/spam_kmeans_50_output0.txt\n",
      "random state: 1053\n",
      "filename spam_kmeans_50/spam_kmeans_50_output1.txt\n",
      "random state: 1053\n",
      "filename spam_kmeans_50/spam_kmeans_50_output2.txt\n",
      "random state: 1053\n",
      "filename spam_kmeans_50/spam_kmeans_50_output3.txt\n",
      "random state: 1053\n",
      "filename spam_kmeans_50/spam_kmeans_50_output4.txt\n",
      "random state: 1053\n",
      "filename spam_kmeans_50/spam_kmeans_50_output5.txt\n",
      "random state: 1053\n",
      "filename spam_kmeans_50/spam_kmeans_50_output6.txt\n",
      "random state: 1053\n",
      "filename spam_kmeans_50/spam_kmeans_50_output7.txt\n",
      "random state: 1053\n",
      "filename spam_kmeans_50/spam_kmeans_50_output8.txt\n",
      "random state: 1053\n",
      "filename spam_kmeans_50/spam_kmeans_50_output9.txt\n",
      "random state: 1053\n",
      "filename spam_kmeans_50/spam_kmeans_50_output10.txt\n",
      "random state: 1053\n",
      "filename spam_kmeans_50/spam_kmeans_50_output11.txt\n",
      "random state: 1053\n",
      "filename spam_kmeans_50/spam_kmeans_50_output12.txt\n",
      "random state: 1053\n",
      "filename spam_kmeans_50/spam_kmeans_50_output13.txt\n",
      "random state: 1053\n",
      "filename spam_kmeans_50/spam_kmeans_50_output14.txt\n",
      "random state: 1053\n",
      "filename spam_kmeans_50/spam_kmeans_50_output15.txt\n",
      "random state: 1053\n",
      "filename spam_kmeans_50/spam_kmeans_50_output16.txt\n",
      "random state: 1053\n",
      "filename spam_kmeans_50/spam_kmeans_50_output17.txt\n",
      "random state: 1053\n",
      "filename spam_kmeans_50/spam_kmeans_50_output18.txt\n",
      "random state: 1053\n",
      "filename spam_kmeans_50/spam_kmeans_50_output19.txt\n",
      "random state: 1053\n",
      "filename spam_kmeans_50/spam_kmeans_50_output20.txt\n",
      "random state: 1053\n",
      "filename spam_kmeans_50/spam_kmeans_50_output21.txt\n",
      "random state: 1053\n",
      "filename spam_kmeans_50/spam_kmeans_50_output22.txt\n",
      "random state: 1053\n",
      "filename spam_kmeans_50/spam_kmeans_50_output23.txt\n",
      "random state: 1053\n",
      "filename spam_kmeans_50/spam_kmeans_50_output24.txt\n",
      "random state: 1053\n",
      "filename spam_kmeans_50/spam_kmeans_50_output25.txt\n",
      "random state: 1053\n",
      "filename spam_kmeans_50/spam_kmeans_50_output26.txt\n",
      "random state: 1053\n",
      "filename spam_kmeans_50/spam_kmeans_50_output27.txt\n",
      "random state: 1053\n",
      "filename spam_kmeans_50/spam_kmeans_50_output28.txt\n",
      "random state: 1053\n",
      "{'total_max_iterations': 7, 'total_min_init_inertia': 1004.9832121137771, 'total_max_init_inertia': 4164.124757731144, 'total_min_final_inertia': 970.7780966211719, 'total_max_final_inertia': 1565.3323169252897, 'total_num_convergences': 1450, 'total_num_strict_convergences': 1450, 'total_num_tol_based_convergences': 0}\n"
     ]
    }
   ],
   "source": [
    "kmeans_verbose_helpers.write_kmeans_results_ucdd_helper('spam_kmeans_50/spam_kmeans_50_output', X_ref_batches_50,\n",
    "                                                        n_init=50, max_iter=500, tol=0,\n",
    "                                                        random_state=1053)"
   ],
   "metadata": {
    "collapsed": false,
    "pycharm": {
     "name": "#%%\n"
    }
   }
  },
  {
   "cell_type": "markdown",
   "source": [
    "### Use UCDD directly to obtain inspectable results"
   ],
   "metadata": {
    "collapsed": false
   }
  },
  {
   "cell_type": "code",
   "execution_count": 30,
   "outputs": [
    {
     "name": "stdout",
     "output_type": "stream",
     "text": [
      "random_state\n",
      "0\n",
      "pool opened\n"
     ]
    }
   ],
   "source": [
    "from core import ucdd\n",
    "import importlib\n",
    "importlib.reload(ucdd)\n",
    "\n",
    "all_2d_drifts_50 = []\n",
    "all_2d_cluster_classif_accs_50 = []\n",
    "\n",
    "for random_state in [0]:\n",
    "    drifts_2d_arr_50, cluster_classif_accs_2d_arr_50 = ucdd.all_drifting_batches_parallel_all_info(\n",
    "        X_ref_batches_50,\n",
    "        X_test_batches_50,\n",
    "        additional_check=True,\n",
    "        n_init=100,\n",
    "        max_iter=7000,\n",
    "        tol=0,\n",
    "        random_state=random_state,\n",
    "        reference_label_batches=y_ref_batches_50,\n",
    "        testing_label_batches=y_test_batches_50\n",
    "    )\n",
    "    all_2d_drifts_50.append(drifts_2d_arr_50)\n",
    "    all_2d_cluster_classif_accs_50.append(cluster_classif_accs_2d_arr_50)\n",
    "\n",
    "result_dict_50 = {\n",
    "    'all_2d_drifts_50': all_2d_drifts_50,\n",
    "    'all_2d_cluster_classif_accs_50': all_2d_cluster_classif_accs_50\n",
    "}\n",
    "np.save('spam_stats_50.npy', result_dict_50)"
   ],
   "metadata": {
    "collapsed": false,
    "pycharm": {
     "name": "#%%\n"
    }
   }
  },
  {
   "cell_type": "code",
   "execution_count": 16,
   "outputs": [
    {
     "name": "stdout",
     "output_type": "stream",
     "text": [
      "resulting dictionary\n",
      "{'all_2d_drifts_50': [array([[ True,  True,  True, ...,  True,  True,  True],\n",
      "       [ True,  True,  True, ...,  True,  True,  True],\n",
      "       [ True,  True,  True, ...,  True,  True,  True],\n",
      "       ...,\n",
      "       [ True,  True,  True, ...,  True,  True,  True],\n",
      "       [ True,  True,  True, ...,  True,  True,  True],\n",
      "       [ True,  True,  True, ...,  True,  True,  True]])], 'all_2d_cluster_classif_accs_50': [array([[0.76, 0.75, 0.75, ..., 0.51, 0.51, 0.51],\n",
      "       [0.76, 0.75, 0.75, ..., 0.51, 0.51, 0.51],\n",
      "       [0.76, 0.75, 0.75, ..., 0.51, 0.51, 0.51],\n",
      "       ...,\n",
      "       [0.56, 0.57, 0.57, ..., 0.81, 0.81, 0.81],\n",
      "       [0.55, 0.56, 0.56, ..., 0.8 , 0.8 , 0.8 ],\n",
      "       [0.53, 0.52, 0.52, ..., 0.76, 0.76, 0.76]])]}\n",
      "actual total number of drift detections: 1682\n",
      "total number of drift signals: 1682\n"
     ]
    }
   ],
   "source": [
    "result_dict_50 = np.load('spam_stats_50.npy', allow_pickle=True).item()\n",
    "print('resulting dictionary')\n",
    "print(result_dict_50)\n",
    "all_2d_drifts_50 = result_dict_50['all_2d_drifts_50']\n",
    "# print('total number of drift detections:', len(X_ref_batches_50) * len(X_test_batches_50))\n",
    "print('actual total number of drift detections:', all_2d_drifts_50[0].size)\n",
    "print('total number of drift signals:', np.sum(all_2d_drifts_50[0]))"
   ],
   "metadata": {
    "collapsed": false,
    "pycharm": {
     "name": "#%%\n"
    }
   }
  },
  {
   "cell_type": "markdown",
   "source": [
    "## Evaluation with size 20 batches"
   ],
   "metadata": {
    "collapsed": false
   }
  },
  {
   "cell_type": "markdown",
   "source": [
    "### Find suitable KMeans clustering parameters"
   ],
   "metadata": {
    "collapsed": false
   }
  },
  {
   "cell_type": "code",
   "execution_count": 19,
   "outputs": [
    {
     "name": "stdout",
     "output_type": "stream",
     "text": [
      "filename spam_kmeans_20/spam_kmeans_20_output0.txt\n",
      "random state: 1053\n",
      "filename spam_kmeans_20/spam_kmeans_20_output1.txt\n",
      "random state: 1053\n",
      "filename spam_kmeans_20/spam_kmeans_20_output2.txt\n",
      "random state: 1053\n",
      "filename spam_kmeans_20/spam_kmeans_20_output3.txt\n",
      "random state: 1053\n",
      "filename spam_kmeans_20/spam_kmeans_20_output4.txt\n",
      "random state: 1053\n",
      "filename spam_kmeans_20/spam_kmeans_20_output5.txt\n",
      "random state: 1053\n",
      "filename spam_kmeans_20/spam_kmeans_20_output6.txt\n",
      "random state: 1053\n",
      "filename spam_kmeans_20/spam_kmeans_20_output7.txt\n",
      "random state: 1053\n",
      "filename spam_kmeans_20/spam_kmeans_20_output8.txt\n",
      "random state: 1053\n",
      "filename spam_kmeans_20/spam_kmeans_20_output9.txt\n",
      "random state: 1053\n",
      "filename spam_kmeans_20/spam_kmeans_20_output10.txt\n",
      "random state: 1053\n",
      "filename spam_kmeans_20/spam_kmeans_20_output11.txt\n",
      "random state: 1053\n",
      "filename spam_kmeans_20/spam_kmeans_20_output12.txt\n",
      "random state: 1053\n",
      "filename spam_kmeans_20/spam_kmeans_20_output13.txt\n",
      "random state: 1053\n",
      "filename spam_kmeans_20/spam_kmeans_20_output14.txt\n",
      "random state: 1053\n",
      "filename spam_kmeans_20/spam_kmeans_20_output15.txt\n",
      "random state: 1053\n",
      "filename spam_kmeans_20/spam_kmeans_20_output16.txt\n",
      "random state: 1053\n",
      "filename spam_kmeans_20/spam_kmeans_20_output17.txt\n",
      "random state: 1053\n",
      "filename spam_kmeans_20/spam_kmeans_20_output18.txt\n",
      "random state: 1053\n",
      "filename spam_kmeans_20/spam_kmeans_20_output19.txt\n",
      "random state: 1053\n",
      "filename spam_kmeans_20/spam_kmeans_20_output20.txt\n",
      "random state: 1053\n",
      "filename spam_kmeans_20/spam_kmeans_20_output21.txt\n",
      "random state: 1053\n",
      "filename spam_kmeans_20/spam_kmeans_20_output22.txt\n",
      "random state: 1053\n",
      "filename spam_kmeans_20/spam_kmeans_20_output23.txt\n",
      "random state: 1053\n",
      "filename spam_kmeans_20/spam_kmeans_20_output24.txt\n",
      "random state: 1053\n",
      "filename spam_kmeans_20/spam_kmeans_20_output25.txt\n",
      "random state: 1053\n",
      "filename spam_kmeans_20/spam_kmeans_20_output26.txt\n",
      "random state: 1053\n",
      "filename spam_kmeans_20/spam_kmeans_20_output27.txt\n",
      "random state: 1053\n",
      "filename spam_kmeans_20/spam_kmeans_20_output28.txt\n",
      "random state: 1053\n",
      "filename spam_kmeans_20/spam_kmeans_20_output29.txt\n",
      "random state: 1053\n",
      "filename spam_kmeans_20/spam_kmeans_20_output30.txt\n",
      "random state: 1053\n",
      "filename spam_kmeans_20/spam_kmeans_20_output31.txt\n",
      "random state: 1053\n",
      "filename spam_kmeans_20/spam_kmeans_20_output32.txt\n",
      "random state: 1053\n",
      "filename spam_kmeans_20/spam_kmeans_20_output33.txt\n",
      "random state: 1053\n",
      "filename spam_kmeans_20/spam_kmeans_20_output34.txt\n",
      "random state: 1053\n",
      "filename spam_kmeans_20/spam_kmeans_20_output35.txt\n",
      "random state: 1053\n",
      "filename spam_kmeans_20/spam_kmeans_20_output36.txt\n",
      "random state: 1053\n",
      "filename spam_kmeans_20/spam_kmeans_20_output37.txt\n",
      "random state: 1053\n",
      "filename spam_kmeans_20/spam_kmeans_20_output38.txt\n",
      "random state: 1053\n",
      "filename spam_kmeans_20/spam_kmeans_20_output39.txt\n",
      "random state: 1053\n",
      "filename spam_kmeans_20/spam_kmeans_20_output40.txt\n",
      "random state: 1053\n",
      "filename spam_kmeans_20/spam_kmeans_20_output41.txt\n",
      "random state: 1053\n",
      "filename spam_kmeans_20/spam_kmeans_20_output42.txt\n",
      "random state: 1053\n",
      "filename spam_kmeans_20/spam_kmeans_20_output43.txt\n",
      "random state: 1053\n",
      "filename spam_kmeans_20/spam_kmeans_20_output44.txt\n",
      "random state: 1053\n",
      "filename spam_kmeans_20/spam_kmeans_20_output45.txt\n",
      "random state: 1053\n",
      "filename spam_kmeans_20/spam_kmeans_20_output46.txt\n",
      "random state: 1053\n",
      "filename spam_kmeans_20/spam_kmeans_20_output47.txt\n",
      "random state: 1053\n",
      "filename spam_kmeans_20/spam_kmeans_20_output48.txt\n",
      "random state: 1053\n",
      "filename spam_kmeans_20/spam_kmeans_20_output49.txt\n",
      "random state: 1053\n",
      "filename spam_kmeans_20/spam_kmeans_20_output50.txt\n",
      "random state: 1053\n",
      "filename spam_kmeans_20/spam_kmeans_20_output51.txt\n",
      "random state: 1053\n",
      "filename spam_kmeans_20/spam_kmeans_20_output52.txt\n",
      "random state: 1053\n",
      "filename spam_kmeans_20/spam_kmeans_20_output53.txt\n",
      "random state: 1053\n",
      "filename spam_kmeans_20/spam_kmeans_20_output54.txt\n",
      "random state: 1053\n",
      "filename spam_kmeans_20/spam_kmeans_20_output55.txt\n",
      "random state: 1053\n",
      "filename spam_kmeans_20/spam_kmeans_20_output56.txt\n",
      "random state: 1053\n",
      "filename spam_kmeans_20/spam_kmeans_20_output57.txt\n",
      "random state: 1053\n",
      "filename spam_kmeans_20/spam_kmeans_20_output58.txt\n",
      "random state: 1053\n",
      "filename spam_kmeans_20/spam_kmeans_20_output59.txt\n",
      "random state: 1053\n",
      "filename spam_kmeans_20/spam_kmeans_20_output60.txt\n",
      "random state: 1053\n",
      "filename spam_kmeans_20/spam_kmeans_20_output61.txt\n",
      "random state: 1053\n",
      "filename spam_kmeans_20/spam_kmeans_20_output62.txt\n",
      "random state: 1053\n",
      "filename spam_kmeans_20/spam_kmeans_20_output63.txt\n",
      "random state: 1053\n",
      "filename spam_kmeans_20/spam_kmeans_20_output64.txt\n",
      "random state: 1053\n",
      "filename spam_kmeans_20/spam_kmeans_20_output65.txt\n",
      "random state: 1053\n",
      "filename spam_kmeans_20/spam_kmeans_20_output66.txt\n",
      "random state: 1053\n",
      "filename spam_kmeans_20/spam_kmeans_20_output67.txt\n",
      "random state: 1053\n",
      "filename spam_kmeans_20/spam_kmeans_20_output68.txt\n",
      "random state: 1053\n",
      "filename spam_kmeans_20/spam_kmeans_20_output69.txt\n",
      "random state: 1053\n",
      "filename spam_kmeans_20/spam_kmeans_20_output70.txt\n",
      "random state: 1053\n",
      "filename spam_kmeans_20/spam_kmeans_20_output71.txt\n",
      "random state: 1053\n",
      "filename spam_kmeans_20/spam_kmeans_20_output72.txt\n",
      "random state: 1053\n",
      "{'total_max_iterations': 5, 'total_min_init_inertia': 366.676054032121, 'total_max_init_inertia': 1750.8002140038977, 'total_min_final_inertia': 343.67493082288684, 'total_max_final_inertia': 803.3543209542138, 'total_num_convergences': 3650, 'total_num_strict_convergences': 3650, 'total_num_tol_based_convergences': 0}\n"
     ]
    }
   ],
   "source": [
    "kmeans_verbose_helpers.write_kmeans_results_ucdd_helper('spam_kmeans_20/spam_kmeans_20_output', X_ref_batches_20,\n",
    "                                                        n_init=50, max_iter=500, tol=0,\n",
    "                                                        random_state=1053)\n"
   ],
   "metadata": {
    "collapsed": false,
    "pycharm": {
     "name": "#%%\n"
    }
   }
  },
  {
   "cell_type": "markdown",
   "source": [
    "### Use UCDD directly to obtain inspectable results"
   ],
   "metadata": {
    "collapsed": false
   }
  },
  {
   "cell_type": "code",
   "execution_count": 33,
   "outputs": [
    {
     "name": "stdout",
     "output_type": "stream",
     "text": [
      "random_state\n",
      "0\n",
      "pool opened\n"
     ]
    }
   ],
   "source": [
    "from core import ucdd\n",
    "import importlib\n",
    "importlib.reload(ucdd)\n",
    "\n",
    "all_2d_drifts_20 = []\n",
    "all_2d_cluster_classif_accs_20 = []\n",
    "\n",
    "for random_state in [0]:\n",
    "    drifts_2d_arr_20, cluster_classif_accs_2d_arr_20 = ucdd.all_drifting_batches_parallel_all_info(\n",
    "        X_ref_batches_20,\n",
    "        X_test_batches_20,\n",
    "        additional_check=True,\n",
    "        n_init=40,\n",
    "        max_iter=5000,\n",
    "        tol=0,\n",
    "        random_state=random_state,\n",
    "        reference_label_batches=y_ref_batches_20,\n",
    "        testing_label_batches=y_test_batches_20\n",
    "    )\n",
    "    all_2d_drifts_20.append(drifts_2d_arr_20)\n",
    "    all_2d_cluster_classif_accs_20.append(cluster_classif_accs_2d_arr_20)\n",
    "\n",
    "result_dict_20 = {\n",
    "    'all_2d_drifts_20': all_2d_drifts_20,\n",
    "    'all_2d_cluster_classif_accs_20': all_2d_cluster_classif_accs_20\n",
    "}\n",
    "np.save('spam_stats_20.npy', result_dict_20)"
   ],
   "metadata": {
    "collapsed": false,
    "pycharm": {
     "name": "#%%\n"
    }
   }
  },
  {
   "cell_type": "code",
   "execution_count": 18,
   "outputs": [
    {
     "name": "stdout",
     "output_type": "stream",
     "text": [
      "resulting dictionary\n",
      "{'all_2d_drifts_20': [array([[ True,  True,  True, ...,  True,  True,  True],\n",
      "       [ True,  True,  True, ...,  True,  True,  True],\n",
      "       [ True,  True,  True, ...,  True,  True,  True],\n",
      "       ...,\n",
      "       [ True,  True,  True, ...,  True,  True,  True],\n",
      "       [ True,  True,  True, ...,  True,  True,  True],\n",
      "       [ True,  True,  True, ...,  True,  True,  True]])], 'all_2d_cluster_classif_accs_20': [array([[0.825, 0.725, 0.7  , ..., 0.525, 0.525, 0.8  ],\n",
      "       [0.825, 0.725, 0.7  , ..., 0.525, 0.525, 0.8  ],\n",
      "       [0.825, 0.725, 0.7  , ..., 0.525, 0.525, 0.8  ],\n",
      "       ...,\n",
      "       [0.6  , 0.5  , 0.525, ..., 0.7  , 0.7  , 0.575],\n",
      "       [0.525, 0.625, 0.6  , ..., 0.775, 0.775, 0.5  ],\n",
      "       [0.55 , 0.55 , 0.575, ..., 0.75 , 0.75 , 0.525]])]}\n",
      "actual total number of drift detections: 10658\n",
      "total number of drift signals: 10657\n"
     ]
    }
   ],
   "source": [
    "result_dict_20 = np.load('spam_stats_20.npy', allow_pickle=True).item()\n",
    "print('resulting dictionary')\n",
    "print(result_dict_20)\n",
    "all_2d_drifts_20 = result_dict_20['all_2d_drifts_20']\n",
    "# print('total number of drift detections:', len(X_ref_batches_20) * len(X_test_batches_20))\n",
    "print('actual total number of drift detections:', all_2d_drifts_20[0].size)\n",
    "print('total number of drift signals:', np.sum(all_2d_drifts_20[0]))"
   ],
   "metadata": {
    "collapsed": false,
    "pycharm": {
     "name": "#%%\n"
    }
   }
  },
  {
   "cell_type": "code",
   "execution_count": null,
   "outputs": [],
   "source": [],
   "metadata": {
    "collapsed": false,
    "pycharm": {
     "name": "#%%\n"
    }
   }
  }
 ],
 "metadata": {
  "kernelspec": {
   "display_name": "Python 3",
   "language": "python",
   "name": "python3"
  },
  "language_info": {
   "codemirror_mode": {
    "name": "ipython",
    "version": 2
   },
   "file_extension": ".py",
   "mimetype": "text/x-python",
   "name": "python",
   "nbconvert_exporter": "python",
   "pygments_lexer": "ipython2",
   "version": "2.7.6"
  }
 },
 "nbformat": 4,
 "nbformat_minor": 0
}