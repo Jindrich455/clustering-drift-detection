{
 "cells": [
  {
   "cell_type": "markdown",
   "metadata": {
    "collapsed": true
   },
   "source": [
    "# UCDD on weather evaluation"
   ]
  },
  {
   "cell_type": "markdown",
   "metadata": {},
   "source": [
    "## Accept and preprocess the weather dataset"
   ]
  },
  {
   "cell_type": "code",
   "execution_count": 2,
   "metadata": {},
   "outputs": [],
   "source": [
    "import numpy as np\n",
    "import pandas as pd"
   ]
  },
  {
   "cell_type": "code",
   "execution_count": 3,
   "metadata": {},
   "outputs": [
    {
     "name": "stdout",
     "output_type": "stream",
     "text": [
      "\n",
      "reference data\n",
      "(6053, 8)\n",
      "[[0.32335329 0.45853659 0.50909091 ... 0.21443737 0.00335913 0.36567926]\n",
      " [0.34231537 0.44682927 0.53787879 ... 0.34394904 0.00326915 0.35648621]\n",
      " [0.31636727 0.41170732 0.58181818 ... 0.25690021 0.00315918 0.35648621]\n",
      " ...\n",
      " [0.83532934 0.9395122  0.56363636 ... 0.16985138 0.00897767 0.89785495]\n",
      " [0.81936128 0.88       0.58787879 ... 0.12951168 0.0084678  0.84576098]\n",
      " [0.81437126 0.88780488 0.56363636 ... 0.10828025 0.00836782 0.84576098]]\n",
      "\n",
      "reference labels\n",
      "(6053, 1)\n",
      "\n",
      "testing data\n",
      "(12106, 8)\n",
      "[[0.80538922 0.84       0.57272727 ... 0.16985138 0.00855777 0.7854954 ]\n",
      " [0.82035928 0.85853659 0.56060606 ... 0.14861996 0.00936756 0.7854954 ]\n",
      " [0.88922156 0.87804878 0.49242424 ... 0.1910828  0.00965749 0.86823289]\n",
      " ...\n",
      " [0.21556886 0.28195122 0.44545455 ... 0.33970276 0.00278927 0.21552605]\n",
      " [0.1497006  0.17756098 0.51363636 ... 0.48832272 0.00258933 0.13483146]\n",
      " [0.05588822 0.0995122  0.68484848 ... 0.21019108 0.00137964 0.05209397]]\n",
      "\n",
      "testing labels\n",
      "(12106, 1)\n"
     ]
    }
   ],
   "source": [
    "from sklearn.preprocessing import MinMaxScaler\n",
    "\n",
    "\n",
    "df = pd.read_csv(\"../Datasets_concept_drift/real_world_data/weather_dataset.csv\")\n",
    "\n",
    "X = df.drop(columns=['Unnamed: 0', 'Label_Rain'])\n",
    "y = df[\"Label_Rain\"]\n",
    "\n",
    "X_ref = X[:6053]\n",
    "X_test = X[6053:]\n",
    "y_ref = y[:6053]\n",
    "y_test = y[6053:]\n",
    "\n",
    "X_ref = X_ref.to_numpy()\n",
    "X_test = X_test.to_numpy()\n",
    "y_ref = y_ref.to_numpy().reshape((len(y_ref.index), 1))\n",
    "y_test = y_test.to_numpy().reshape((len(y_test.index), 1))\n",
    "\n",
    "scaler = MinMaxScaler()\n",
    "scaler.fit(X_ref)\n",
    "X_ref = scaler.transform(X_ref)\n",
    "X_test = scaler.transform(X_test)\n",
    "\n",
    "print('\\nreference data')\n",
    "print(X_ref.shape)\n",
    "print(X_ref)\n",
    "print('\\nreference labels')\n",
    "print(y_ref.shape)\n",
    "print('\\ntesting data')\n",
    "print(X_test.shape)\n",
    "print(X_test)\n",
    "print('\\ntesting labels')\n",
    "print(y_test.shape)"
   ]
  },
  {
   "cell_type": "markdown",
   "metadata": {},
   "source": [
    "## Split the dataset to batches"
   ]
  },
  {
   "cell_type": "markdown",
   "metadata": {},
   "source": [
    "### Yearly batches (size=365)"
   ]
  },
  {
   "cell_type": "code",
   "execution_count": 3,
   "metadata": {},
   "outputs": [
    {
     "data": {
      "text/plain": "33"
     },
     "execution_count": 3,
     "metadata": {},
     "output_type": "execute_result"
    }
   ],
   "source": [
    "(12106 - (12106 % 365)) // 365"
   ]
  },
  {
   "cell_type": "code",
   "execution_count": 4,
   "metadata": {},
   "outputs": [
    {
     "name": "stdout",
     "output_type": "stream",
     "text": [
      "[[0.80538922 0.84       0.57272727 ... 0.16985138 0.00855777 0.7854954 ]\n",
      " [0.82035928 0.85853659 0.56060606 ... 0.14861996 0.00936756 0.7854954 ]\n",
      " [0.88922156 0.87804878 0.49242424 ... 0.1910828  0.00965749 0.86823289]\n",
      " ...\n",
      " [0.78043912 0.83804878 0.61969697 ... 0.14861996 0.00814788 0.80183861]\n",
      " [0.77844311 0.87219512 0.61363636 ... 0.19532909 0.00850779 0.80183861]\n",
      " [0.81736527 0.88780488 0.58333333 ... 0.492569   0.00868774 0.82022472]]\n",
      "(365, 8)\n",
      "[[0.32335329 0.45853659 0.50909091 ... 0.21443737 0.00335913 0.36567926]\n",
      " [0.34231537 0.44682927 0.53787879 ... 0.34394904 0.00326915 0.35648621]\n",
      " [0.31636727 0.41170732 0.58181818 ... 0.25690021 0.00315918 0.35648621]\n",
      " ...\n",
      " [0.38123752 0.45463415 0.41212121 ... 0.34394904 0.00396897 0.37691522]\n",
      " [0.25149701 0.31707317 0.66666667 ... 0.29723992 0.00436886 0.21348315]\n",
      " [0.41217565 0.4702439  0.56818182 ... 0.17409766 0.00585848 0.35648621]]\n",
      "(365, 8)\n",
      "# yearly test batches:\n",
      "33\n",
      "33\n",
      "# yearly ref batches:\n",
      "16\n",
      "16\n"
     ]
    }
   ],
   "source": [
    "from eval_helpers import helpers\n",
    "\n",
    "X_test_batches_year, y_test_batches_year = helpers.split_to_fixed_size_batches(X_test, y_test, batch_size=365)\n",
    "X_ref_batches_year, y_ref_batches_year = helpers.split_to_fixed_size_batches(X_ref, y_ref, batch_size=365)\n",
    "\n",
    "print('# yearly test batches:')\n",
    "print(len(X_test_batches_year))\n",
    "print(len(y_test_batches_year))\n",
    "print('# yearly ref batches:')\n",
    "print(len(X_ref_batches_year))\n",
    "print(len(y_ref_batches_year))"
   ]
  },
  {
   "cell_type": "markdown",
   "metadata": {},
   "source": [
    "### Monthly batches (size=30)"
   ]
  },
  {
   "cell_type": "code",
   "execution_count": 5,
   "metadata": {},
   "outputs": [
    {
     "name": "stdout",
     "output_type": "stream",
     "text": [
      "[[0.80538922 0.84       0.57272727 0.63404255 0.14285714 0.16985138\n",
      "  0.00855777 0.7854954 ]\n",
      " [0.82035928 0.85853659 0.56060606 0.65106383 0.11278195 0.14861996\n",
      "  0.00936756 0.7854954 ]\n",
      " [0.88922156 0.87804878 0.49242424 0.62978723 0.16165414 0.1910828\n",
      "  0.00965749 0.86823289]\n",
      " [0.8992016  0.92682927 0.4530303  0.6212766  0.21052632 0.23142251\n",
      "  0.00987743 0.87742594]\n",
      " [0.94111776 0.94829268 0.42272727 0.62978723 0.2556391  0.21019108\n",
      "  0.01026733 0.92849847]\n",
      " [0.93013972 0.95219512 0.44090909 0.62978723 0.22180451 0.16985138\n",
      "  0.00987743 0.94892748]\n",
      " [0.85129741 0.96878049 0.53181818 0.65957447 0.15413534 0.25690021\n",
      "  0.00926759 0.8886619 ]\n",
      " [0.84431138 0.96585366 0.57878788 0.50638298 0.16541353 0.10828025\n",
      "  0.0084678  0.8886619 ]\n",
      " [0.84231537 0.95317073 0.57575758 0.22978723 0.12030075 0.08280255\n",
      "  0.00866775 0.89785495]\n",
      " [0.84231537 0.89170732 0.56515152 0.4893617  0.13909774 0.23142251\n",
      "  0.00866775 0.85699694]\n",
      " [0.73752495 0.82926829 0.58636364 0.68085106 0.07894737 0.14861996\n",
      "  0.00836782 0.77630235]\n",
      " [0.66067864 0.78731707 0.63030303 0.48510638 0.14661654 0.12951168\n",
      "  0.00695819 0.72420838]\n",
      " [0.70159681 0.78536585 0.64242424 0.72765957 0.11654135 0.16985138\n",
      "  0.00746806 0.70480082]\n",
      " [0.71257485 0.83121951 0.58181818 0.57446809 0.2481203  0.25690021\n",
      "  0.00737808 0.77630235]\n",
      " [0.76047904 0.90243902 0.52424242 0.34893617 0.18796992 0.40552017\n",
      "  0.00796793 0.81613892]\n",
      " [0.76846307 0.90926829 0.51969697 0.2893617  0.18796992 0.25690021\n",
      "  0.00776798 0.84576098]\n",
      " [0.78243513 0.93073171 0.49848485 0.22978723 0.12030075 0.10828025\n",
      "  0.00776798 0.86414709]\n",
      " [0.80538922 0.93268293 0.57878788 0.17021277 0.13909774 0.10828025\n",
      "  0.00836782 0.85699694]\n",
      " [0.81237525 0.94439024 0.62727273 0.18297872 0.04135338 0.06369427\n",
      "  0.00836782 0.82533197]\n",
      " [0.83133733 0.93853659 0.59393939 0.12765957 0.10526316 0.14861996\n",
      "  0.00855777 0.84576098]\n",
      " [0.86027944 0.95317073 0.54090909 0.1787234  0.18045113 0.14861996\n",
      "  0.00936756 0.87742594]\n",
      " [0.85429142 0.94536585 0.59393939 0.35744681 0.12781955 0.1910828\n",
      "  0.00906764 0.90806946]\n",
      " [0.78542914 0.85658537 0.65151515 0.66808511 0.06015038 0.08280255\n",
      "  0.00836782 0.77630235]\n",
      " [0.83133733 0.90439024 0.50454545 0.75744681 0.18421053 0.21019108\n",
      "  0.00906764 0.85699694]\n",
      " [0.81936128 0.91512195 0.4969697  0.69361702 0.06390977 0.08280255\n",
      "  0.00855777 0.85699694]\n",
      " [0.7994012  0.89853659 0.49090909 0.64680851 0.23308271 0.29723992\n",
      "  0.00827785 0.86823289]\n",
      " [0.76147705 0.81853659 0.58484848 0.81702128 0.13909774 0.16985138\n",
      "  0.00816788 0.75383044]\n",
      " [0.75948104 0.86439024 0.4969697  0.74468085 0.17293233 0.16985138\n",
      "  0.00785796 0.80592441]\n",
      " [0.75449102 0.84195122 0.53181818 0.64255319 0.21428571 0.1910828\n",
      "  0.00756803 0.79673136]\n",
      " [0.71057884 0.80097561 0.62878788 0.57446809 0.15413534 0.12951168\n",
      "  0.00776798 0.74463739]]\n",
      "(30, 8)\n",
      "[[0.32335329 0.45853659 0.50909091 0.07234043 0.33082707 0.21443737\n",
      "  0.00335913 0.36567926]\n",
      " [0.34231537 0.44682927 0.53787879 0.22978723 0.44360902 0.34394904\n",
      "  0.00326915 0.35648621]\n",
      " [0.31636727 0.41170732 0.58181818 0.39148936 0.29699248 0.25690021\n",
      "  0.00315918 0.35648621]\n",
      " [0.3253493  0.41853659 0.51515152 0.44680851 0.2481203  0.42675159\n",
      "  0.00425889 0.33707865]\n",
      " [0.29540918 0.37073171 0.56515152 0.41276596 0.39097744 0.57324841\n",
      "  0.00366905 0.31664964]\n",
      " [0.25848303 0.35804878 0.54090909 0.28510638 0.41729323 0.38428875\n",
      "  0.00236938 0.30541369]\n",
      " [0.22355289 0.31707317 0.5530303  0.41702128 0.22180451 0.17409766\n",
      "  0.0026793  0.25434116]\n",
      " [0.2994012  0.41463415 0.51060606 0.19148936 0.18421053 0.17409766\n",
      "  0.00315918 0.35648621]\n",
      " [0.32035928 0.43609756 0.64242424 0.13617021 0.2593985  0.21443737\n",
      "  0.00296923 0.38610827]\n",
      " [0.33433134 0.46536585 0.56060606 0.12340426 0.15413534 0.17409766\n",
      "  0.00425889 0.36567926]\n",
      " [0.36626747 0.46146341 0.66818182 0.41702128 0.41353383 0.38428875\n",
      "  0.00405894 0.36567926]\n",
      " [0.43113772 0.51609756 0.47424242 0.46808511 0.34962406 0.29723992\n",
      "  0.00495871 0.46884576]\n",
      " [0.43013972 0.53756098 0.44545455 0.29361702 0.21428571 0.25690021\n",
      "  0.00456881 0.46884576]\n",
      " [0.38323353 0.51414634 0.4469697  0.12765957 0.28947368 0.32271762\n",
      "  0.00405894 0.43820225]\n",
      " [0.23552894 0.35707317 0.5030303  0.03829787 0.72556391 0.59872611\n",
      "  0.00357907 0.19305414]\n",
      " [0.07185629 0.15804878 0.82727273 0.35319149 0.43609023 0.55414013\n",
      "  0.00126967 0.08069459]\n",
      " [0.24850299 0.34341463 0.58030303 0.44680851 0.35714286 0.34394904\n",
      "  0.00335913 0.23391216]\n",
      " [0.33532934 0.43512195 0.4469697  0.46382979 0.32706767 0.29723992\n",
      "  0.00335913 0.38610827]\n",
      " [0.33632735 0.44195122 0.46969697 0.36170213 0.2481203  0.34394904\n",
      "  0.0034691  0.39734423]\n",
      " [0.33832335 0.46243902 0.55151515 0.12765957 0.31954887 0.34394904\n",
      "  0.0034691  0.39734423]\n",
      " [0.38223553 0.49463415 0.47121212 0.16595745 0.43233083 0.38428875\n",
      "  0.00467878 0.38610827]\n",
      " [0.40419162 0.51707317 0.4969697  0.22978723 0.59022556 0.38428875\n",
      "  0.00436886 0.41777324]\n",
      " [0.33033932 0.45073171 0.5530303  0.22553191 0.45864662 0.38428875\n",
      "  0.0030692  0.40858018]\n",
      " [0.32634731 0.44       0.57121212 0.5106383  0.37593985 0.34394904\n",
      "  0.00357907 0.36567926]\n",
      " [0.31736527 0.43414634 0.57424242 0.34468085 0.27819549 0.27813163\n",
      "  0.00377902 0.3258427 ]\n",
      " [0.41417166 0.49853659 0.48636364 0.3106383  0.34586466 0.32271762\n",
      "  0.00456881 0.42900919]\n",
      " [0.4001996  0.50536585 0.56969697 0.44255319 0.32706767 0.38428875\n",
      "  0.00416892 0.44841675]\n",
      " [0.35628743 0.45463415 0.6030303  0.39148936 0.26691729 0.21443737\n",
      "  0.00425889 0.36567926]\n",
      " [0.41417166 0.5102439  0.53333333 0.45531915 0.30075188 0.42675159\n",
      "  0.00447884 0.45760981]\n",
      " [0.46806387 0.57268293 0.46363636 0.36170213 0.11278195 0.17409766\n",
      "  0.00546858 0.50051073]]\n",
      "(30, 8)\n",
      "# monthly test batches:\n",
      "403\n",
      "403\n",
      "# monthly ref batches:\n",
      "201\n",
      "201\n"
     ]
    }
   ],
   "source": [
    "X_test_batches_month, y_test_batches_month = helpers.split_to_fixed_size_batches(X_test, y_test, batch_size=30)\n",
    "X_ref_batches_month, y_ref_batches_month = helpers.split_to_fixed_size_batches(X_ref, y_ref, batch_size=30)\n",
    "\n",
    "print('# monthly test batches:')\n",
    "print(len(X_test_batches_month))\n",
    "print(len(y_test_batches_month))\n",
    "print('# monthly ref batches:')\n",
    "print(len(X_ref_batches_month))\n",
    "print(len(y_ref_batches_month))"
   ]
  },
  {
   "cell_type": "markdown",
   "metadata": {},
   "source": [
    "## Imports"
   ]
  },
  {
   "cell_type": "code",
   "execution_count": 9,
   "metadata": {},
   "outputs": [
    {
     "name": "stdout",
     "output_type": "stream",
     "text": [
      "something\n"
     ]
    },
    {
     "data": {
      "text/plain": "<module 'core.ucdd' from 'C:\\\\Users\\\\jpohl\\\\PycharmProjects\\\\clustering-drift-detection\\\\ucdd_improved\\\\core\\\\ucdd.py'>"
     },
     "execution_count": 9,
     "metadata": {},
     "output_type": "execute_result"
    }
   ],
   "source": [
    "import importlib\n",
    "from eval_helpers import ucdd_eval_real_world\n",
    "from eval_helpers import kmeans_verbose_helpers\n",
    "from core import ucdd_supported_parameters as spms\n",
    "importlib.reload(ucdd_eval_real_world)\n",
    "from core import ucdd\n",
    "importlib.reload(ucdd)"
   ]
  },
  {
   "cell_type": "markdown",
   "metadata": {},
   "source": [
    "## Yearly evaluation"
   ]
  },
  {
   "cell_type": "markdown",
   "metadata": {},
   "source": [
    "### Find suitable KMeans clustering parameters"
   ]
  },
  {
   "cell_type": "code",
   "execution_count": 10,
   "metadata": {
    "scrolled": true
   },
   "outputs": [
    {
     "name": "stdout",
     "output_type": "stream",
     "text": [
      "filename weather_kmeans_year/weather_output_year0.txt\n",
      "random state: 1053\n",
      "filename weather_kmeans_year/weather_output_year1.txt\n",
      "random state: 1053\n",
      "filename weather_kmeans_year/weather_output_year2.txt\n",
      "random state: 1053\n",
      "filename weather_kmeans_year/weather_output_year3.txt\n",
      "random state: 1053\n",
      "filename weather_kmeans_year/weather_output_year4.txt\n",
      "random state: 1053\n",
      "filename weather_kmeans_year/weather_output_year5.txt\n",
      "random state: 1053\n",
      "filename weather_kmeans_year/weather_output_year6.txt\n",
      "random state: 1053\n",
      "filename weather_kmeans_year/weather_output_year7.txt\n",
      "random state: 1053\n",
      "filename weather_kmeans_year/weather_output_year8.txt\n",
      "random state: 1053\n",
      "filename weather_kmeans_year/weather_output_year9.txt\n",
      "random state: 1053\n",
      "filename weather_kmeans_year/weather_output_year10.txt\n",
      "random state: 1053\n",
      "filename weather_kmeans_year/weather_output_year11.txt\n",
      "random state: 1053\n",
      "filename weather_kmeans_year/weather_output_year12.txt\n",
      "random state: 1053\n",
      "filename weather_kmeans_year/weather_output_year13.txt\n",
      "random state: 1053\n",
      "filename weather_kmeans_year/weather_output_year14.txt\n",
      "random state: 1053\n",
      "filename weather_kmeans_year/weather_output_year15.txt\n",
      "random state: 1053\n",
      "{'total_max_iterations': 13, 'total_min_init_inertia': 71.47315728070872, 'total_max_init_inertia': 329.20042221458465, 'total_min_final_inertia': 59.961144657338814, 'total_max_final_inertia': 79.88356642728908, 'total_num_convergences': 1600, 'total_num_strict_convergences': 1600, 'total_num_tol_based_convergences': 0}\n"
     ]
    }
   ],
   "source": [
    "kmeans_verbose_helpers.write_kmeans_results_ucdd_helper('weather_kmeans_year/weather_output_year', X_ref_batches_year,\n",
    "                                                        n_init=100, max_iter=500, tol=0,\n",
    "                                                        random_state=1053)"
   ]
  },
  {
   "cell_type": "markdown",
   "source": [
    "### Use UCDD directly to obtain inspectable results"
   ],
   "metadata": {
    "collapsed": false,
    "pycharm": {
     "name": "#%% md\n"
    }
   }
  },
  {
   "cell_type": "code",
   "execution_count": 39,
   "outputs": [
    {
     "name": "stdout",
     "output_type": "stream",
     "text": [
      "random_state\n",
      "0\n",
      "pool opened\n",
      "random_state\n",
      "100\n",
      "pool opened\n"
     ]
    }
   ],
   "source": [
    "from core import ucdd\n",
    "import importlib\n",
    "importlib.reload(ucdd)\n",
    "\n",
    "all_2d_drifts_year = []\n",
    "all_2d_cluster_classif_accs_year = []\n",
    "\n",
    "for random_state in [0, 100]:\n",
    "    drifts_2d_arr_year, cluster_classif_accs_2d_arr_year = ucdd.all_drifting_batches_parallel_all_info(\n",
    "        X_ref_batches_year,\n",
    "        X_test_batches_year,\n",
    "        additional_check=True,\n",
    "        n_init=100,\n",
    "        max_iter=13000,\n",
    "        tol=0,\n",
    "        random_state=random_state,\n",
    "        reference_label_batches=y_ref_batches_year,\n",
    "        testing_label_batches=y_test_batches_year\n",
    "    )\n",
    "    all_2d_drifts_year.append(drifts_2d_arr_year)\n",
    "    all_2d_cluster_classif_accs_year.append(cluster_classif_accs_2d_arr_year)\n",
    "\n",
    "result_dict_year = {\n",
    "    'all_2d_drifts_year': all_2d_drifts_year,\n",
    "    'all_2d_cluster_classif_accs_year': all_2d_cluster_classif_accs_year\n",
    "}\n",
    "np.save('weather_stats_year.npy', result_dict_year)"
   ],
   "metadata": {
    "collapsed": false,
    "pycharm": {
     "name": "#%%\n"
    }
   }
  },
  {
   "cell_type": "code",
   "execution_count": 40,
   "outputs": [
    {
     "name": "stdout",
     "output_type": "stream",
     "text": [
      "number of drift detection differences in the two runs:\n",
      "2\n"
     ]
    }
   ],
   "source": [
    "result_dict_year = np.load('weather_stats_year.npy', allow_pickle=True).item()\n",
    "all_2d_drifts_year = result_dict_year['all_2d_drifts_year']\n",
    "print('number of drift detection differences in the two runs:')\n",
    "num_diffs = np.sum(all_2d_drifts_year[0] != all_2d_drifts_year[1])\n",
    "print(num_diffs)"
   ],
   "metadata": {
    "collapsed": false,
    "pycharm": {
     "name": "#%%\n"
    }
   }
  },
  {
   "cell_type": "markdown",
   "metadata": {},
   "source": [
    "### Read the defined yearly drift locations"
   ]
  },
  {
   "cell_type": "code",
   "execution_count": 10,
   "metadata": {},
   "outputs": [
    {
     "name": "stdout",
     "output_type": "stream",
     "text": [
      "[False, True, True, True, False, True, False, False, False, False, True, True, False, False, True, True, True, True, False, False, False, True, False, True, True, False, True, True, True, False, False, True, True]\n"
     ]
    }
   ],
   "source": [
    "# import csv\n",
    "#\n",
    "# true_drift_bool_year = []\n",
    "# with open('../Datasets_concept_drift/real_world_data_drifts/weather/weather_yearly_drifts.csv') as f:\n",
    "#     rdr = csv.reader(f, delimiter=',')\n",
    "#     for row in rdr:\n",
    "#         true_drift_bool_year.append(row)\n",
    "#     true_drift_bool_year = true_drift_bool_year[0] # only one row of important data\n",
    "#     true_drift_bool_year = [b == 'True' for b in true_drift_bool_year]\n",
    "# print(true_drift_bool_year)"
   ]
  },
  {
   "cell_type": "markdown",
   "metadata": {},
   "source": [
    "### Use the drift locations and best clustering parameters for the evaluation"
   ]
  },
  {
   "cell_type": "code",
   "execution_count": 14,
   "metadata": {
    "scrolled": true
   },
   "outputs": [
    {
     "ename": "NameError",
     "evalue": "name 'true_drift_bool_year' is not defined",
     "output_type": "error",
     "traceback": [
      "\u001B[1;31m---------------------------------------------------------------------------\u001B[0m",
      "\u001B[1;31mNameError\u001B[0m                                 Traceback (most recent call last)",
      "Cell \u001B[1;32mIn[14], line 28\u001B[0m\n\u001B[0;32m      7\u001B[0m \u001B[38;5;66;03m# start_regular = time.time()\u001B[39;00m\n\u001B[0;32m      8\u001B[0m \u001B[38;5;66;03m# _, fpr_mean, _, det_acc_mean, _ = ucdd_eval_real_world.all_drifting_batches_randomness_robust(\u001B[39;00m\n\u001B[0;32m      9\u001B[0m \u001B[38;5;66;03m#     reference_data_batches=X_ref_batches_year,\u001B[39;00m\n\u001B[1;32m   (...)\u001B[0m\n\u001B[0;32m     21\u001B[0m \u001B[38;5;66;03m# print('yearly mean detection accuracy:', det_acc_mean)\u001B[39;00m\n\u001B[0;32m     22\u001B[0m \u001B[38;5;66;03m# print('time(sec):', time.time() - start_regular)\u001B[39;00m\n\u001B[0;32m     24\u001B[0m start_parallel \u001B[38;5;241m=\u001B[39m time\u001B[38;5;241m.\u001B[39mtime()\n\u001B[0;32m     25\u001B[0m _, fpr_mean, _, det_acc_mean, _ \u001B[38;5;241m=\u001B[39m ucdd_eval_real_world\u001B[38;5;241m.\u001B[39mall_drifting_batches_randomness_robust(\n\u001B[0;32m     26\u001B[0m     reference_data_batches\u001B[38;5;241m=\u001B[39mX_ref_batches_year,\n\u001B[0;32m     27\u001B[0m     testing_data_batches\u001B[38;5;241m=\u001B[39mX_test_batches_year,\n\u001B[1;32m---> 28\u001B[0m     true_drift_bool\u001B[38;5;241m=\u001B[39m\u001B[43mtrue_drift_bool_year\u001B[49m,\n\u001B[0;32m     29\u001B[0m     min_ref_batches_drift\u001B[38;5;241m=\u001B[39m\u001B[38;5;241m0.3\u001B[39m,\n\u001B[0;32m     30\u001B[0m     additional_check\u001B[38;5;241m=\u001B[39m\u001B[38;5;28;01mTrue\u001B[39;00m,\n\u001B[0;32m     31\u001B[0m     n_init\u001B[38;5;241m=\u001B[39m\u001B[38;5;241m100\u001B[39m, max_iter\u001B[38;5;241m=\u001B[39m\u001B[38;5;241m13000\u001B[39m, tol\u001B[38;5;241m=\u001B[39m\u001B[38;5;241m0\u001B[39m,\n\u001B[0;32m     32\u001B[0m     first_random_state\u001B[38;5;241m=\u001B[39m\u001B[38;5;241m0\u001B[39m,\n\u001B[0;32m     33\u001B[0m     min_runs\u001B[38;5;241m=\u001B[39m\u001B[38;5;241m2\u001B[39m, std_err_threshold\u001B[38;5;241m=\u001B[39m\u001B[38;5;241m0.05\u001B[39m,\n\u001B[0;32m     34\u001B[0m     parallel\u001B[38;5;241m=\u001B[39m\u001B[38;5;28;01mTrue\u001B[39;00m\n\u001B[0;32m     35\u001B[0m )\n\u001B[0;32m     37\u001B[0m \u001B[38;5;28mprint\u001B[39m(\u001B[38;5;124m'\u001B[39m\u001B[38;5;124myearly mean FPR:\u001B[39m\u001B[38;5;124m'\u001B[39m, fpr_mean)\n\u001B[0;32m     38\u001B[0m \u001B[38;5;28mprint\u001B[39m(\u001B[38;5;124m'\u001B[39m\u001B[38;5;124myearly mean detection accuracy:\u001B[39m\u001B[38;5;124m'\u001B[39m, det_acc_mean)\n",
      "\u001B[1;31mNameError\u001B[0m: name 'true_drift_bool_year' is not defined"
     ]
    }
   ],
   "source": [
    "# import time\n",
    "# import importlib\n",
    "# importlib.reload(ucdd_eval_real_world)\n",
    "# importlib.reload(ucdd)\n",
    "#\n",
    "#\n",
    "# # start_regular = time.time()\n",
    "# # _, fpr_mean, _, det_acc_mean, _ = ucdd_eval_real_world.all_drifting_batches_randomness_robust(\n",
    "# #     reference_data_batches=X_ref_batches_year,\n",
    "# #     testing_data_batches=X_test_batches_year,\n",
    "# #     true_drift_bool=true_drift_bool_year,\n",
    "# #     min_ref_batches_drift=0.3,\n",
    "# #     additional_check=True,\n",
    "# #     n_init=100, max_iter=13000, tol=0,\n",
    "# #     first_random_state=0,\n",
    "# #     min_runs=2, std_err_threshold=0.05,\n",
    "# #     parallel=False\n",
    "# # )\n",
    "# #\n",
    "# # print('yearly mean FPR:', fpr_mean)\n",
    "# # print('yearly mean detection accuracy:', det_acc_mean)\n",
    "# # print('time(sec):', time.time() - start_regular)\n",
    "#\n",
    "# start_parallel = time.time()\n",
    "# _, fpr_mean, _, det_acc_mean, _ = ucdd_eval_real_world.all_drifting_batches_randomness_robust(\n",
    "#     reference_data_batches=X_ref_batches_year,\n",
    "#     testing_data_batches=X_test_batches_year,\n",
    "#     true_drift_bool=true_drift_bool_year,\n",
    "#     min_ref_batches_drift=0.3,\n",
    "#     additional_check=True,\n",
    "#     n_init=100, max_iter=13000, tol=0,\n",
    "#     first_random_state=0,\n",
    "#     min_runs=2, std_err_threshold=0.05,\n",
    "#     parallel=True\n",
    "# )\n",
    "#\n",
    "# print('yearly mean FPR:', fpr_mean)\n",
    "# print('yearly mean detection accuracy:', det_acc_mean)\n",
    "# print('time(sec):', time.time() - start_parallel)"
   ]
  },
  {
   "cell_type": "markdown",
   "metadata": {},
   "source": [
    "## Monthly evaluation"
   ]
  },
  {
   "cell_type": "markdown",
   "metadata": {},
   "source": [
    "### (Choose a subset of reference batches)"
   ]
  },
  {
   "cell_type": "markdown",
   "metadata": {},
   "source": [
    "### Find suitable KMeans clustering parameters"
   ]
  },
  {
   "cell_type": "code",
   "execution_count": 11,
   "metadata": {},
   "outputs": [
    {
     "name": "stdout",
     "output_type": "stream",
     "text": [
      "filename weather_kmeans_month/weather_output_month0.txt\n",
      "random state: 1053\n",
      "filename weather_kmeans_month/weather_output_month1.txt\n",
      "random state: 1053\n",
      "filename weather_kmeans_month/weather_output_month2.txt\n",
      "random state: 1053\n",
      "filename weather_kmeans_month/weather_output_month3.txt\n",
      "random state: 1053\n",
      "filename weather_kmeans_month/weather_output_month4.txt\n",
      "random state: 1053\n",
      "filename weather_kmeans_month/weather_output_month5.txt\n",
      "random state: 1053\n",
      "filename weather_kmeans_month/weather_output_month6.txt\n",
      "random state: 1053\n",
      "filename weather_kmeans_month/weather_output_month7.txt\n",
      "random state: 1053\n",
      "filename weather_kmeans_month/weather_output_month8.txt\n",
      "random state: 1053\n",
      "filename weather_kmeans_month/weather_output_month9.txt\n",
      "random state: 1053\n",
      "filename weather_kmeans_month/weather_output_month10.txt\n",
      "random state: 1053\n",
      "filename weather_kmeans_month/weather_output_month11.txt\n",
      "random state: 1053\n",
      "filename weather_kmeans_month/weather_output_month12.txt\n",
      "random state: 1053\n",
      "filename weather_kmeans_month/weather_output_month13.txt\n",
      "random state: 1053\n",
      "filename weather_kmeans_month/weather_output_month14.txt\n",
      "random state: 1053\n",
      "filename weather_kmeans_month/weather_output_month15.txt\n",
      "random state: 1053\n",
      "filename weather_kmeans_month/weather_output_month16.txt\n",
      "random state: 1053\n",
      "filename weather_kmeans_month/weather_output_month17.txt\n",
      "random state: 1053\n",
      "filename weather_kmeans_month/weather_output_month18.txt\n",
      "random state: 1053\n",
      "filename weather_kmeans_month/weather_output_month19.txt\n",
      "random state: 1053\n",
      "filename weather_kmeans_month/weather_output_month20.txt\n",
      "random state: 1053\n",
      "filename weather_kmeans_month/weather_output_month21.txt\n",
      "random state: 1053\n",
      "filename weather_kmeans_month/weather_output_month22.txt\n",
      "random state: 1053\n",
      "filename weather_kmeans_month/weather_output_month23.txt\n",
      "random state: 1053\n",
      "filename weather_kmeans_month/weather_output_month24.txt\n",
      "random state: 1053\n",
      "filename weather_kmeans_month/weather_output_month25.txt\n",
      "random state: 1053\n",
      "filename weather_kmeans_month/weather_output_month26.txt\n",
      "random state: 1053\n",
      "filename weather_kmeans_month/weather_output_month27.txt\n",
      "random state: 1053\n",
      "filename weather_kmeans_month/weather_output_month28.txt\n",
      "random state: 1053\n",
      "filename weather_kmeans_month/weather_output_month29.txt\n",
      "random state: 1053\n",
      "filename weather_kmeans_month/weather_output_month30.txt\n",
      "random state: 1053\n",
      "filename weather_kmeans_month/weather_output_month31.txt\n",
      "random state: 1053\n",
      "filename weather_kmeans_month/weather_output_month32.txt\n",
      "random state: 1053\n",
      "filename weather_kmeans_month/weather_output_month33.txt\n",
      "random state: 1053\n",
      "filename weather_kmeans_month/weather_output_month34.txt\n",
      "random state: 1053\n",
      "filename weather_kmeans_month/weather_output_month35.txt\n",
      "random state: 1053\n",
      "filename weather_kmeans_month/weather_output_month36.txt\n",
      "random state: 1053\n",
      "filename weather_kmeans_month/weather_output_month37.txt\n",
      "random state: 1053\n",
      "filename weather_kmeans_month/weather_output_month38.txt\n",
      "random state: 1053\n",
      "filename weather_kmeans_month/weather_output_month39.txt\n",
      "random state: 1053\n",
      "filename weather_kmeans_month/weather_output_month40.txt\n",
      "random state: 1053\n",
      "filename weather_kmeans_month/weather_output_month41.txt\n",
      "random state: 1053\n",
      "filename weather_kmeans_month/weather_output_month42.txt\n",
      "random state: 1053\n",
      "filename weather_kmeans_month/weather_output_month43.txt\n",
      "random state: 1053\n",
      "filename weather_kmeans_month/weather_output_month44.txt\n",
      "random state: 1053\n",
      "filename weather_kmeans_month/weather_output_month45.txt\n",
      "random state: 1053\n",
      "filename weather_kmeans_month/weather_output_month46.txt\n",
      "random state: 1053\n",
      "filename weather_kmeans_month/weather_output_month47.txt\n",
      "random state: 1053\n",
      "filename weather_kmeans_month/weather_output_month48.txt\n",
      "random state: 1053\n",
      "filename weather_kmeans_month/weather_output_month49.txt\n",
      "random state: 1053\n",
      "filename weather_kmeans_month/weather_output_month50.txt\n",
      "random state: 1053\n",
      "filename weather_kmeans_month/weather_output_month51.txt\n",
      "random state: 1053\n",
      "filename weather_kmeans_month/weather_output_month52.txt\n",
      "random state: 1053\n",
      "filename weather_kmeans_month/weather_output_month53.txt\n",
      "random state: 1053\n",
      "filename weather_kmeans_month/weather_output_month54.txt\n",
      "random state: 1053\n",
      "filename weather_kmeans_month/weather_output_month55.txt\n",
      "random state: 1053\n",
      "filename weather_kmeans_month/weather_output_month56.txt\n",
      "random state: 1053\n",
      "filename weather_kmeans_month/weather_output_month57.txt\n",
      "random state: 1053\n",
      "filename weather_kmeans_month/weather_output_month58.txt\n",
      "random state: 1053\n",
      "filename weather_kmeans_month/weather_output_month59.txt\n",
      "random state: 1053\n",
      "filename weather_kmeans_month/weather_output_month60.txt\n",
      "random state: 1053\n",
      "filename weather_kmeans_month/weather_output_month61.txt\n",
      "random state: 1053\n",
      "filename weather_kmeans_month/weather_output_month62.txt\n",
      "random state: 1053\n",
      "filename weather_kmeans_month/weather_output_month63.txt\n",
      "random state: 1053\n",
      "filename weather_kmeans_month/weather_output_month64.txt\n",
      "random state: 1053\n",
      "filename weather_kmeans_month/weather_output_month65.txt\n",
      "random state: 1053\n",
      "filename weather_kmeans_month/weather_output_month66.txt\n",
      "random state: 1053\n",
      "filename weather_kmeans_month/weather_output_month67.txt\n",
      "random state: 1053\n",
      "filename weather_kmeans_month/weather_output_month68.txt\n",
      "random state: 1053\n",
      "filename weather_kmeans_month/weather_output_month69.txt\n",
      "random state: 1053\n",
      "filename weather_kmeans_month/weather_output_month70.txt\n",
      "random state: 1053\n",
      "filename weather_kmeans_month/weather_output_month71.txt\n",
      "random state: 1053\n",
      "filename weather_kmeans_month/weather_output_month72.txt\n",
      "random state: 1053\n",
      "filename weather_kmeans_month/weather_output_month73.txt\n",
      "random state: 1053\n",
      "filename weather_kmeans_month/weather_output_month74.txt\n",
      "random state: 1053\n",
      "filename weather_kmeans_month/weather_output_month75.txt\n",
      "random state: 1053\n",
      "filename weather_kmeans_month/weather_output_month76.txt\n",
      "random state: 1053\n",
      "filename weather_kmeans_month/weather_output_month77.txt\n",
      "random state: 1053\n",
      "filename weather_kmeans_month/weather_output_month78.txt\n",
      "random state: 1053\n",
      "filename weather_kmeans_month/weather_output_month79.txt\n",
      "random state: 1053\n",
      "filename weather_kmeans_month/weather_output_month80.txt\n",
      "random state: 1053\n",
      "filename weather_kmeans_month/weather_output_month81.txt\n",
      "random state: 1053\n",
      "filename weather_kmeans_month/weather_output_month82.txt\n",
      "random state: 1053\n",
      "filename weather_kmeans_month/weather_output_month83.txt\n",
      "random state: 1053\n",
      "filename weather_kmeans_month/weather_output_month84.txt\n",
      "random state: 1053\n",
      "filename weather_kmeans_month/weather_output_month85.txt\n",
      "random state: 1053\n",
      "filename weather_kmeans_month/weather_output_month86.txt\n",
      "random state: 1053\n",
      "filename weather_kmeans_month/weather_output_month87.txt\n",
      "random state: 1053\n",
      "filename weather_kmeans_month/weather_output_month88.txt\n",
      "random state: 1053\n",
      "filename weather_kmeans_month/weather_output_month89.txt\n",
      "random state: 1053\n",
      "filename weather_kmeans_month/weather_output_month90.txt\n",
      "random state: 1053\n",
      "filename weather_kmeans_month/weather_output_month91.txt\n",
      "random state: 1053\n",
      "filename weather_kmeans_month/weather_output_month92.txt\n",
      "random state: 1053\n",
      "filename weather_kmeans_month/weather_output_month93.txt\n",
      "random state: 1053\n",
      "filename weather_kmeans_month/weather_output_month94.txt\n",
      "random state: 1053\n",
      "filename weather_kmeans_month/weather_output_month95.txt\n",
      "random state: 1053\n",
      "filename weather_kmeans_month/weather_output_month96.txt\n",
      "random state: 1053\n",
      "filename weather_kmeans_month/weather_output_month97.txt\n",
      "random state: 1053\n",
      "filename weather_kmeans_month/weather_output_month98.txt\n",
      "random state: 1053\n",
      "filename weather_kmeans_month/weather_output_month99.txt\n",
      "random state: 1053\n",
      "filename weather_kmeans_month/weather_output_month100.txt\n",
      "random state: 1053\n",
      "filename weather_kmeans_month/weather_output_month101.txt\n",
      "random state: 1053\n",
      "filename weather_kmeans_month/weather_output_month102.txt\n",
      "random state: 1053\n",
      "filename weather_kmeans_month/weather_output_month103.txt\n",
      "random state: 1053\n",
      "filename weather_kmeans_month/weather_output_month104.txt\n",
      "random state: 1053\n",
      "filename weather_kmeans_month/weather_output_month105.txt\n",
      "random state: 1053\n",
      "filename weather_kmeans_month/weather_output_month106.txt\n",
      "random state: 1053\n",
      "filename weather_kmeans_month/weather_output_month107.txt\n",
      "random state: 1053\n",
      "filename weather_kmeans_month/weather_output_month108.txt\n",
      "random state: 1053\n",
      "filename weather_kmeans_month/weather_output_month109.txt\n",
      "random state: 1053\n",
      "filename weather_kmeans_month/weather_output_month110.txt\n",
      "random state: 1053\n",
      "filename weather_kmeans_month/weather_output_month111.txt\n",
      "random state: 1053\n",
      "filename weather_kmeans_month/weather_output_month112.txt\n",
      "random state: 1053\n",
      "filename weather_kmeans_month/weather_output_month113.txt\n",
      "random state: 1053\n",
      "filename weather_kmeans_month/weather_output_month114.txt\n",
      "random state: 1053\n",
      "filename weather_kmeans_month/weather_output_month115.txt\n",
      "random state: 1053\n",
      "filename weather_kmeans_month/weather_output_month116.txt\n",
      "random state: 1053\n",
      "filename weather_kmeans_month/weather_output_month117.txt\n",
      "random state: 1053\n",
      "filename weather_kmeans_month/weather_output_month118.txt\n",
      "random state: 1053\n",
      "filename weather_kmeans_month/weather_output_month119.txt\n",
      "random state: 1053\n",
      "filename weather_kmeans_month/weather_output_month120.txt\n",
      "random state: 1053\n",
      "filename weather_kmeans_month/weather_output_month121.txt\n",
      "random state: 1053\n",
      "filename weather_kmeans_month/weather_output_month122.txt\n",
      "random state: 1053\n",
      "filename weather_kmeans_month/weather_output_month123.txt\n",
      "random state: 1053\n",
      "filename weather_kmeans_month/weather_output_month124.txt\n",
      "random state: 1053\n",
      "filename weather_kmeans_month/weather_output_month125.txt\n",
      "random state: 1053\n",
      "filename weather_kmeans_month/weather_output_month126.txt\n",
      "random state: 1053\n",
      "filename weather_kmeans_month/weather_output_month127.txt\n",
      "random state: 1053\n",
      "filename weather_kmeans_month/weather_output_month128.txt\n",
      "random state: 1053\n",
      "filename weather_kmeans_month/weather_output_month129.txt\n",
      "random state: 1053\n",
      "filename weather_kmeans_month/weather_output_month130.txt\n",
      "random state: 1053\n",
      "filename weather_kmeans_month/weather_output_month131.txt\n",
      "random state: 1053\n",
      "filename weather_kmeans_month/weather_output_month132.txt\n",
      "random state: 1053\n",
      "filename weather_kmeans_month/weather_output_month133.txt\n",
      "random state: 1053\n",
      "filename weather_kmeans_month/weather_output_month134.txt\n",
      "random state: 1053\n",
      "filename weather_kmeans_month/weather_output_month135.txt\n",
      "random state: 1053\n",
      "filename weather_kmeans_month/weather_output_month136.txt\n",
      "random state: 1053\n",
      "filename weather_kmeans_month/weather_output_month137.txt\n",
      "random state: 1053\n",
      "filename weather_kmeans_month/weather_output_month138.txt\n",
      "random state: 1053\n",
      "filename weather_kmeans_month/weather_output_month139.txt\n",
      "random state: 1053\n",
      "filename weather_kmeans_month/weather_output_month140.txt\n",
      "random state: 1053\n",
      "filename weather_kmeans_month/weather_output_month141.txt\n",
      "random state: 1053\n",
      "filename weather_kmeans_month/weather_output_month142.txt\n",
      "random state: 1053\n",
      "filename weather_kmeans_month/weather_output_month143.txt\n",
      "random state: 1053\n",
      "filename weather_kmeans_month/weather_output_month144.txt\n",
      "random state: 1053\n",
      "filename weather_kmeans_month/weather_output_month145.txt\n",
      "random state: 1053\n",
      "filename weather_kmeans_month/weather_output_month146.txt\n",
      "random state: 1053\n",
      "filename weather_kmeans_month/weather_output_month147.txt\n",
      "random state: 1053\n",
      "filename weather_kmeans_month/weather_output_month148.txt\n",
      "random state: 1053\n",
      "filename weather_kmeans_month/weather_output_month149.txt\n",
      "random state: 1053\n",
      "filename weather_kmeans_month/weather_output_month150.txt\n",
      "random state: 1053\n",
      "filename weather_kmeans_month/weather_output_month151.txt\n",
      "random state: 1053\n",
      "filename weather_kmeans_month/weather_output_month152.txt\n",
      "random state: 1053\n",
      "filename weather_kmeans_month/weather_output_month153.txt\n",
      "random state: 1053\n",
      "filename weather_kmeans_month/weather_output_month154.txt\n",
      "random state: 1053\n",
      "filename weather_kmeans_month/weather_output_month155.txt\n",
      "random state: 1053\n",
      "filename weather_kmeans_month/weather_output_month156.txt\n",
      "random state: 1053\n",
      "filename weather_kmeans_month/weather_output_month157.txt\n",
      "random state: 1053\n",
      "filename weather_kmeans_month/weather_output_month158.txt\n",
      "random state: 1053\n",
      "filename weather_kmeans_month/weather_output_month159.txt\n",
      "random state: 1053\n",
      "filename weather_kmeans_month/weather_output_month160.txt\n",
      "random state: 1053\n",
      "filename weather_kmeans_month/weather_output_month161.txt\n",
      "random state: 1053\n",
      "filename weather_kmeans_month/weather_output_month162.txt\n",
      "random state: 1053\n",
      "filename weather_kmeans_month/weather_output_month163.txt\n",
      "random state: 1053\n",
      "filename weather_kmeans_month/weather_output_month164.txt\n",
      "random state: 1053\n",
      "filename weather_kmeans_month/weather_output_month165.txt\n",
      "random state: 1053\n",
      "filename weather_kmeans_month/weather_output_month166.txt\n",
      "random state: 1053\n",
      "filename weather_kmeans_month/weather_output_month167.txt\n",
      "random state: 1053\n",
      "filename weather_kmeans_month/weather_output_month168.txt\n",
      "random state: 1053\n",
      "filename weather_kmeans_month/weather_output_month169.txt\n",
      "random state: 1053\n",
      "filename weather_kmeans_month/weather_output_month170.txt\n",
      "random state: 1053\n",
      "filename weather_kmeans_month/weather_output_month171.txt\n",
      "random state: 1053\n",
      "filename weather_kmeans_month/weather_output_month172.txt\n",
      "random state: 1053\n",
      "filename weather_kmeans_month/weather_output_month173.txt\n",
      "random state: 1053\n",
      "filename weather_kmeans_month/weather_output_month174.txt\n",
      "random state: 1053\n",
      "filename weather_kmeans_month/weather_output_month175.txt\n",
      "random state: 1053\n",
      "filename weather_kmeans_month/weather_output_month176.txt\n",
      "random state: 1053\n",
      "filename weather_kmeans_month/weather_output_month177.txt\n",
      "random state: 1053\n",
      "filename weather_kmeans_month/weather_output_month178.txt\n",
      "random state: 1053\n",
      "filename weather_kmeans_month/weather_output_month179.txt\n",
      "random state: 1053\n",
      "filename weather_kmeans_month/weather_output_month180.txt\n",
      "random state: 1053\n",
      "filename weather_kmeans_month/weather_output_month181.txt\n",
      "random state: 1053\n",
      "filename weather_kmeans_month/weather_output_month182.txt\n",
      "random state: 1053\n",
      "filename weather_kmeans_month/weather_output_month183.txt\n",
      "random state: 1053\n",
      "filename weather_kmeans_month/weather_output_month184.txt\n",
      "random state: 1053\n",
      "filename weather_kmeans_month/weather_output_month185.txt\n",
      "random state: 1053\n",
      "filename weather_kmeans_month/weather_output_month186.txt\n",
      "random state: 1053\n",
      "filename weather_kmeans_month/weather_output_month187.txt\n",
      "random state: 1053\n",
      "filename weather_kmeans_month/weather_output_month188.txt\n",
      "random state: 1053\n",
      "filename weather_kmeans_month/weather_output_month189.txt\n",
      "random state: 1053\n",
      "filename weather_kmeans_month/weather_output_month190.txt\n",
      "random state: 1053\n",
      "filename weather_kmeans_month/weather_output_month191.txt\n",
      "random state: 1053\n",
      "filename weather_kmeans_month/weather_output_month192.txt\n",
      "random state: 1053\n",
      "filename weather_kmeans_month/weather_output_month193.txt\n",
      "random state: 1053\n",
      "filename weather_kmeans_month/weather_output_month194.txt\n",
      "random state: 1053\n",
      "filename weather_kmeans_month/weather_output_month195.txt\n",
      "random state: 1053\n",
      "filename weather_kmeans_month/weather_output_month196.txt\n",
      "random state: 1053\n",
      "filename weather_kmeans_month/weather_output_month197.txt\n",
      "random state: 1053\n",
      "filename weather_kmeans_month/weather_output_month198.txt\n",
      "random state: 1053\n",
      "filename weather_kmeans_month/weather_output_month199.txt\n",
      "random state: 1053\n",
      "filename weather_kmeans_month/weather_output_month200.txt\n",
      "random state: 1053\n",
      "{'total_max_iterations': 18, 'total_min_init_inertia': 3.364562618463802, 'total_max_init_inertia': 22.102803110996145, 'total_min_final_inertia': 2.8864291362628705, 'total_max_final_inertia': 7.714317621308586, 'total_num_convergences': 20100, 'total_num_strict_convergences': 20100, 'total_num_tol_based_convergences': 0}\n"
     ]
    }
   ],
   "source": [
    "kmeans_verbose_helpers.write_kmeans_results_ucdd_helper('weather_kmeans_month/weather_output_month', X_ref_batches_month,\n",
    "                                                        n_init=100, max_iter=500, tol=0,\n",
    "                                                        random_state=1053)"
   ]
  },
  {
   "cell_type": "markdown",
   "source": [
    "### Use UCDD directly to obtain inspectable results"
   ],
   "metadata": {
    "collapsed": false
   }
  },
  {
   "cell_type": "code",
   "execution_count": 6,
   "outputs": [
    {
     "name": "stdout",
     "output_type": "stream",
     "text": [
      "random_state\n",
      "0\n",
      "pool opened\n"
     ]
    }
   ],
   "source": [
    "from core import ucdd\n",
    "import importlib\n",
    "importlib.reload(ucdd)\n",
    "\n",
    "all_2d_drifts_month = []\n",
    "all_2d_cluster_classif_accs_month = []\n",
    "\n",
    "random_state=0\n",
    "drifts_2d_arr_month, cluster_classif_accs_2d_arr_month = ucdd.all_drifting_batches_parallel_all_info(\n",
    "    # X_ref_batches_month,\n",
    "    X_ref_batches_month[-3:],\n",
    "    X_test_batches_month,\n",
    "    additional_check=True,\n",
    "    # n_init=100,\n",
    "    n_init=1,\n",
    "    # max_iter=18000,\n",
    "    max_iter=10,\n",
    "    tol=0,\n",
    "    random_state=random_state,\n",
    "    reference_label_batches=y_ref_batches_month[-3:],\n",
    "    testing_label_batches=y_test_batches_month\n",
    ")\n",
    "all_2d_drifts_month.append(drifts_2d_arr_month)\n",
    "all_2d_cluster_classif_accs_month.append(cluster_classif_accs_2d_arr_month)\n",
    "\n",
    "result_dict_month = {\n",
    "    'all_2d_drifts_month': all_2d_drifts_month,\n",
    "    'all_2d_cluster_classif_accs_month': all_2d_cluster_classif_accs_month\n",
    "}\n",
    "np.save('weather_stats_month.npy', result_dict_month)"
   ],
   "metadata": {
    "collapsed": false,
    "pycharm": {
     "name": "#%%\n"
    }
   }
  },
  {
   "cell_type": "code",
   "execution_count": 7,
   "outputs": [
    {
     "name": "stdout",
     "output_type": "stream",
     "text": [
      "resulting dictionary\n",
      "{'all_2d_drifts_month': [array([[False, False, False, ..., False, False, False],\n",
      "       [False, False, False, ..., False,  True,  True],\n",
      "       [False, False, False, ..., False,  True,  True]])], 'all_2d_cluster_classif_accs_month': [array([[0.51666667, 0.7       , 0.7       , ..., 0.51666667, 0.7       ,\n",
      "        0.53333333],\n",
      "       [0.53333333, 0.75      , 0.75      , ..., 0.76666667, 0.71666667,\n",
      "        0.65      ],\n",
      "       [0.6       , 0.71666667, 0.61666667, ..., 0.71666667, 0.55      ,\n",
      "        0.53333333]])]}\n"
     ]
    }
   ],
   "source": [
    "result_dict_month = np.load('weather_stats_month.npy', allow_pickle=True).item()\n",
    "print('resulting dictionary')\n",
    "print(result_dict_month)"
   ],
   "metadata": {
    "collapsed": false,
    "pycharm": {
     "name": "#%%\n"
    }
   }
  },
  {
   "cell_type": "markdown",
   "metadata": {},
   "source": [
    "### Read the defined monthly drift locations"
   ]
  },
  {
   "cell_type": "code",
   "execution_count": 11,
   "metadata": {},
   "outputs": [
    {
     "name": "stdout",
     "output_type": "stream",
     "text": [
      "[False, False, False, False, False, False, False, False, False, False, True, True, False, True, False, False, False, True, False, False, False, False, False, False, False, False, False, True, False, False, True, False, False, False, True, False, False, False, False, False, False, False, True, False, False, False, True, True, True, False, False, False, False, False, False, False, False, False, False, False, False, False, False, False, False, False, False, False, True, False, False, False, False, False, False, False, False, False, False, False, False, False, False, False, False, False, False, False, False, False, False, True, False, False, False, True, False, False, False, False, False, False, True, False, False, False, False, True, False, False, False, False, False, False, False, False, False, False, False, False, False, False, False, False, True, False, False, False, False, False, False, False, False, False, False, False, False, False, False, False, False, False, True, False, True, False, True, False, False, False, False, False, False, True, False, False, False, False, False, False, False, True, False, False, False, False, True, False, False, False, False, False, True, True, True, True, True, True, False, False, False, False, True, False, True, True, False, False, False, False, False, True, False, False, False, False, True, False, False, False, False, False, False, False, True, False, False, False, True, True, False, False, False, True, True, False, True, False, False, True, False, False, False, False, False, False, False, True, False, False, False, False, False, False, False, False, False, False, False, False, False, False, False, False, False, True, True, False, False, False, False, False, False, False, False, False, False, False, False, True, False, False, False, False, True, True, False, False, False, False, False, False, False, False, False, False, False, False, False, False, True, False, True, True, False, False, False, False, False, False, False, False, False, False, False, False, True, False, False, False, False, True, False, False, False, False, False, False, False, False, False, False, False, False, False, False, False, False, True, False, False, True, True, True, False, False, True, False, False, False, False, False, False, False, True, False, False, True, False, False, False, False, False, False, False, False, False, False, False, True, False, False, True, False, False, False, True, False, False, False, False, True, False, False, False, False, False, False, False, False, False, False, False, False, False, False, False, False, False, False, False, False, True, True, False, False, True, False, True, False, False, False, False, False, False, False, True, False, True, True, False, False, False]\n"
     ]
    }
   ],
   "source": [
    "# true_drift_bool_month = []\n",
    "# with open('../Datasets_concept_drift/real_world_data_drifts/weather/weather_monthly_drifts.csv') as f:\n",
    "#     rdr = csv.reader(f, delimiter=',')\n",
    "#     for row in rdr:\n",
    "#         true_drift_bool_month.append(row)\n",
    "#     true_drift_bool_month = true_drift_bool_month[0] # only one row of important data\n",
    "#     true_drift_bool_month = [b == 'True' for b in true_drift_bool_month]\n",
    "# print(true_drift_bool_month)"
   ]
  },
  {
   "cell_type": "markdown",
   "metadata": {},
   "source": [
    "### Use the drift locations and best clustering parameters for the evaluation"
   ]
  },
  {
   "cell_type": "code",
   "execution_count": 12,
   "metadata": {},
   "outputs": [
    {
     "name": "stdout",
     "output_type": "stream",
     "text": [
      "min_runs 2\n",
      "random_state\n",
      "0\n",
      "[True, False, False, False, False, False, True, False, False, False, True, True, True, True, False, False, False, True, False, False, False, True, True, True, True, True, False, False, False, False, False, False, False, False, False, True, True, False, False, True, False, False, False, False, False, False, True, True, False, False, False, False, False, False, False, False, False, False, True, True, False, False, False, True, False, False, False, False, False, False, True, False, False, False, False, False, False, False, False, False, False, False, True, True, False, False, False, False, False, False, False, False, False, False, True, True, False, False, False, False, False, False, False, False, False, False, True, True, True, False, False, False, True, True, False, False, False, True, True, True, False, False, False, False, False, False, False, False, False, True, True, True, True, False, False, False, True, False, False, False, False, True, True, True, False, False, False, True, True, False, False, False, False, False, True, False, True, False, False, False, True, True, True, True, True, True, True, True, True, True, True, False, False, True, False, True, True, True, True, True, True, True, True, True, False, False, False, False, False, False, True, True, True, False, False, True, False, False, False, False, False, True, True, True, True, False, False, False, False, True, False, False, False, False, False, True, True, False, False, False, False, False, False, True, False, False, True, True, True, False, False, False, False, True, False, False, False, False, True, True, True, False, False, False, False, True, False, False, False, False, True, True, True, False, False, False, False, False, True, False, False, False, False, True, False, False, False, False, False, False, True, False, False, False, False, False, True, True, False, True, False, False, False, True, False, False, False, True, True, True, False, False, False, False, True, False, False, False, True, True, True, True, False, False, False, False, True, True, False, False, False, True, True, True, False, False, False, False, False, False, False, False, False, True, True, True, False, False, False, False, False, False, False, False, False, False, False, True, False, False, False, False, True, True, False, False, False, True, True, True, True, False, False, False, False, True, False, False, False, False, True, True, True, True, False, False, True, False, False, False, False, False, True, True, False, False, False, False, False, True, False, False, False, False, False, True, True, False, False, True, False, True, False, False, True, False, True, True, True, True, False, False, True]\n",
      "[False, False, False, False, False, False, False, False, False, False, True, True, False, True, False, False, False, True, False, False, False, False, False, False, False, False, False, True, False, False, True, False, False, False, True, False, False, False, False, False, False, False, True, False, False, False, True, True, True, False, False, False, False, False, False, False, False, False, False, False, False, False, False, False, False, False, False, False, True, False, False, False, False, False, False, False, False, False, False, False, False, False, False, False, False, False, False, False, False, False, False, True, False, False, False, True, False, False, False, False, False, False, True, False, False, False, False, True, False, False, False, False, False, False, False, False, False, False, False, False, False, False, False, False, True, False, False, False, False, False, False, False, False, False, False, False, False, False, False, False, False, False, True, False, True, False, True, False, False, False, False, False, False, True, False, False, False, False, False, False, False, True, False, False, False, False, True, False, False, False, False, False, True, True, True, True, True, True, False, False, False, False, True, False, True, True, False, False, False, False, False, True, False, False, False, False, True, False, False, False, False, False, False, False, True, False, False, False, True, True, False, False, False, True, True, False, True, False, False, True, False, False, False, False, False, False, False, True, False, False, False, False, False, False, False, False, False, False, False, False, False, False, False, False, False, True, True, False, False, False, False, False, False, False, False, False, False, False, False, True, False, False, False, False, True, True, False, False, False, False, False, False, False, False, False, False, False, False, False, False, True, False, True, True, False, False, False, False, False, False, False, False, False, False, False, False, True, False, False, False, False, True, False, False, False, False, False, False, False, False, False, False, False, False, False, False, False, False, True, False, False, True, True, True, False, False, True, False, False, False, False, False, False, False, True, False, False, True, False, False, False, False, False, False, False, False, False, False, False, True, False, False, True, False, False, False, True, False, False, False, False, True, False, False, False, False, False, False, False, False, False, False, False, False, False, False, False, False, False, False, False, False, True, True, False, False, True, False, True, False, False, False, False, False, False, False, True, False, True, True, False, False, False]\n",
      "random_state\n",
      "100\n",
      "[True, False, False, False, False, False, True, False, False, False, True, True, True, True, False, False, False, True, False, False, False, True, True, True, True, True, False, False, False, False, False, False, False, False, False, True, True, False, False, True, False, False, False, False, False, False, True, True, False, False, True, False, False, False, False, False, False, False, True, True, False, False, False, True, False, False, False, False, False, False, True, False, False, False, False, False, False, False, False, False, False, False, True, True, False, False, False, False, False, False, False, False, False, False, True, True, False, False, False, False, False, False, False, False, False, False, True, True, True, False, False, False, True, True, False, False, False, True, True, True, False, False, False, False, False, False, False, False, False, True, True, True, True, False, False, False, True, False, False, False, False, True, True, True, False, False, False, True, True, False, False, False, False, False, True, False, True, False, False, False, True, True, True, True, True, True, True, True, True, True, True, False, False, True, False, True, True, True, True, True, True, True, True, True, False, False, False, False, False, False, True, True, True, False, False, True, False, False, False, False, False, True, True, True, True, False, False, False, False, True, False, False, False, False, False, True, True, False, False, False, False, False, False, True, False, False, True, True, True, False, False, False, False, True, False, False, False, False, True, True, True, False, False, False, False, True, False, False, False, False, True, True, True, False, False, False, False, False, True, False, False, False, False, True, False, False, False, False, False, False, True, False, False, False, False, False, True, True, False, True, False, False, False, True, False, False, False, True, True, True, False, False, False, False, True, False, False, False, True, True, True, True, False, False, False, False, True, True, False, False, False, True, True, True, False, False, False, False, False, False, False, False, False, True, True, True, False, False, False, False, False, False, False, False, False, False, False, True, False, False, False, False, True, True, False, False, False, True, True, True, True, False, False, False, False, True, False, False, False, False, True, True, True, True, False, False, True, False, False, False, False, False, True, True, False, False, False, False, False, True, False, False, False, False, False, True, True, False, False, True, False, True, False, False, True, False, True, True, True, True, False, False, True]\n",
      "[False, False, False, False, False, False, False, False, False, False, True, True, False, True, False, False, False, True, False, False, False, False, False, False, False, False, False, True, False, False, True, False, False, False, True, False, False, False, False, False, False, False, True, False, False, False, True, True, True, False, False, False, False, False, False, False, False, False, False, False, False, False, False, False, False, False, False, False, True, False, False, False, False, False, False, False, False, False, False, False, False, False, False, False, False, False, False, False, False, False, False, True, False, False, False, True, False, False, False, False, False, False, True, False, False, False, False, True, False, False, False, False, False, False, False, False, False, False, False, False, False, False, False, False, True, False, False, False, False, False, False, False, False, False, False, False, False, False, False, False, False, False, True, False, True, False, True, False, False, False, False, False, False, True, False, False, False, False, False, False, False, True, False, False, False, False, True, False, False, False, False, False, True, True, True, True, True, True, False, False, False, False, True, False, True, True, False, False, False, False, False, True, False, False, False, False, True, False, False, False, False, False, False, False, True, False, False, False, True, True, False, False, False, True, True, False, True, False, False, True, False, False, False, False, False, False, False, True, False, False, False, False, False, False, False, False, False, False, False, False, False, False, False, False, False, True, True, False, False, False, False, False, False, False, False, False, False, False, False, True, False, False, False, False, True, True, False, False, False, False, False, False, False, False, False, False, False, False, False, False, True, False, True, True, False, False, False, False, False, False, False, False, False, False, False, False, True, False, False, False, False, True, False, False, False, False, False, False, False, False, False, False, False, False, False, False, False, False, True, False, False, True, True, True, False, False, True, False, False, False, False, False, False, False, True, False, False, True, False, False, False, False, False, False, False, False, False, False, False, True, False, False, True, False, False, False, True, False, False, False, False, True, False, False, False, False, False, False, False, False, False, False, False, False, False, False, False, False, False, False, False, False, True, True, False, False, True, False, True, False, False, False, False, False, False, False, True, False, True, True, False, False, False]\n",
      "time taken: 13887.714087486267\n",
      "monthly mean FPR: 0.3198198198198198\n",
      "monthly mean detection accuracy: 0.45714285714285713\n"
     ]
    }
   ],
   "source": [
    "# import time\n",
    "#\n",
    "#\n",
    "# start_time = time.time()\n",
    "# _, fpr_mean_month, _, det_acc_mean_month, _ = ucdd_eval_real_world.all_drifting_batches_randomness_robust(\n",
    "#     reference_data_batches=X_ref_batches_month,\n",
    "#     testing_data_batches=X_test_batches_month,\n",
    "#     true_drift_bool=true_drift_bool_month,\n",
    "#     min_ref_batches_drift=0.3,\n",
    "#     additional_check=True,\n",
    "#     n_init=100, max_iter=18000, tol=0,\n",
    "#     first_random_state=0,\n",
    "#     min_runs=2, std_err_threshold=0.05\n",
    "# )\n",
    "# end_time = time.time()\n",
    "# print('time taken:', end_time - start_time)\n",
    "# print('monthly mean FPR:', fpr_mean_month)\n",
    "# print('monthly mean detection accuracy:', det_acc_mean_month)"
   ]
  },
  {
   "cell_type": "code",
   "execution_count": null,
   "metadata": {},
   "outputs": [],
   "source": []
  }
 ],
 "metadata": {
  "kernelspec": {
   "display_name": "Python 3 (ipykernel)",
   "language": "python",
   "name": "python3"
  },
  "language_info": {
   "codemirror_mode": {
    "name": "ipython",
    "version": 3
   },
   "file_extension": ".py",
   "mimetype": "text/x-python",
   "name": "python",
   "nbconvert_exporter": "python",
   "pygments_lexer": "ipython3",
   "version": "3.9.10"
  }
 },
 "nbformat": 4,
 "nbformat_minor": 1
}