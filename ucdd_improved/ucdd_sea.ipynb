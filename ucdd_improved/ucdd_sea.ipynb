{
 "cells": [
  {
   "cell_type": "markdown",
   "metadata": {
    "collapsed": true
   },
   "source": [
    "# Evaluation of MSSW on SEA"
   ]
  },
  {
   "cell_type": "markdown",
   "metadata": {},
   "source": [
    "## Imports"
   ]
  },
  {
   "cell_type": "code",
   "execution_count": 15,
   "metadata": {},
   "outputs": [],
   "source": [
    "import numpy as np\n",
    "import pandas as pd\n",
    "import sklearn"
   ]
  },
  {
   "cell_type": "markdown",
   "metadata": {},
   "source": [
    "## SEA dataset locations"
   ]
  },
  {
   "cell_type": "code",
   "execution_count": 16,
   "metadata": {},
   "outputs": [],
   "source": [
    "abrupt_sea_path = '../Datasets_concept_drift/synthetic_data/abrupt_drift/sea_1_abrupt_drift_0_noise_balanced.arff'\n",
    "gradual_sea_paths = [\n",
    "    '../Datasets_concept_drift/synthetic_data/gradual_drift/sea_1_gradual_drift_0_noise_balanced_05.arff',\n",
    "    '../Datasets_concept_drift/synthetic_data/gradual_drift/sea_1_gradual_drift_0_noise_balanced_1.arff',\n",
    "    '../Datasets_concept_drift/synthetic_data/gradual_drift/sea_1_gradual_drift_0_noise_balanced_5.arff',\n",
    "    '../Datasets_concept_drift/synthetic_data/gradual_drift/sea_1_gradual_drift_0_noise_balanced_10.arff',\n",
    "    '../Datasets_concept_drift/synthetic_data/gradual_drift/sea_1_gradual_drift_0_noise_balanced_20.arff'\n",
    "]\n",
    "all_sea_data_paths = [abrupt_sea_path] + gradual_sea_paths"
   ]
  },
  {
   "cell_type": "markdown",
   "metadata": {},
   "source": [
    "## Accept and preprocess SEA datasets"
   ]
  },
  {
   "cell_type": "code",
   "execution_count": 17,
   "metadata": {},
   "outputs": [
    {
     "name": "stderr",
     "output_type": "stream",
     "text": [
      "C:\\Users\\jpohl\\PycharmProjects\\clustering-drift-detection\\ucdd_improved\\eval_helpers\\accepting.py:16: SettingWithCopyWarning: \n",
      "A value is trying to be set on a copy of a slice from a DataFrame.\n",
      "Try using .loc[row_indexer,col_indexer] = value instead\n",
      "\n",
      "See the caveats in the documentation: https://pandas.pydata.org/pandas-docs/stable/user_guide/indexing.html#returning-a-view-versus-a-copy\n",
      "  df[column] = df[column].str.decode('utf-8')\n",
      "c:\\users\\jpohl\\pycharmprojects\\clustering-drift-detection\\venv\\lib\\site-packages\\sklearn\\preprocessing\\_label.py:115: DataConversionWarning: A column-vector y was passed when a 1d array was expected. Please change the shape of y to (n_samples, ), for example using ravel().\n",
      "  y = column_or_1d(y, warn=True)\n"
     ]
    },
    {
     "name": "stdout",
     "output_type": "stream",
     "text": [
      "shape reference labels\n",
      "(30000, 1)\n",
      "shape testing labels\n",
      "(70000, 1)\n"
     ]
    },
    {
     "name": "stderr",
     "output_type": "stream",
     "text": [
      "C:\\Users\\jpohl\\PycharmProjects\\clustering-drift-detection\\ucdd_improved\\eval_helpers\\accepting.py:16: SettingWithCopyWarning: \n",
      "A value is trying to be set on a copy of a slice from a DataFrame.\n",
      "Try using .loc[row_indexer,col_indexer] = value instead\n",
      "\n",
      "See the caveats in the documentation: https://pandas.pydata.org/pandas-docs/stable/user_guide/indexing.html#returning-a-view-versus-a-copy\n",
      "  df[column] = df[column].str.decode('utf-8')\n",
      "c:\\users\\jpohl\\pycharmprojects\\clustering-drift-detection\\venv\\lib\\site-packages\\sklearn\\preprocessing\\_label.py:115: DataConversionWarning: A column-vector y was passed when a 1d array was expected. Please change the shape of y to (n_samples, ), for example using ravel().\n",
      "  y = column_or_1d(y, warn=True)\n"
     ]
    },
    {
     "name": "stdout",
     "output_type": "stream",
     "text": [
      "shape reference labels\n",
      "(30000, 1)\n",
      "shape testing labels\n",
      "(70000, 1)\n"
     ]
    },
    {
     "name": "stderr",
     "output_type": "stream",
     "text": [
      "C:\\Users\\jpohl\\PycharmProjects\\clustering-drift-detection\\ucdd_improved\\eval_helpers\\accepting.py:16: SettingWithCopyWarning: \n",
      "A value is trying to be set on a copy of a slice from a DataFrame.\n",
      "Try using .loc[row_indexer,col_indexer] = value instead\n",
      "\n",
      "See the caveats in the documentation: https://pandas.pydata.org/pandas-docs/stable/user_guide/indexing.html#returning-a-view-versus-a-copy\n",
      "  df[column] = df[column].str.decode('utf-8')\n",
      "c:\\users\\jpohl\\pycharmprojects\\clustering-drift-detection\\venv\\lib\\site-packages\\sklearn\\preprocessing\\_label.py:115: DataConversionWarning: A column-vector y was passed when a 1d array was expected. Please change the shape of y to (n_samples, ), for example using ravel().\n",
      "  y = column_or_1d(y, warn=True)\n"
     ]
    },
    {
     "name": "stdout",
     "output_type": "stream",
     "text": [
      "shape reference labels\n",
      "(30000, 1)\n",
      "shape testing labels\n",
      "(70000, 1)\n"
     ]
    },
    {
     "name": "stderr",
     "output_type": "stream",
     "text": [
      "C:\\Users\\jpohl\\PycharmProjects\\clustering-drift-detection\\ucdd_improved\\eval_helpers\\accepting.py:16: SettingWithCopyWarning: \n",
      "A value is trying to be set on a copy of a slice from a DataFrame.\n",
      "Try using .loc[row_indexer,col_indexer] = value instead\n",
      "\n",
      "See the caveats in the documentation: https://pandas.pydata.org/pandas-docs/stable/user_guide/indexing.html#returning-a-view-versus-a-copy\n",
      "  df[column] = df[column].str.decode('utf-8')\n",
      "c:\\users\\jpohl\\pycharmprojects\\clustering-drift-detection\\venv\\lib\\site-packages\\sklearn\\preprocessing\\_label.py:115: DataConversionWarning: A column-vector y was passed when a 1d array was expected. Please change the shape of y to (n_samples, ), for example using ravel().\n",
      "  y = column_or_1d(y, warn=True)\n"
     ]
    },
    {
     "name": "stdout",
     "output_type": "stream",
     "text": [
      "shape reference labels\n",
      "(30000, 1)\n",
      "shape testing labels\n",
      "(70000, 1)\n"
     ]
    },
    {
     "name": "stderr",
     "output_type": "stream",
     "text": [
      "C:\\Users\\jpohl\\PycharmProjects\\clustering-drift-detection\\ucdd_improved\\eval_helpers\\accepting.py:16: SettingWithCopyWarning: \n",
      "A value is trying to be set on a copy of a slice from a DataFrame.\n",
      "Try using .loc[row_indexer,col_indexer] = value instead\n",
      "\n",
      "See the caveats in the documentation: https://pandas.pydata.org/pandas-docs/stable/user_guide/indexing.html#returning-a-view-versus-a-copy\n",
      "  df[column] = df[column].str.decode('utf-8')\n",
      "c:\\users\\jpohl\\pycharmprojects\\clustering-drift-detection\\venv\\lib\\site-packages\\sklearn\\preprocessing\\_label.py:115: DataConversionWarning: A column-vector y was passed when a 1d array was expected. Please change the shape of y to (n_samples, ), for example using ravel().\n",
      "  y = column_or_1d(y, warn=True)\n"
     ]
    },
    {
     "name": "stdout",
     "output_type": "stream",
     "text": [
      "shape reference labels\n",
      "(30000, 1)\n",
      "shape testing labels\n",
      "(70000, 1)\n",
      "shape reference labels\n",
      "(30000, 1)\n",
      "shape testing labels\n",
      "(70000, 1)\n"
     ]
    },
    {
     "name": "stderr",
     "output_type": "stream",
     "text": [
      "C:\\Users\\jpohl\\PycharmProjects\\clustering-drift-detection\\ucdd_improved\\eval_helpers\\accepting.py:16: SettingWithCopyWarning: \n",
      "A value is trying to be set on a copy of a slice from a DataFrame.\n",
      "Try using .loc[row_indexer,col_indexer] = value instead\n",
      "\n",
      "See the caveats in the documentation: https://pandas.pydata.org/pandas-docs/stable/user_guide/indexing.html#returning-a-view-versus-a-copy\n",
      "  df[column] = df[column].str.decode('utf-8')\n",
      "c:\\users\\jpohl\\pycharmprojects\\clustering-drift-detection\\venv\\lib\\site-packages\\sklearn\\preprocessing\\_label.py:115: DataConversionWarning: A column-vector y was passed when a 1d array was expected. Please change the shape of y to (n_samples, ), for example using ravel().\n",
      "  y = column_or_1d(y, warn=True)\n"
     ]
    }
   ],
   "source": [
    "from eval_helpers import accepting\n",
    "from sklearn.preprocessing import MinMaxScaler\n",
    "from sklearn.preprocessing import LabelEncoder\n",
    "from sklearn.model_selection import train_test_split\n",
    "\n",
    "\n",
    "sea_reference_batches = {}\n",
    "sea_reference_label_batches = {}\n",
    "sea_testing_batches = {}\n",
    "sea_testing_label_batches = {}\n",
    "for sea_path in all_sea_data_paths:\n",
    "    df_x, df_y = accepting.get_clean_df(sea_path)\n",
    "    df_y = pd.DataFrame(LabelEncoder().fit_transform(df_y))\n",
    "\n",
    "    df_x_ref, df_x_test, df_y_ref, df_y_test = sklearn.model_selection.train_test_split(\n",
    "        df_x, df_y, test_size=0.7, shuffle=False)\n",
    "\n",
    "    reference_labels = df_y_ref.to_numpy()\n",
    "    testing_labels = df_y_test.to_numpy()\n",
    "\n",
    "    print('shape reference labels')\n",
    "    print(reference_labels.shape)\n",
    "    print('shape testing labels')\n",
    "    print(testing_labels.shape)\n",
    "    \n",
    "    reference_data = df_x_ref.to_numpy()\n",
    "    testing_data = df_x_test.to_numpy()\n",
    "    scaler = MinMaxScaler()\n",
    "    scaler.fit(reference_data)\n",
    "    reference_data = scaler.transform(reference_data)\n",
    "    testing_data = scaler.transform(testing_data)\n",
    "    \n",
    "    num_ref_batches = 3\n",
    "    num_test_batches = 7\n",
    "    ref_batches = np.array_split(reference_data, num_ref_batches)\n",
    "    ref_label_batches = np.array_split(reference_labels, num_ref_batches)\n",
    "    test_batches = np.array_split(testing_data, num_test_batches)\n",
    "    test_label_batches = np.array_split(testing_labels, num_test_batches)\n",
    "    \n",
    "    sea_reference_batches[sea_path] = ref_batches\n",
    "    sea_reference_label_batches[sea_path] = ref_label_batches\n",
    "    sea_testing_batches[sea_path] = test_batches\n",
    "    sea_testing_label_batches[sea_path] = test_label_batches"
   ]
  },
  {
   "cell_type": "markdown",
   "metadata": {},
   "source": [
    "## Find the best tol and max_iter in SEA (the drift type is irrelevant)"
   ]
  },
  {
   "cell_type": "code",
   "execution_count": 20,
   "metadata": {},
   "outputs": [
    {
     "name": "stdout",
     "output_type": "stream",
     "text": [
      "something\n"
     ]
    }
   ],
   "source": [
    "from eval_helpers import kmeans_verbose_helpers\n",
    "\n",
    "\n",
    "def write_kmeans_results_ucdd_helper(output_filename_no_extension, ref_batches, n_init, max_iter, tol, random_state):\n",
    "    # dummy = [np.asarray(1), np.asarray(2), np.asarray(3)]\n",
    "    combinations = []\n",
    "    for i in range(3):\n",
    "    #     combinations.append(np.vstack((dummy[i], dummy[(i + 1) % 3])))\n",
    "        combinations.append(np.vstack((ref_batches[i], ref_batches[(i + 1) % 3])))\n",
    "        \n",
    "    all_results_from_combinations = []\n",
    "    for i, combination in enumerate(combinations):\n",
    "        filename = output_filename_no_extension + str(i) + '.txt'\n",
    "        print('filename', filename)\n",
    "        kmeans_verbose_helpers.write_verbose_kmeans_to_file(result_filename=output_filename_no_extension + str(i) + '.txt',\n",
    "                                     data_to_cluster=combination,\n",
    "                                     n_clusters=2, n_init=n_init, max_iter=max_iter, tol=tol, random_state=random_state)\n",
    "        output_dicts = kmeans_verbose_helpers.convert_kmeans_output_file_to_dicts(filename, n_init=n_init)\n",
    "        all_results_from_combinations.append(output_dicts)\n",
    "        kmeans_verbose_helpers.print_stats_from_kmeans_output_dicts(output_dicts)\n",
    "        \n",
    "    kmeans_verbose_helpers.print_stats_from_all_combinations(all_results_from_combinations)"
   ]
  },
  {
   "cell_type": "code",
   "execution_count": 21,
   "metadata": {},
   "outputs": [
    {
     "name": "stdout",
     "output_type": "stream",
     "text": [
      "filename sea_output0.txt\n",
      "random state: 1053\n"
     ]
    },
    {
     "ename": "KeyboardInterrupt",
     "evalue": "",
     "output_type": "error",
     "traceback": [
      "\u001B[1;31m---------------------------------------------------------------------------\u001B[0m",
      "\u001B[1;31mKeyboardInterrupt\u001B[0m                         Traceback (most recent call last)",
      "File \u001B[1;32m<__array_function__ internals>:177\u001B[0m, in \u001B[0;36mwhere\u001B[1;34m(*args, **kwargs)\u001B[0m\n",
      "\u001B[1;31mKeyboardInterrupt\u001B[0m: "
     ]
    },
    {
     "name": "stderr",
     "output_type": "stream",
     "text": [
      "Exception ignored in: 'sklearn.cluster._k_means_common._relocate_empty_clusters_dense'\n",
      "Traceback (most recent call last):\n",
      "  File \"<__array_function__ internals>\", line 177, in where\n",
      "KeyboardInterrupt: \n"
     ]
    },
    {
     "name": "stdout",
     "output_type": "stream",
     "text": [
      "total number of results: 100\n",
      "maximum number of iterations: 77\n",
      "minimum initial inertia: 3807.187051337405\n",
      "maximum initial inertia: 8731.074732381052\n",
      "number of unique final inertia values: 18\n",
      "minimum final inertia: 3554.5339834841066\n",
      "maximum final inertia: 3652.064139150284\n",
      "total number of convergences: 100\n",
      "number of strict convergences: 100\n",
      "number of tol-based convergences: 0\n",
      "filename sea_output1.txt\n",
      "random state: 1053\n",
      "total number of results: 100\n",
      "maximum number of iterations: 54\n",
      "minimum initial inertia: 3963.912240518916\n",
      "maximum initial inertia: 8146.817583220964\n",
      "number of unique final inertia values: 5\n",
      "minimum final inertia: 3522.635321428201\n",
      "maximum final inertia: 3632.905333372651\n",
      "total number of convergences: 100\n",
      "number of strict convergences: 100\n",
      "number of tol-based convergences: 0\n",
      "filename sea_output2.txt\n",
      "random state: 1053\n",
      "total number of results: 100\n",
      "maximum number of iterations: 71\n",
      "minimum initial inertia: 3887.476245307372\n",
      "maximum initial inertia: 8426.6262988874\n",
      "number of unique final inertia values: 13\n",
      "minimum final inertia: 3555.233746395852\n",
      "maximum final inertia: 3613.5161478893065\n",
      "total number of convergences: 100\n",
      "number of strict convergences: 100\n",
      "number of tol-based convergences: 0\n",
      "{'total_max_iterations': 77, 'total_min_init_inertia': 3807.187051337405, 'total_max_init_inertia': 8731.074732381052, 'total_min_final_inertia': 3522.635321428201, 'total_max_final_inertia': 3652.064139150284, 'total_num_convergences': 300, 'total_num_strict_convergences': 300, 'total_num_tol_based_convergences': 0}\n"
     ]
    }
   ],
   "source": [
    "write_kmeans_results_ucdd_helper('sea_output', sea_reference_batches[abrupt_sea_path], n_init=100, max_iter=500, tol=0,\n",
    "                                 random_state=1053)"
   ]
  },
  {
   "cell_type": "markdown",
   "metadata": {},
   "source": [
    "## Use them for the analysis"
   ]
  },
  {
   "cell_type": "markdown",
   "source": [
    "### Try the parallel code instead of for loops"
   ],
   "metadata": {
    "collapsed": false,
    "pycharm": {
     "name": "#%% md\n"
    }
   }
  },
  {
   "cell_type": "code",
   "execution_count": 53,
   "outputs": [
    {
     "name": "stdout",
     "output_type": "stream",
     "text": [
      "sea_path ../Datasets_concept_drift/synthetic_data/abrupt_drift/sea_1_abrupt_drift_0_noise_balanced.arff\n",
      "random_state\n",
      "0\n",
      "sea_path ../Datasets_concept_drift/synthetic_data/gradual_drift/sea_1_gradual_drift_0_noise_balanced_05.arff\n",
      "random_state\n",
      "0\n",
      "sea_path ../Datasets_concept_drift/synthetic_data/gradual_drift/sea_1_gradual_drift_0_noise_balanced_1.arff\n",
      "random_state\n",
      "0\n"
     ]
    },
    {
     "ename": "KeyboardInterrupt",
     "evalue": "",
     "output_type": "error",
     "traceback": [
      "\u001B[1;31m---------------------------------------------------------------------------\u001B[0m",
      "\u001B[1;31mKeyboardInterrupt\u001B[0m                         Traceback (most recent call last)",
      "Cell \u001B[1;32mIn[53], line 26\u001B[0m\n\u001B[0;32m     24\u001B[0m \u001B[38;5;28;01mfor\u001B[39;00m sea_path \u001B[38;5;129;01min\u001B[39;00m all_sea_data_paths:\n\u001B[0;32m     25\u001B[0m     \u001B[38;5;28mprint\u001B[39m(\u001B[38;5;124m'\u001B[39m\u001B[38;5;124msea_path\u001B[39m\u001B[38;5;124m'\u001B[39m, sea_path)\n\u001B[1;32m---> 26\u001B[0m     drifts_detected \u001B[38;5;241m=\u001B[39m \u001B[43mucdd\u001B[49m\u001B[38;5;241;43m.\u001B[39;49m\u001B[43mall_drifting_batches\u001B[49m\u001B[43m(\u001B[49m\n\u001B[0;32m     27\u001B[0m \u001B[43m        \u001B[49m\u001B[43msea_reference_batches\u001B[49m\u001B[43m[\u001B[49m\u001B[43mabrupt_sea_path\u001B[49m\u001B[43m]\u001B[49m\u001B[43m,\u001B[49m\n\u001B[0;32m     28\u001B[0m \u001B[43m        \u001B[49m\u001B[43msea_testing_batches\u001B[49m\u001B[43m[\u001B[49m\u001B[43mabrupt_sea_path\u001B[49m\u001B[43m]\u001B[49m\u001B[43m,\u001B[49m\n\u001B[0;32m     29\u001B[0m \u001B[43m        \u001B[49m\u001B[43mmin_ref_batches_drift\u001B[49m\u001B[38;5;241;43m=\u001B[39;49m\u001B[38;5;241;43m0.3\u001B[39;49m\u001B[43m,\u001B[49m\n\u001B[0;32m     30\u001B[0m \u001B[43m        \u001B[49m\u001B[43madditional_check\u001B[49m\u001B[38;5;241;43m=\u001B[39;49m\u001B[38;5;28;43;01mTrue\u001B[39;49;00m\u001B[43m,\u001B[49m\n\u001B[0;32m     31\u001B[0m \u001B[43m        \u001B[49m\u001B[43mn_init\u001B[49m\u001B[38;5;241;43m=\u001B[39;49m\u001B[38;5;241;43m100\u001B[39;49m\u001B[43m,\u001B[49m\n\u001B[0;32m     32\u001B[0m \u001B[43m        \u001B[49m\u001B[43mmax_iter\u001B[49m\u001B[38;5;241;43m=\u001B[39;49m\u001B[38;5;241;43m77000\u001B[39;49m\u001B[43m,\u001B[49m\n\u001B[0;32m     33\u001B[0m \u001B[43m        \u001B[49m\u001B[43mtol\u001B[49m\u001B[38;5;241;43m=\u001B[39;49m\u001B[38;5;241;43m0\u001B[39;49m\u001B[43m,\u001B[49m\n\u001B[0;32m     34\u001B[0m \u001B[43m        \u001B[49m\u001B[43mrandom_state\u001B[49m\u001B[38;5;241;43m=\u001B[39;49m\u001B[38;5;241;43m0\u001B[39;49m\u001B[43m,\u001B[49m\n\u001B[0;32m     35\u001B[0m \u001B[43m        \u001B[49m\u001B[43mparallel\u001B[49m\u001B[38;5;241;43m=\u001B[39;49m\u001B[38;5;28;43;01mTrue\u001B[39;49;00m\n\u001B[0;32m     36\u001B[0m \u001B[43m    \u001B[49m\u001B[43m)\u001B[49m\n\u001B[0;32m     37\u001B[0m     all_drift_detections_parallel\u001B[38;5;241m.\u001B[39mappend(drifts_detected)\n\u001B[0;32m     38\u001B[0m end_time_parallel \u001B[38;5;241m=\u001B[39m time\u001B[38;5;241m.\u001B[39mtime()\n",
      "File \u001B[1;32m~\\PycharmProjects\\clustering-drift-detection\\ucdd_improved\\core\\ucdd.py:190\u001B[0m, in \u001B[0;36mall_drifting_batches\u001B[1;34m(reference_data_batches, testing_data_batches, min_ref_batches_drift, additional_check, n_init, max_iter, tol, random_state, parallel)\u001B[0m\n\u001B[0;32m    172\u001B[0m \u001B[38;5;250m\u001B[39m\u001B[38;5;124;03m\"\"\"\u001B[39;00m\n\u001B[0;32m    173\u001B[0m \u001B[38;5;124;03mFind all drift locations based on the given reference and testing batches\u001B[39;00m\n\u001B[0;32m    174\u001B[0m \n\u001B[1;32m   (...)\u001B[0m\n\u001B[0;32m    186\u001B[0m \u001B[38;5;124;03m    an entry is True if drift was detected there and False otherwise\u001B[39;00m\n\u001B[0;32m    187\u001B[0m \u001B[38;5;124;03m\"\"\"\u001B[39;00m\n\u001B[0;32m    189\u001B[0m \u001B[38;5;28;01mif\u001B[39;00m parallel:\n\u001B[1;32m--> 190\u001B[0m     drifts_detected \u001B[38;5;241m=\u001B[39m \u001B[43mall_drifting_batches_parallel\u001B[49m\u001B[43m(\u001B[49m\n\u001B[0;32m    191\u001B[0m \u001B[43m        \u001B[49m\u001B[43mreference_data_batches\u001B[49m\u001B[43m,\u001B[49m\n\u001B[0;32m    192\u001B[0m \u001B[43m        \u001B[49m\u001B[43mtesting_data_batches\u001B[49m\u001B[43m,\u001B[49m\n\u001B[0;32m    193\u001B[0m \u001B[43m        \u001B[49m\u001B[43mmin_ref_batches_drift\u001B[49m\u001B[43m,\u001B[49m\n\u001B[0;32m    194\u001B[0m \u001B[43m        \u001B[49m\u001B[43madditional_check\u001B[49m\u001B[43m,\u001B[49m\n\u001B[0;32m    195\u001B[0m \u001B[43m        \u001B[49m\u001B[43mn_init\u001B[49m\u001B[38;5;241;43m=\u001B[39;49m\u001B[43mn_init\u001B[49m\u001B[43m,\u001B[49m\n\u001B[0;32m    196\u001B[0m \u001B[43m        \u001B[49m\u001B[43mmax_iter\u001B[49m\u001B[38;5;241;43m=\u001B[39;49m\u001B[43mmax_iter\u001B[49m\u001B[43m,\u001B[49m\n\u001B[0;32m    197\u001B[0m \u001B[43m        \u001B[49m\u001B[43mtol\u001B[49m\u001B[38;5;241;43m=\u001B[39;49m\u001B[43mtol\u001B[49m\u001B[43m,\u001B[49m\n\u001B[0;32m    198\u001B[0m \u001B[43m        \u001B[49m\u001B[43mrandom_state\u001B[49m\u001B[38;5;241;43m=\u001B[39;49m\u001B[43mrandom_state\u001B[49m\n\u001B[0;32m    199\u001B[0m \u001B[43m    \u001B[49m\u001B[43m)\u001B[49m\n\u001B[0;32m    200\u001B[0m \u001B[38;5;28;01melse\u001B[39;00m:\n\u001B[0;32m    201\u001B[0m     \u001B[38;5;28mprint\u001B[39m(\u001B[38;5;124m'\u001B[39m\u001B[38;5;124mrandom_state\u001B[39m\u001B[38;5;124m'\u001B[39m)\n",
      "File \u001B[1;32m~\\PycharmProjects\\clustering-drift-detection\\ucdd_improved\\core\\ucdd.py:256\u001B[0m, in \u001B[0;36mall_drifting_batches_parallel\u001B[1;34m(reference_data_batches, testing_data_batches, min_ref_batches_drift, additional_check, n_init, max_iter, tol, random_state)\u001B[0m\n\u001B[0;32m    254\u001B[0m drifts_1d \u001B[38;5;241m=\u001B[39m []\n\u001B[0;32m    255\u001B[0m \u001B[38;5;28;01mwith\u001B[39;00m Pool() \u001B[38;5;28;01mas\u001B[39;00m pool:\n\u001B[1;32m--> 256\u001B[0m     drifts_1d \u001B[38;5;241m=\u001B[39m \u001B[43mpool\u001B[49m\u001B[38;5;241;43m.\u001B[39;49m\u001B[43mstarmap\u001B[49m\u001B[43m(\u001B[49m\u001B[43mconcept_drift_detected\u001B[49m\u001B[43m,\u001B[49m\u001B[43m \u001B[49m\u001B[43mpool_iterables\u001B[49m\u001B[43m)\u001B[49m\n\u001B[0;32m    258\u001B[0m drifts_1d_arr \u001B[38;5;241m=\u001B[39m np\u001B[38;5;241m.\u001B[39marray(drifts_1d)\n\u001B[0;32m    259\u001B[0m \u001B[38;5;66;03m# each column of the 2d array represents results for one testing batch\u001B[39;00m\n",
      "File \u001B[1;32m~\\AppData\\Local\\Programs\\Python\\Python39\\lib\\multiprocessing\\pool.py:372\u001B[0m, in \u001B[0;36mPool.starmap\u001B[1;34m(self, func, iterable, chunksize)\u001B[0m\n\u001B[0;32m    366\u001B[0m \u001B[38;5;28;01mdef\u001B[39;00m \u001B[38;5;21mstarmap\u001B[39m(\u001B[38;5;28mself\u001B[39m, func, iterable, chunksize\u001B[38;5;241m=\u001B[39m\u001B[38;5;28;01mNone\u001B[39;00m):\n\u001B[0;32m    367\u001B[0m \u001B[38;5;250m    \u001B[39m\u001B[38;5;124;03m'''\u001B[39;00m\n\u001B[0;32m    368\u001B[0m \u001B[38;5;124;03m    Like `map()` method but the elements of the `iterable` are expected to\u001B[39;00m\n\u001B[0;32m    369\u001B[0m \u001B[38;5;124;03m    be iterables as well and will be unpacked as arguments. Hence\u001B[39;00m\n\u001B[0;32m    370\u001B[0m \u001B[38;5;124;03m    `func` and (a, b) becomes func(a, b).\u001B[39;00m\n\u001B[0;32m    371\u001B[0m \u001B[38;5;124;03m    '''\u001B[39;00m\n\u001B[1;32m--> 372\u001B[0m     \u001B[38;5;28;01mreturn\u001B[39;00m \u001B[38;5;28;43mself\u001B[39;49m\u001B[38;5;241;43m.\u001B[39;49m\u001B[43m_map_async\u001B[49m\u001B[43m(\u001B[49m\u001B[43mfunc\u001B[49m\u001B[43m,\u001B[49m\u001B[43m \u001B[49m\u001B[43miterable\u001B[49m\u001B[43m,\u001B[49m\u001B[43m \u001B[49m\u001B[43mstarmapstar\u001B[49m\u001B[43m,\u001B[49m\u001B[43m \u001B[49m\u001B[43mchunksize\u001B[49m\u001B[43m)\u001B[49m\u001B[38;5;241;43m.\u001B[39;49m\u001B[43mget\u001B[49m\u001B[43m(\u001B[49m\u001B[43m)\u001B[49m\n",
      "File \u001B[1;32m~\\AppData\\Local\\Programs\\Python\\Python39\\lib\\multiprocessing\\pool.py:765\u001B[0m, in \u001B[0;36mApplyResult.get\u001B[1;34m(self, timeout)\u001B[0m\n\u001B[0;32m    764\u001B[0m \u001B[38;5;28;01mdef\u001B[39;00m \u001B[38;5;21mget\u001B[39m(\u001B[38;5;28mself\u001B[39m, timeout\u001B[38;5;241m=\u001B[39m\u001B[38;5;28;01mNone\u001B[39;00m):\n\u001B[1;32m--> 765\u001B[0m     \u001B[38;5;28;43mself\u001B[39;49m\u001B[38;5;241;43m.\u001B[39;49m\u001B[43mwait\u001B[49m\u001B[43m(\u001B[49m\u001B[43mtimeout\u001B[49m\u001B[43m)\u001B[49m\n\u001B[0;32m    766\u001B[0m     \u001B[38;5;28;01mif\u001B[39;00m \u001B[38;5;129;01mnot\u001B[39;00m \u001B[38;5;28mself\u001B[39m\u001B[38;5;241m.\u001B[39mready():\n\u001B[0;32m    767\u001B[0m         \u001B[38;5;28;01mraise\u001B[39;00m \u001B[38;5;167;01mTimeoutError\u001B[39;00m\n",
      "File \u001B[1;32m~\\AppData\\Local\\Programs\\Python\\Python39\\lib\\multiprocessing\\pool.py:762\u001B[0m, in \u001B[0;36mApplyResult.wait\u001B[1;34m(self, timeout)\u001B[0m\n\u001B[0;32m    761\u001B[0m \u001B[38;5;28;01mdef\u001B[39;00m \u001B[38;5;21mwait\u001B[39m(\u001B[38;5;28mself\u001B[39m, timeout\u001B[38;5;241m=\u001B[39m\u001B[38;5;28;01mNone\u001B[39;00m):\n\u001B[1;32m--> 762\u001B[0m     \u001B[38;5;28;43mself\u001B[39;49m\u001B[38;5;241;43m.\u001B[39;49m\u001B[43m_event\u001B[49m\u001B[38;5;241;43m.\u001B[39;49m\u001B[43mwait\u001B[49m\u001B[43m(\u001B[49m\u001B[43mtimeout\u001B[49m\u001B[43m)\u001B[49m\n",
      "File \u001B[1;32m~\\AppData\\Local\\Programs\\Python\\Python39\\lib\\threading.py:574\u001B[0m, in \u001B[0;36mEvent.wait\u001B[1;34m(self, timeout)\u001B[0m\n\u001B[0;32m    572\u001B[0m signaled \u001B[38;5;241m=\u001B[39m \u001B[38;5;28mself\u001B[39m\u001B[38;5;241m.\u001B[39m_flag\n\u001B[0;32m    573\u001B[0m \u001B[38;5;28;01mif\u001B[39;00m \u001B[38;5;129;01mnot\u001B[39;00m signaled:\n\u001B[1;32m--> 574\u001B[0m     signaled \u001B[38;5;241m=\u001B[39m \u001B[38;5;28;43mself\u001B[39;49m\u001B[38;5;241;43m.\u001B[39;49m\u001B[43m_cond\u001B[49m\u001B[38;5;241;43m.\u001B[39;49m\u001B[43mwait\u001B[49m\u001B[43m(\u001B[49m\u001B[43mtimeout\u001B[49m\u001B[43m)\u001B[49m\n\u001B[0;32m    575\u001B[0m \u001B[38;5;28;01mreturn\u001B[39;00m signaled\n",
      "File \u001B[1;32m~\\AppData\\Local\\Programs\\Python\\Python39\\lib\\threading.py:312\u001B[0m, in \u001B[0;36mCondition.wait\u001B[1;34m(self, timeout)\u001B[0m\n\u001B[0;32m    310\u001B[0m \u001B[38;5;28;01mtry\u001B[39;00m:    \u001B[38;5;66;03m# restore state no matter what (e.g., KeyboardInterrupt)\u001B[39;00m\n\u001B[0;32m    311\u001B[0m     \u001B[38;5;28;01mif\u001B[39;00m timeout \u001B[38;5;129;01mis\u001B[39;00m \u001B[38;5;28;01mNone\u001B[39;00m:\n\u001B[1;32m--> 312\u001B[0m         \u001B[43mwaiter\u001B[49m\u001B[38;5;241;43m.\u001B[39;49m\u001B[43macquire\u001B[49m\u001B[43m(\u001B[49m\u001B[43m)\u001B[49m\n\u001B[0;32m    313\u001B[0m         gotit \u001B[38;5;241m=\u001B[39m \u001B[38;5;28;01mTrue\u001B[39;00m\n\u001B[0;32m    314\u001B[0m     \u001B[38;5;28;01melse\u001B[39;00m:\n",
      "\u001B[1;31mKeyboardInterrupt\u001B[0m: "
     ]
    }
   ],
   "source": [
    "from core import ucdd\n",
    "import importlib\n",
    "importlib.reload(ucdd)\n",
    "import time\n",
    "\n",
    "# all_drift_detections = []\n",
    "# start_time_regular = time.time()\n",
    "# for sea_path in all_sea_data_paths:\n",
    "#     drifts_detected = ucdd.all_drifting_batches(\n",
    "#         sea_reference_batches[abrupt_sea_path],\n",
    "#         sea_testing_batches[abrupt_sea_path],\n",
    "#         min_ref_batches_drift=0.3,\n",
    "#         additional_check=True,\n",
    "#         n_init=100,\n",
    "#         max_iter=77000,\n",
    "#         tol=0,\n",
    "#         random_state=0\n",
    "#     )\n",
    "#     all_drift_detections.append(drifts_detected)\n",
    "# end_time_regular = time.time()\n",
    "\n",
    "all_drift_detections_parallel = []\n",
    "start_time_parallel = time.time()\n",
    "for sea_path in all_sea_data_paths:\n",
    "    print('sea_path', sea_path)\n",
    "    drifts_detected = ucdd.all_drifting_batches(\n",
    "        sea_reference_batches[abrupt_sea_path],\n",
    "        sea_testing_batches[abrupt_sea_path],\n",
    "        min_ref_batches_drift=0.3,\n",
    "        additional_check=True,\n",
    "        n_init=100,\n",
    "        max_iter=77000,\n",
    "        tol=0,\n",
    "        random_state=0,\n",
    "        parallel=True\n",
    "    )\n",
    "    all_drift_detections_parallel.append(drifts_detected)\n",
    "end_time_parallel = time.time()\n",
    "\n",
    "# print('REGULAR RUN')\n",
    "# print('time(sec):', end_time_regular - start_time_regular)\n",
    "# print('result:')\n",
    "# print(all_drift_detections)\n",
    "\n",
    "print('PARALLEL RUN')\n",
    "print('time(sec):', end_time_parallel - start_time_parallel)\n",
    "print('result:')\n",
    "print(all_drift_detections_parallel)\n"
   ],
   "metadata": {
    "collapsed": false,
    "pycharm": {
     "name": "#%%\n"
    }
   }
  },
  {
   "cell_type": "code",
   "execution_count": 20,
   "metadata": {},
   "outputs": [
    {
     "name": "stdout",
     "output_type": "stream",
     "text": [
      "entered ucdd eval\n",
      "entered ucdd eval loop\n",
      "random_state\n",
      "0\n",
      "pool opened\n",
      "entered ucdd eval loop\n",
      "random_state\n",
      "100\n",
      "pool opened\n",
      "fpr s.e. 0.0\n",
      "latency s.e. 0.08838834764831843\n",
      "entered ucdd eval loop\n",
      "random_state\n",
      "200\n",
      "pool opened\n",
      "fpr s.e. 0.0\n",
      "latency s.e. 0.06804138174397717\n",
      "entered ucdd eval loop\n",
      "random_state\n",
      "300\n",
      "pool opened\n",
      "fpr s.e. 0.0\n",
      "latency s.e. 0.05412658773652741\n",
      "entered ucdd eval loop\n",
      "random_state\n",
      "400\n",
      "pool opened\n",
      "fpr s.e. 0.0\n",
      "latency s.e. 0.04472135954999579\n",
      "final fpr mean 0.0\n",
      "final latency mean 0.7\n",
      "entered ucdd eval\n",
      "entered ucdd eval loop\n",
      "random_state\n",
      "0\n",
      "pool opened\n",
      "entered ucdd eval loop\n",
      "random_state\n",
      "100\n",
      "pool opened\n",
      "fpr s.e. 0.0\n",
      "latency s.e. 0.0\n",
      "final fpr mean 0.0\n",
      "final latency mean 0.75\n",
      "entered ucdd eval\n",
      "entered ucdd eval loop\n",
      "random_state\n",
      "0\n",
      "pool opened\n",
      "entered ucdd eval loop\n",
      "random_state\n",
      "100\n",
      "pool opened\n",
      "fpr s.e. 0.0\n",
      "latency s.e. 0.0\n",
      "final fpr mean 0.0\n",
      "final latency mean 0.75\n",
      "entered ucdd eval\n",
      "entered ucdd eval loop\n",
      "random_state\n",
      "0\n",
      "pool opened\n",
      "entered ucdd eval loop\n",
      "random_state\n",
      "100\n",
      "pool opened\n",
      "fpr s.e. 0.0\n",
      "latency s.e. 0.0\n",
      "final fpr mean 0.0\n",
      "final latency mean 0.5\n",
      "entered ucdd eval\n",
      "entered ucdd eval loop\n",
      "random_state\n",
      "0\n",
      "pool opened\n",
      "entered ucdd eval loop\n",
      "random_state\n",
      "100\n",
      "pool opened\n",
      "fpr s.e. 0.0\n",
      "latency s.e. 0.0\n",
      "final fpr mean 0.0\n",
      "final latency mean 1.0\n",
      "entered ucdd eval\n",
      "entered ucdd eval loop\n",
      "random_state\n",
      "0\n",
      "pool opened\n",
      "entered ucdd eval loop\n",
      "random_state\n",
      "100\n",
      "pool opened\n",
      "fpr s.e. 0.0\n",
      "latency s.e. 0.0\n",
      "final fpr mean 0.0\n",
      "final latency mean 0.75\n",
      "SEA STATS\n",
      "{'../Datasets_concept_drift/synthetic_data/abrupt_drift/sea_1_abrupt_drift_0_noise_balanced.arff': {'runs_results_bool': [[False, False, False, False, True, True, True], [False, False, False, False, False, True, True], [False, False, False, False, False, True, True], [False, False, False, False, False, True, True], [False, False, False, False, False, True, True]], 'all_2d_drifts': [array([[False,  True, False,  True,  True,  True,  True],\n",
      "       [False, False,  True,  True,  True,  True,  True],\n",
      "       [False, False,  True, False,  True,  True,  True]]), array([[False,  True, False,  True, False,  True,  True],\n",
      "       [False, False,  True,  True,  True,  True,  True],\n",
      "       [False, False, False, False,  True,  True,  True]]), array([[False,  True, False,  True, False,  True,  True],\n",
      "       [False, False,  True,  True,  True,  True,  True],\n",
      "       [False, False, False, False,  True,  True,  True]]), array([[False,  True, False,  True, False,  True,  True],\n",
      "       [False, False,  True,  True,  True,  True,  True],\n",
      "       [False, False,  True, False,  True,  True,  True]]), array([[False,  True, False,  True, False,  True,  True],\n",
      "       [False, False,  True,  True,  True,  True,  True],\n",
      "       [False, False, False, False,  True,  True,  True]])], 'all_2d_cluster_classif_accs': [array([[0.8166 , 0.8074 , 0.8072 , 0.7793 , 0.78495, 0.7925 , 0.78345],\n",
      "       [0.8179 , 0.804  , 0.8075 , 0.7819 , 0.78805, 0.7933 , 0.7785 ],\n",
      "       [0.81595, 0.81   , 0.8057 , 0.7668 , 0.78385, 0.78255, 0.7696 ]]), array([[0.8166 , 0.8074 , 0.8072 , 0.7793 , 0.7852 , 0.7925 , 0.78345],\n",
      "       [0.8179 , 0.8044 , 0.8075 , 0.78165, 0.78805, 0.7933 , 0.7785 ],\n",
      "       [0.81595, 0.8102 , 0.80575, 0.7668 , 0.78385, 0.7827 , 0.7696 ]]), array([[0.81625, 0.8074 , 0.8072 , 0.77925, 0.78515, 0.7925 , 0.78345],\n",
      "       [0.8179 , 0.8045 , 0.8075 , 0.78165, 0.78805, 0.7933 , 0.7785 ],\n",
      "       [0.81595, 0.81025, 0.80575, 0.7668 , 0.78385, 0.7828 , 0.7696 ]]), array([[0.8166 , 0.80885, 0.8072 , 0.77925, 0.7852 , 0.7925 , 0.78345],\n",
      "       [0.8179 , 0.80405, 0.8075 , 0.78165, 0.78805, 0.7933 , 0.77865],\n",
      "       [0.81595, 0.81   , 0.8057 , 0.76695, 0.78385, 0.7827 , 0.7696 ]]), array([[0.8166 , 0.8074 , 0.8072 , 0.77925, 0.7852 , 0.7925 , 0.78345],\n",
      "       [0.8179 , 0.80405, 0.8075 , 0.78175, 0.78805, 0.7942 , 0.77865],\n",
      "       [0.81595, 0.8101 , 0.80575, 0.7668 , 0.78385, 0.78255, 0.7696 ]])], 'final_fpr_mean': 0.0, 'fpr_std_err': 0.0, 'final_latency_mean': 0.7, 'latency_std_err': 0.04472135954999579}, '../Datasets_concept_drift/synthetic_data/gradual_drift/sea_1_gradual_drift_0_noise_balanced_05.arff': {'runs_results_bool': [[False, False, False, False, False, True, True], [False, False, False, False, False, True, True]], 'all_2d_drifts': [array([[False,  True, False,  True, False,  True,  True],\n",
      "       [False, False,  True,  True,  True,  True,  True],\n",
      "       [False, False, False, False,  True,  True,  True]]), array([[False,  True, False,  True, False,  True,  True],\n",
      "       [False, False,  True,  True,  True,  True,  True],\n",
      "       [False, False, False, False,  True,  True,  True]])], 'all_2d_cluster_classif_accs': [array([[0.8166 , 0.8074 , 0.8072 , 0.7793 , 0.78525, 0.7925 , 0.78345],\n",
      "       [0.8179 , 0.804  , 0.8075 , 0.7818 , 0.7881 , 0.79325, 0.7785 ],\n",
      "       [0.81595, 0.81   , 0.8057 , 0.76685, 0.7838 , 0.78255, 0.7696 ]]), array([[0.8166 , 0.8074 , 0.8072 , 0.7793 , 0.78535, 0.7925 , 0.7837 ],\n",
      "       [0.8179 , 0.8044 , 0.8075 , 0.7819 , 0.7881 , 0.79415, 0.77855],\n",
      "       [0.81595, 0.8102 , 0.8057 , 0.76685, 0.7838 , 0.78255, 0.7696 ]])], 'final_fpr_mean': 0.0, 'fpr_std_err': 0.0, 'final_latency_mean': 0.75, 'latency_std_err': 0.0}, '../Datasets_concept_drift/synthetic_data/gradual_drift/sea_1_gradual_drift_0_noise_balanced_1.arff': {'runs_results_bool': [[False, False, False, False, False, True, False], [False, False, False, False, False, True, False]], 'all_2d_drifts': [array([[False,  True, False,  True, False,  True,  True],\n",
      "       [False, False,  True,  True,  True,  True,  True],\n",
      "       [False, False, False, False,  True,  True, False]]), array([[False,  True, False,  True, False,  True,  True],\n",
      "       [False, False,  True,  True,  True,  True,  True],\n",
      "       [False, False, False, False,  True,  True, False]])], 'all_2d_cluster_classif_accs': [array([[0.8166 , 0.8074 , 0.80705, 0.7792 , 0.7851 , 0.79245, 0.7834 ],\n",
      "       [0.8179 , 0.804  , 0.80745, 0.78175, 0.78805, 0.79435, 0.77845],\n",
      "       [0.81595, 0.81   , 0.8057 , 0.76685, 0.78375, 0.7827 , 0.7695 ]]), array([[0.8166 , 0.8074 , 0.80715, 0.7792 , 0.7851 , 0.79245, 0.7834 ],\n",
      "       [0.8179 , 0.8044 , 0.80745, 0.7817 , 0.78805, 0.7936 , 0.77845],\n",
      "       [0.81595, 0.8102 , 0.8057 , 0.76685, 0.78375, 0.7825 , 0.7695 ]])], 'final_fpr_mean': 0.0, 'fpr_std_err': 0.0, 'final_latency_mean': 0.75, 'latency_std_err': 0.0}, '../Datasets_concept_drift/synthetic_data/gradual_drift/sea_1_gradual_drift_0_noise_balanced_5.arff': {'runs_results_bool': [[False, False, False, False, True, True, False], [False, False, False, False, True, True, False]], 'all_2d_drifts': [array([[False,  True, False,  True,  True,  True,  True],\n",
      "       [False, False,  True,  True,  True,  True,  True],\n",
      "       [False, False,  True, False,  True,  True, False]]), array([[False,  True, False,  True,  True,  True,  True],\n",
      "       [False, False,  True,  True,  True,  True,  True],\n",
      "       [False, False,  True, False,  True,  True, False]])], 'all_2d_cluster_classif_accs': [array([[0.8166 , 0.8073 , 0.80725, 0.77965, 0.7853 , 0.79245, 0.7834 ],\n",
      "       [0.8179 , 0.8038 , 0.8078 , 0.7818 , 0.78815, 0.7943 , 0.77805],\n",
      "       [0.81595, 0.81   , 0.8059 , 0.76675, 0.78385, 0.7825 , 0.76945]]), array([[0.8166 , 0.8073 , 0.80725, 0.77965, 0.78505, 0.79245, 0.7834 ],\n",
      "       [0.8179 , 0.8038 , 0.8078 , 0.7818 , 0.78815, 0.79435, 0.77805],\n",
      "       [0.81595, 0.80945, 0.8059 , 0.76675, 0.78385, 0.7825 , 0.76945]])], 'final_fpr_mean': 0.0, 'fpr_std_err': 0.0, 'final_latency_mean': 0.5, 'latency_std_err': 0.0}, '../Datasets_concept_drift/synthetic_data/gradual_drift/sea_1_gradual_drift_0_noise_balanced_10.arff': {'runs_results_bool': [[False, False, False, False, False, False, False], [False, False, False, False, False, False, False]], 'all_2d_drifts': [array([[False, False, False,  True, False, False,  True],\n",
      "       [False, False, False, False,  True,  True,  True],\n",
      "       [False, False, False,  True,  True,  True, False]]), array([[False, False, False,  True, False, False,  True],\n",
      "       [False, False, False, False,  True,  True,  True],\n",
      "       [False, False, False,  True,  True,  True, False]])], 'all_2d_cluster_classif_accs': [array([[0.8167 , 0.8084 , 0.8079 , 0.7867 , 0.7843 , 0.79005, 0.78735],\n",
      "       [0.818  , 0.804  , 0.81   , 0.78785, 0.7859 , 0.79275, 0.7849 ],\n",
      "       [0.816  , 0.8101 , 0.8202 , 0.77595, 0.78355, 0.79045, 0.7775 ]]), array([[0.8167 , 0.807  , 0.8079 , 0.7867 , 0.7843 , 0.79005, 0.78735],\n",
      "       [0.818  , 0.80385, 0.81   , 0.78785, 0.7859 , 0.79275, 0.78475],\n",
      "       [0.816  , 0.81005, 0.8202 , 0.7759 , 0.78355, 0.79045, 0.7775 ]])], 'final_fpr_mean': 0.0, 'fpr_std_err': 0.0, 'final_latency_mean': 1.0, 'latency_std_err': 0.0}, '../Datasets_concept_drift/synthetic_data/gradual_drift/sea_1_gradual_drift_0_noise_balanced_20.arff': {'runs_results_bool': [[False, False, False, False, False, True, True], [False, False, False, False, False, True, True]], 'all_2d_drifts': [array([[False, False, False, False,  True,  True,  True],\n",
      "       [False, False, False,  True, False,  True,  True],\n",
      "       [False, False, False, False, False,  True,  True]]), array([[False, False, False, False,  True,  True,  True],\n",
      "       [False, False, False,  True, False,  True,  True],\n",
      "       [False, False, False, False, False,  True,  True]])], 'all_2d_cluster_classif_accs': [array([[0.8165 , 0.80425, 0.8213 , 0.80425, 0.7853 , 0.78585, 0.7926 ],\n",
      "       [0.81805, 0.8032 , 0.8114 , 0.80465, 0.78675, 0.78805, 0.79445],\n",
      "       [0.81615, 0.81025, 0.8196 , 0.7961 , 0.77395, 0.7845 , 0.78445]]), array([[0.8164 , 0.80665, 0.8213 , 0.80425, 0.7853 , 0.78575, 0.7926 ],\n",
      "       [0.8181 , 0.8032 , 0.8115 , 0.80465, 0.78675, 0.78805, 0.7944 ],\n",
      "       [0.8161 , 0.8103 , 0.8196 , 0.7961 , 0.77395, 0.7845 , 0.7849 ]])], 'final_fpr_mean': 0.0, 'fpr_std_err': 0.0, 'final_latency_mean': 0.75, 'latency_std_err': 0.0}}\n"
     ]
    }
   ],
   "source": [
    "from core import ucdd_eval\n",
    "from core import ucdd\n",
    "import importlib\n",
    "importlib.reload(ucdd)\n",
    "importlib.reload(ucdd_eval)\n",
    "\n",
    "\n",
    "sea_stats = {}\n",
    "for sea_path in all_sea_data_paths:\n",
    "    runs_results_bool, all_2d_drifts, all_2d_cluster_classif_accs,\\\n",
    "    final_fpr_mean, fpr_std_err, final_latency_mean, latency_std_err = \\\n",
    "        ucdd_eval.all_drifting_batches_randomness_robust(\n",
    "        sea_reference_batches[sea_path],\n",
    "        sea_testing_batches[sea_path],\n",
    "        min_ref_batches_drift=0.9,\n",
    "        additional_check=True,\n",
    "        n_init=100,\n",
    "        max_iter=77000,\n",
    "        tol=0,\n",
    "        true_drift_idx=2,\n",
    "        min_runs=2,\n",
    "        reference_label_batches=sea_reference_label_batches[sea_path],\n",
    "        testing_label_batches=sea_testing_label_batches[sea_path]\n",
    "    )\n",
    "    sea_stats[sea_path] = {\n",
    "        'runs_results_bool': runs_results_bool,\n",
    "        'all_2d_drifts': all_2d_drifts,\n",
    "        'all_2d_cluster_classif_accs': all_2d_cluster_classif_accs,\n",
    "        'final_fpr_mean': final_fpr_mean,\n",
    "        'fpr_std_err': fpr_std_err,\n",
    "        'final_latency_mean': final_latency_mean,\n",
    "        'latency_std_err': latency_std_err\n",
    "    }\n",
    "\n",
    "print('SEA STATS')\n",
    "print(sea_stats)"
   ]
  },
  {
   "cell_type": "code",
   "execution_count": 13,
   "outputs": [
    {
     "name": "stdout",
     "output_type": "stream",
     "text": [
      "stats read\n",
      "{'../Datasets_concept_drift/synthetic_data/abrupt_drift/sea_1_abrupt_drift_0_noise_balanced.arff': {'runs_results_bool': [[False, True, True, True, True, True, True], [False, True, True, True, True, True, True]], 'all_2d_drifts': [array([[False,  True, False,  True,  True,  True,  True],\n",
      "       [False, False,  True,  True,  True,  True,  True],\n",
      "       [False, False,  True, False,  True,  True,  True]]), array([[False,  True, False,  True, False,  True,  True],\n",
      "       [False, False,  True,  True,  True,  True,  True],\n",
      "       [False, False, False, False,  True,  True,  True]])], 'all_2d_cluster_classif_accs': [array([[0.8166 , 0.8074 , 0.8072 , 0.7793 , 0.78495, 0.7925 , 0.78345],\n",
      "       [0.8179 , 0.804  , 0.8075 , 0.7819 , 0.78805, 0.7933 , 0.7785 ],\n",
      "       [0.81595, 0.81   , 0.8057 , 0.7668 , 0.78385, 0.78255, 0.7696 ]]), array([[0.8166 , 0.8074 , 0.8072 , 0.7793 , 0.7852 , 0.7925 , 0.78345],\n",
      "       [0.8179 , 0.8044 , 0.8075 , 0.78165, 0.78805, 0.7933 , 0.7785 ],\n",
      "       [0.81595, 0.8102 , 0.80575, 0.7668 , 0.78385, 0.7827 , 0.7696 ]])], 'final_fpr_mean': 0.5, 'fpr_std_err': 0.0, 'final_latency_mean': 0.0, 'latency_std_err': 0.0}, '../Datasets_concept_drift/synthetic_data/gradual_drift/sea_1_gradual_drift_0_noise_balanced_05.arff': {'runs_results_bool': [[False, True, True, True, True, True, True], [False, True, True, True, True, True, True]], 'all_2d_drifts': [array([[False,  True, False,  True, False,  True,  True],\n",
      "       [False, False,  True,  True,  True,  True,  True],\n",
      "       [False, False, False, False,  True,  True,  True]]), array([[False,  True, False,  True, False,  True,  True],\n",
      "       [False, False,  True,  True,  True,  True,  True],\n",
      "       [False, False, False, False,  True,  True,  True]])], 'all_2d_cluster_classif_accs': [array([[0.8166 , 0.8074 , 0.8072 , 0.7793 , 0.78525, 0.7925 , 0.78345],\n",
      "       [0.8179 , 0.804  , 0.8075 , 0.7818 , 0.7881 , 0.79325, 0.7785 ],\n",
      "       [0.81595, 0.81   , 0.8057 , 0.76685, 0.7838 , 0.78255, 0.7696 ]]), array([[0.8166 , 0.8074 , 0.8072 , 0.7793 , 0.78535, 0.7925 , 0.7837 ],\n",
      "       [0.8179 , 0.8044 , 0.8075 , 0.7819 , 0.7881 , 0.79415, 0.77855],\n",
      "       [0.81595, 0.8102 , 0.8057 , 0.76685, 0.7838 , 0.78255, 0.7696 ]])], 'final_fpr_mean': 0.5, 'fpr_std_err': 0.0, 'final_latency_mean': 0.0, 'latency_std_err': 0.0}, '../Datasets_concept_drift/synthetic_data/gradual_drift/sea_1_gradual_drift_0_noise_balanced_1.arff': {'runs_results_bool': [[False, True, True, True, True, True, True], [False, True, True, True, True, True, True]], 'all_2d_drifts': [array([[False,  True, False,  True, False,  True,  True],\n",
      "       [False, False,  True,  True,  True,  True,  True],\n",
      "       [False, False, False, False,  True,  True, False]]), array([[False,  True, False,  True, False,  True,  True],\n",
      "       [False, False,  True,  True,  True,  True,  True],\n",
      "       [False, False, False, False,  True,  True, False]])], 'all_2d_cluster_classif_accs': [array([[0.8166 , 0.8074 , 0.80705, 0.7792 , 0.7851 , 0.79245, 0.7834 ],\n",
      "       [0.8179 , 0.804  , 0.80745, 0.78175, 0.78805, 0.79435, 0.77845],\n",
      "       [0.81595, 0.81   , 0.8057 , 0.76685, 0.78375, 0.7827 , 0.7695 ]]), array([[0.8166 , 0.8074 , 0.80715, 0.7792 , 0.7851 , 0.79245, 0.7834 ],\n",
      "       [0.8179 , 0.8044 , 0.80745, 0.7817 , 0.78805, 0.7936 , 0.77845],\n",
      "       [0.81595, 0.8102 , 0.8057 , 0.76685, 0.78375, 0.7825 , 0.7695 ]])], 'final_fpr_mean': 0.5, 'fpr_std_err': 0.0, 'final_latency_mean': 0.0, 'latency_std_err': 0.0}, '../Datasets_concept_drift/synthetic_data/gradual_drift/sea_1_gradual_drift_0_noise_balanced_5.arff': {'runs_results_bool': [[False, True, True, True, True, True, True], [False, True, True, True, True, True, True]], 'all_2d_drifts': [array([[False,  True, False,  True,  True,  True,  True],\n",
      "       [False, False,  True,  True,  True,  True,  True],\n",
      "       [False, False,  True, False,  True,  True, False]]), array([[False,  True, False,  True,  True,  True,  True],\n",
      "       [False, False,  True,  True,  True,  True,  True],\n",
      "       [False, False,  True, False,  True,  True, False]])], 'all_2d_cluster_classif_accs': [array([[0.8166 , 0.8073 , 0.80725, 0.77965, 0.7853 , 0.79245, 0.7834 ],\n",
      "       [0.8179 , 0.8038 , 0.8078 , 0.7818 , 0.78815, 0.7943 , 0.77805],\n",
      "       [0.81595, 0.81   , 0.8059 , 0.76675, 0.78385, 0.7825 , 0.76945]]), array([[0.8166 , 0.8073 , 0.80725, 0.77965, 0.78505, 0.79245, 0.7834 ],\n",
      "       [0.8179 , 0.8038 , 0.8078 , 0.7818 , 0.78815, 0.79435, 0.77805],\n",
      "       [0.81595, 0.80945, 0.8059 , 0.76675, 0.78385, 0.7825 , 0.76945]])], 'final_fpr_mean': 0.5, 'fpr_std_err': 0.0, 'final_latency_mean': 0.0, 'latency_std_err': 0.0}, '../Datasets_concept_drift/synthetic_data/gradual_drift/sea_1_gradual_drift_0_noise_balanced_10.arff': {'runs_results_bool': [[False, False, False, True, True, True, True], [False, False, False, True, True, True, True]], 'all_2d_drifts': [array([[False, False, False,  True, False, False,  True],\n",
      "       [False, False, False, False,  True,  True,  True],\n",
      "       [False, False, False,  True,  True,  True, False]]), array([[False, False, False,  True, False, False,  True],\n",
      "       [False, False, False, False,  True,  True,  True],\n",
      "       [False, False, False,  True,  True,  True, False]])], 'all_2d_cluster_classif_accs': [array([[0.8167 , 0.8084 , 0.8079 , 0.7867 , 0.7843 , 0.79005, 0.78735],\n",
      "       [0.818  , 0.804  , 0.81   , 0.78785, 0.7859 , 0.79275, 0.7849 ],\n",
      "       [0.816  , 0.8101 , 0.8202 , 0.77595, 0.78355, 0.79045, 0.7775 ]]), array([[0.8167 , 0.807  , 0.8079 , 0.7867 , 0.7843 , 0.79005, 0.78735],\n",
      "       [0.818  , 0.80385, 0.81   , 0.78785, 0.7859 , 0.79275, 0.78475],\n",
      "       [0.816  , 0.81005, 0.8202 , 0.7759 , 0.78355, 0.79045, 0.7775 ]])], 'final_fpr_mean': 0.0, 'fpr_std_err': 0.0, 'final_latency_mean': 0.25, 'latency_std_err': 0.0}, '../Datasets_concept_drift/synthetic_data/gradual_drift/sea_1_gradual_drift_0_noise_balanced_20.arff': {'runs_results_bool': [[False, False, False, True, True, True, True], [False, False, False, True, True, True, True]], 'all_2d_drifts': [array([[False, False, False, False,  True,  True,  True],\n",
      "       [False, False, False,  True, False,  True,  True],\n",
      "       [False, False, False, False, False,  True,  True]]), array([[False, False, False, False,  True,  True,  True],\n",
      "       [False, False, False,  True, False,  True,  True],\n",
      "       [False, False, False, False, False,  True,  True]])], 'all_2d_cluster_classif_accs': [array([[0.8165 , 0.80425, 0.8213 , 0.80425, 0.7853 , 0.78585, 0.7926 ],\n",
      "       [0.81805, 0.8032 , 0.8114 , 0.80465, 0.78675, 0.78805, 0.79445],\n",
      "       [0.81615, 0.81025, 0.8196 , 0.7961 , 0.77395, 0.7845 , 0.78445]]), array([[0.8164 , 0.80665, 0.8213 , 0.80425, 0.7853 , 0.78575, 0.7926 ],\n",
      "       [0.8181 , 0.8032 , 0.8115 , 0.80465, 0.78675, 0.78805, 0.7944 ],\n",
      "       [0.8161 , 0.8103 , 0.8196 , 0.7961 , 0.77395, 0.7845 , 0.7849 ]])], 'final_fpr_mean': 0.0, 'fpr_std_err': 0.0, 'final_latency_mean': 0.25, 'latency_std_err': 0.0}}\n",
      "stats read item()\n",
      "{'../Datasets_concept_drift/synthetic_data/abrupt_drift/sea_1_abrupt_drift_0_noise_balanced.arff': {'runs_results_bool': [[False, True, True, True, True, True, True], [False, True, True, True, True, True, True]], 'all_2d_drifts': [array([[False,  True, False,  True,  True,  True,  True],\n",
      "       [False, False,  True,  True,  True,  True,  True],\n",
      "       [False, False,  True, False,  True,  True,  True]]), array([[False,  True, False,  True, False,  True,  True],\n",
      "       [False, False,  True,  True,  True,  True,  True],\n",
      "       [False, False, False, False,  True,  True,  True]])], 'all_2d_cluster_classif_accs': [array([[0.8166 , 0.8074 , 0.8072 , 0.7793 , 0.78495, 0.7925 , 0.78345],\n",
      "       [0.8179 , 0.804  , 0.8075 , 0.7819 , 0.78805, 0.7933 , 0.7785 ],\n",
      "       [0.81595, 0.81   , 0.8057 , 0.7668 , 0.78385, 0.78255, 0.7696 ]]), array([[0.8166 , 0.8074 , 0.8072 , 0.7793 , 0.7852 , 0.7925 , 0.78345],\n",
      "       [0.8179 , 0.8044 , 0.8075 , 0.78165, 0.78805, 0.7933 , 0.7785 ],\n",
      "       [0.81595, 0.8102 , 0.80575, 0.7668 , 0.78385, 0.7827 , 0.7696 ]])], 'final_fpr_mean': 0.5, 'fpr_std_err': 0.0, 'final_latency_mean': 0.0, 'latency_std_err': 0.0}, '../Datasets_concept_drift/synthetic_data/gradual_drift/sea_1_gradual_drift_0_noise_balanced_05.arff': {'runs_results_bool': [[False, True, True, True, True, True, True], [False, True, True, True, True, True, True]], 'all_2d_drifts': [array([[False,  True, False,  True, False,  True,  True],\n",
      "       [False, False,  True,  True,  True,  True,  True],\n",
      "       [False, False, False, False,  True,  True,  True]]), array([[False,  True, False,  True, False,  True,  True],\n",
      "       [False, False,  True,  True,  True,  True,  True],\n",
      "       [False, False, False, False,  True,  True,  True]])], 'all_2d_cluster_classif_accs': [array([[0.8166 , 0.8074 , 0.8072 , 0.7793 , 0.78525, 0.7925 , 0.78345],\n",
      "       [0.8179 , 0.804  , 0.8075 , 0.7818 , 0.7881 , 0.79325, 0.7785 ],\n",
      "       [0.81595, 0.81   , 0.8057 , 0.76685, 0.7838 , 0.78255, 0.7696 ]]), array([[0.8166 , 0.8074 , 0.8072 , 0.7793 , 0.78535, 0.7925 , 0.7837 ],\n",
      "       [0.8179 , 0.8044 , 0.8075 , 0.7819 , 0.7881 , 0.79415, 0.77855],\n",
      "       [0.81595, 0.8102 , 0.8057 , 0.76685, 0.7838 , 0.78255, 0.7696 ]])], 'final_fpr_mean': 0.5, 'fpr_std_err': 0.0, 'final_latency_mean': 0.0, 'latency_std_err': 0.0}, '../Datasets_concept_drift/synthetic_data/gradual_drift/sea_1_gradual_drift_0_noise_balanced_1.arff': {'runs_results_bool': [[False, True, True, True, True, True, True], [False, True, True, True, True, True, True]], 'all_2d_drifts': [array([[False,  True, False,  True, False,  True,  True],\n",
      "       [False, False,  True,  True,  True,  True,  True],\n",
      "       [False, False, False, False,  True,  True, False]]), array([[False,  True, False,  True, False,  True,  True],\n",
      "       [False, False,  True,  True,  True,  True,  True],\n",
      "       [False, False, False, False,  True,  True, False]])], 'all_2d_cluster_classif_accs': [array([[0.8166 , 0.8074 , 0.80705, 0.7792 , 0.7851 , 0.79245, 0.7834 ],\n",
      "       [0.8179 , 0.804  , 0.80745, 0.78175, 0.78805, 0.79435, 0.77845],\n",
      "       [0.81595, 0.81   , 0.8057 , 0.76685, 0.78375, 0.7827 , 0.7695 ]]), array([[0.8166 , 0.8074 , 0.80715, 0.7792 , 0.7851 , 0.79245, 0.7834 ],\n",
      "       [0.8179 , 0.8044 , 0.80745, 0.7817 , 0.78805, 0.7936 , 0.77845],\n",
      "       [0.81595, 0.8102 , 0.8057 , 0.76685, 0.78375, 0.7825 , 0.7695 ]])], 'final_fpr_mean': 0.5, 'fpr_std_err': 0.0, 'final_latency_mean': 0.0, 'latency_std_err': 0.0}, '../Datasets_concept_drift/synthetic_data/gradual_drift/sea_1_gradual_drift_0_noise_balanced_5.arff': {'runs_results_bool': [[False, True, True, True, True, True, True], [False, True, True, True, True, True, True]], 'all_2d_drifts': [array([[False,  True, False,  True,  True,  True,  True],\n",
      "       [False, False,  True,  True,  True,  True,  True],\n",
      "       [False, False,  True, False,  True,  True, False]]), array([[False,  True, False,  True,  True,  True,  True],\n",
      "       [False, False,  True,  True,  True,  True,  True],\n",
      "       [False, False,  True, False,  True,  True, False]])], 'all_2d_cluster_classif_accs': [array([[0.8166 , 0.8073 , 0.80725, 0.77965, 0.7853 , 0.79245, 0.7834 ],\n",
      "       [0.8179 , 0.8038 , 0.8078 , 0.7818 , 0.78815, 0.7943 , 0.77805],\n",
      "       [0.81595, 0.81   , 0.8059 , 0.76675, 0.78385, 0.7825 , 0.76945]]), array([[0.8166 , 0.8073 , 0.80725, 0.77965, 0.78505, 0.79245, 0.7834 ],\n",
      "       [0.8179 , 0.8038 , 0.8078 , 0.7818 , 0.78815, 0.79435, 0.77805],\n",
      "       [0.81595, 0.80945, 0.8059 , 0.76675, 0.78385, 0.7825 , 0.76945]])], 'final_fpr_mean': 0.5, 'fpr_std_err': 0.0, 'final_latency_mean': 0.0, 'latency_std_err': 0.0}, '../Datasets_concept_drift/synthetic_data/gradual_drift/sea_1_gradual_drift_0_noise_balanced_10.arff': {'runs_results_bool': [[False, False, False, True, True, True, True], [False, False, False, True, True, True, True]], 'all_2d_drifts': [array([[False, False, False,  True, False, False,  True],\n",
      "       [False, False, False, False,  True,  True,  True],\n",
      "       [False, False, False,  True,  True,  True, False]]), array([[False, False, False,  True, False, False,  True],\n",
      "       [False, False, False, False,  True,  True,  True],\n",
      "       [False, False, False,  True,  True,  True, False]])], 'all_2d_cluster_classif_accs': [array([[0.8167 , 0.8084 , 0.8079 , 0.7867 , 0.7843 , 0.79005, 0.78735],\n",
      "       [0.818  , 0.804  , 0.81   , 0.78785, 0.7859 , 0.79275, 0.7849 ],\n",
      "       [0.816  , 0.8101 , 0.8202 , 0.77595, 0.78355, 0.79045, 0.7775 ]]), array([[0.8167 , 0.807  , 0.8079 , 0.7867 , 0.7843 , 0.79005, 0.78735],\n",
      "       [0.818  , 0.80385, 0.81   , 0.78785, 0.7859 , 0.79275, 0.78475],\n",
      "       [0.816  , 0.81005, 0.8202 , 0.7759 , 0.78355, 0.79045, 0.7775 ]])], 'final_fpr_mean': 0.0, 'fpr_std_err': 0.0, 'final_latency_mean': 0.25, 'latency_std_err': 0.0}, '../Datasets_concept_drift/synthetic_data/gradual_drift/sea_1_gradual_drift_0_noise_balanced_20.arff': {'runs_results_bool': [[False, False, False, True, True, True, True], [False, False, False, True, True, True, True]], 'all_2d_drifts': [array([[False, False, False, False,  True,  True,  True],\n",
      "       [False, False, False,  True, False,  True,  True],\n",
      "       [False, False, False, False, False,  True,  True]]), array([[False, False, False, False,  True,  True,  True],\n",
      "       [False, False, False,  True, False,  True,  True],\n",
      "       [False, False, False, False, False,  True,  True]])], 'all_2d_cluster_classif_accs': [array([[0.8165 , 0.80425, 0.8213 , 0.80425, 0.7853 , 0.78585, 0.7926 ],\n",
      "       [0.81805, 0.8032 , 0.8114 , 0.80465, 0.78675, 0.78805, 0.79445],\n",
      "       [0.81615, 0.81025, 0.8196 , 0.7961 , 0.77395, 0.7845 , 0.78445]]), array([[0.8164 , 0.80665, 0.8213 , 0.80425, 0.7853 , 0.78575, 0.7926 ],\n",
      "       [0.8181 , 0.8032 , 0.8115 , 0.80465, 0.78675, 0.78805, 0.7944 ],\n",
      "       [0.8161 , 0.8103 , 0.8196 , 0.7961 , 0.77395, 0.7845 , 0.7849 ]])], 'final_fpr_mean': 0.0, 'fpr_std_err': 0.0, 'final_latency_mean': 0.25, 'latency_std_err': 0.0}}\n",
      "[[False  True False  True  True  True  True]\n",
      " [False False  True  True  True  True  True]\n",
      " [False False  True False  True  True  True]]\n",
      "0.7941428571428572\n"
     ]
    }
   ],
   "source": [
    "# np.save('stats.npy', sea_stats)\n",
    "stats_read = np.load('sea_stats_all_widths.npy', allow_pickle=True)\n",
    "print('stats read')\n",
    "print(stats_read)\n",
    "print('stats read item()')\n",
    "print(stats_read.item())\n",
    "\n",
    "print(stats_read.item()[all_sea_data_paths[0]]['all_2d_drifts'][0])\n",
    "print(np.mean(stats_read.item()[all_sea_data_paths[0]]['all_2d_cluster_classif_accs'][0]))\n",
    "# print(stats_read.item()[all_sea_data_paths[0]]['all_2d_cluster_classif_accs'][0])"
   ],
   "metadata": {
    "collapsed": false,
    "pycharm": {
     "name": "#%%\n"
    }
   }
  },
  {
   "cell_type": "code",
   "execution_count": null,
   "metadata": {},
   "outputs": [],
   "source": [
    "from eval_helpers import helpers\n",
    "\n",
    "\n",
    "final_result_dict = {\n",
    "    'type_of_data': [], 'dataset': [], 'drift': [], 'width': [], 'encoding': [],\n",
    "    'min_ref_batches_drift': [], 'additional_check': [],\n",
    "    'n_init': [], 'max_iter': [], 'tol': [],\n",
    "    'FPR_mean': [], 'latency_mean': []\n",
    "}\n",
    "\n",
    "for data_path, stats_dict in sea_stats.items():\n",
    "#     data_filename = data_path.split('/')[-1]\n",
    "#     type_of_data = data_path.split('/')[2].split('_')[0]  # synthetic or real-world\n",
    "#     dataset_name = data_filename.split('_')[0]  # sea, agraw1, agraw2\n",
    "#     drift_type = data_path.split('/')[3].split('_')[0]\n",
    "#     drift_width = '0' if drift_type == 'abrupt' else data_filename.split('_')[-1].split('.')[0]\n",
    "#     drift_width = 0.5 if drift_width == '05' else float(drift_width)\n",
    "    synthetic_filename_info = helpers.synthetic_data_information(data_path)\n",
    "    encoding = 'exclude'\n",
    "    fpr_mean = float(stats_dict['final_fpr_mean'])\n",
    "    latency_mean = float(stats_dict['final_latency_mean'])\n",
    "    \n",
    "    final_result_dict['type_of_data'].append(synthetic_filename_info['type_of_data'])\n",
    "    final_result_dict['dataset'].append(synthetic_filename_info['dataset_name'])\n",
    "    final_result_dict['drift'].append(synthetic_filename_info['drift_type'])\n",
    "    final_result_dict['width'].append(synthetic_filename_info['drift_width'])\n",
    "    final_result_dict['encoding'].append(encoding)\n",
    "    final_result_dict['min_ref_batches_drift'].append(0.3)\n",
    "    final_result_dict['additional_check'].append('yes')\n",
    "    final_result_dict['n_init'].append(100)\n",
    "    final_result_dict['max_iter'].append(550)\n",
    "    final_result_dict['tol'].append(0)\n",
    "    final_result_dict['FPR_mean'].append(fpr_mean)\n",
    "    final_result_dict['latency_mean'].append(latency_mean)\n",
    "    \n",
    "final_result_df = pd.DataFrame.from_dict(final_result_dict)\n",
    "sorted_final_result_df = final_result_df.sort_values(['drift', 'dataset', 'encoding', 'width'])\n",
    "final_result_df.to_csv('sea_jupyter_results.csv', index=False)"
   ]
  },
  {
   "cell_type": "markdown",
   "source": [
    "## Inspect clusters to obtain meaning"
   ],
   "metadata": {
    "collapsed": false,
    "pycharm": {
     "name": "#%% md\n"
    }
   }
  },
  {
   "cell_type": "code",
   "execution_count": 62,
   "outputs": [
    {
     "name": "stdout",
     "output_type": "stream",
     "text": [
      "random_state\n",
      "0\n",
      "random_state\n",
      "0\n",
      "pool opened\n",
      "drifts_2d_arr\n",
      "[[False  True False  True  True  True  True]\n",
      " [False False  True  True  True  True  True]\n",
      " [False False  True False  True  True  True]]\n"
     ]
    },
    {
     "data": {
      "text/plain": "[False, True, True, True, True, True, True]"
     },
     "execution_count": 62,
     "metadata": {},
     "output_type": "execute_result"
    }
   ],
   "source": [
    "from core import ucdd\n",
    "import importlib\n",
    "importlib.reload(ucdd)\n",
    "\n",
    "width_index = 0\n",
    "data_path = all_sea_data_paths[width_index]\n",
    "\n",
    "ucdd.all_drifting_batches_parallel(\n",
    "    sea_reference_batches[data_path],\n",
    "    sea_testing_batches[data_path],\n",
    "    min_ref_batches_drift=0.3,\n",
    "    additional_check=True,\n",
    "    n_init=100,\n",
    "    max_iter=77000,\n",
    "    tol=0,\n",
    "    random_state=0,\n",
    "    reference_label_batches=sea_reference_label_batches[data_path],\n",
    "    testing_label_batches=sea_testing_label_batches[data_path]\n",
    ")"
   ],
   "metadata": {
    "collapsed": false,
    "pycharm": {
     "name": "#%%\n"
    }
   }
  },
  {
   "cell_type": "markdown",
   "metadata": {
    "pycharm": {
     "name": "#%% md\n"
    }
   },
   "source": [
    "# Make plots from the obtained results\n"
   ]
  },
  {
   "cell_type": "code",
   "execution_count": 26,
   "outputs": [
    {
     "name": "stdout",
     "output_type": "stream",
     "text": [
      "[   Unnamed: 0 type_of_data dataset    drift  width encoding  \\\n",
      "0           0    synthetic     sea   abrupt    0.0  exclude   \n",
      "1           1    synthetic     sea  gradual    0.5  exclude   \n",
      "2           2    synthetic     sea  gradual    1.0  exclude   \n",
      "3           3    synthetic     sea  gradual    5.0  exclude   \n",
      "4           4    synthetic     sea  gradual   10.0  exclude   \n",
      "5           5    synthetic     sea  gradual   20.0  exclude   \n",
      "\n",
      "   min_ref_batches_drift additional_check  n_init  max_iter  tol  FPR_mean  \\\n",
      "0                    0.3              yes     100     77000    0       0.5   \n",
      "1                    0.3              yes     100     77000    0       0.5   \n",
      "2                    0.3              yes     100     77000    0       0.5   \n",
      "3                    0.3              yes     100     77000    0       0.5   \n",
      "4                    0.3              yes     100     77000    0       0.0   \n",
      "5                    0.3              yes     100     77000    0       0.0   \n",
      "\n",
      "   latency_mean  \n",
      "0          0.00  \n",
      "1          0.00  \n",
      "2          0.00  \n",
      "3          0.00  \n",
      "4          0.25  \n",
      "5          0.25  ,    Unnamed: 0 type_of_data dataset    drift  width encoding  \\\n",
      "0           0    synthetic     sea   abrupt    0.0  exclude   \n",
      "1           1    synthetic     sea  gradual    0.5  exclude   \n",
      "2           2    synthetic     sea  gradual    1.0  exclude   \n",
      "3           3    synthetic     sea  gradual    5.0  exclude   \n",
      "4           4    synthetic     sea  gradual   10.0  exclude   \n",
      "5           5    synthetic     sea  gradual   20.0  exclude   \n",
      "\n",
      "   min_ref_batches_drift  additional_check  n_init  max_iter  tol  FPR_mean  \\\n",
      "0                    0.6              True     100     77000    0       0.0   \n",
      "1                    0.6              True     100     77000    0       0.0   \n",
      "2                    0.6              True     100     77000    0       0.0   \n",
      "3                    0.6              True     100     77000    0       0.0   \n",
      "4                    0.6              True     100     77000    0       0.0   \n",
      "5                    0.6              True     100     77000    0       0.0   \n",
      "\n",
      "   latency_mean  \n",
      "0      0.166667  \n",
      "1      0.250000  \n",
      "2      0.250000  \n",
      "3      0.000000  \n",
      "4      0.250000  \n",
      "5      0.750000  ,    Unnamed: 0 type_of_data dataset    drift  width encoding  \\\n",
      "0           0    synthetic     sea   abrupt    0.0  exclude   \n",
      "1           1    synthetic     sea  gradual    0.5  exclude   \n",
      "2           2    synthetic     sea  gradual    1.0  exclude   \n",
      "3           3    synthetic     sea  gradual    5.0  exclude   \n",
      "4           4    synthetic     sea  gradual   10.0  exclude   \n",
      "5           5    synthetic     sea  gradual   20.0  exclude   \n",
      "\n",
      "   min_ref_batches_drift additional_check  n_init  max_iter  tol  FPR_mean  \\\n",
      "0                    0.3               no     100     77000    0       0.5   \n",
      "1                    0.3               no     100     77000    0       0.5   \n",
      "2                    0.3               no     100     77000    0       0.5   \n",
      "3                    0.3               no     100     77000    0       0.5   \n",
      "4                    0.3               no     100     77000    0       0.0   \n",
      "5                    0.3               no     100     77000    0       0.0   \n",
      "\n",
      "   latency_mean  \n",
      "0           1.0  \n",
      "1           1.0  \n",
      "2           1.0  \n",
      "3           1.0  \n",
      "4           1.0  \n",
      "5           1.0  ]\n"
     ]
    },
    {
     "data": {
      "text/plain": "<Figure size 640x480 with 1 Axes>",
      "image/png": "[encoded data removed]"
     },
     "metadata": {},
     "output_type": "display_data"
    },
    {
     "data": {
      "text/plain": "<Figure size 640x480 with 1 Axes>",
      "image/png": "[encoded data removed]"
     },
     "metadata": {},
     "output_type": "display_data"
    }
   ],
   "source": [
    "import pandas as pd\n",
    "from matplotlib import pyplot as plt\n",
    "\n",
    "common_path = 'results_after_analysis_jupyter'\n",
    "filenames = [\n",
    "    'sea_jupyter_results.csv',\n",
    "    'sea_jupyter_results_majority.csv',\n",
    "    'sea_jupyter_results_no_check.csv'\n",
    "]\n",
    "all_results = []\n",
    "# all_results = pd.read_csv(common_path + '/' + filenames[0])\n",
    "\n",
    "for filename in filenames:\n",
    "    res = pd.read_csv(common_path + '/' + filename)\n",
    "    all_results.append(res)\n",
    "\n",
    "print(all_results)\n",
    "\n",
    "labels = ['min_ref=0.3, additional check used', 'min_ref=0.6, additional check used',\n",
    "          'min_ref=0.3, additional check unused']\n",
    "linestyles = ['rx-', 'gx-.', 'bx--']\n",
    "\n",
    "for i in range(3):\n",
    "    plt.plot(all_results[i]['width'], all_results[i]['FPR_mean'], linestyles[i], label=labels[i])\n",
    "plt.xlabel('Drift width')\n",
    "plt.ylabel('mean FPR')\n",
    "plt.legend()\n",
    "plt.ylim((0, 1))\n",
    "\n",
    "fig_fpr = plt.gcf()\n",
    "plt.show()\n",
    "fig_fpr.savefig('sea_fprs.png')\n",
    "\n",
    "for i in range(3):\n",
    "    plt.plot(all_results[i]['width'], all_results[i]['latency_mean'], linestyles[i], label=labels[i])\n",
    "plt.xlabel('Drift width')\n",
    "plt.ylabel('mean latency')\n",
    "plt.legend()\n",
    "plt.ylim((0, 1))\n",
    "\n",
    "fig_latency = plt.gcf()\n",
    "plt.show()\n",
    "fig_latency.savefig('sea_latency.png')"
   ],
   "metadata": {
    "collapsed": false,
    "pycharm": {
     "name": "#%%\n"
    }
   }
  },
  {
   "cell_type": "code",
   "execution_count": null,
   "outputs": [],
   "source": [],
   "metadata": {
    "collapsed": false,
    "pycharm": {
     "name": "#%%\n"
    }
   }
  }
 ],
 "metadata": {
  "kernelspec": {
   "display_name": "Python 3 (ipykernel)",
   "language": "python",
   "name": "python3"
  },
  "language_info": {
   "codemirror_mode": {
    "name": "ipython",
    "version": 3
   },
   "file_extension": ".py",
   "mimetype": "text/x-python",
   "name": "python",
   "nbconvert_exporter": "python",
   "pygments_lexer": "ipython3",
   "version": "3.9.10"
  }
 },
 "nbformat": 4,
 "nbformat_minor": 1
}