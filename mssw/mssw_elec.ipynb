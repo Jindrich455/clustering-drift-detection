{
 "cells": [
  {
   "cell_type": "markdown",
   "metadata": {
    "collapsed": true,
    "pycharm": {
     "name": "#%% md\n"
    }
   },
   "source": [
    "# MSSW on ELECT2 evaluation"
   ]
  },
  {
   "cell_type": "markdown",
   "source": [
    "## Accept and preprocess the ELECT2 dataset"
   ],
   "metadata": {
    "collapsed": false
   }
  },
  {
   "cell_type": "code",
   "execution_count": 1,
   "outputs": [],
   "source": [
    "import csv\n",
    "\n",
    "import numpy as np\n",
    "import pandas as pd\n",
    "import seaborn as sb"
   ],
   "metadata": {
    "collapsed": false,
    "pycharm": {
     "name": "#%%\n"
    }
   }
  },
  {
   "cell_type": "code",
   "execution_count": 27,
   "outputs": [
    {
     "name": "stdout",
     "output_type": "stream",
     "text": [
      "   date  day    period  nswprice  nswdemand  vicprice  vicdemand  transfer\n",
      "0   0.0  2.0  0.000000  0.056443   0.439155  0.003467   0.422915  0.414912\n",
      "1   0.0  2.0  0.021277  0.051699   0.415055  0.003467   0.422915  0.414912\n",
      "2   0.0  2.0  0.042553  0.051489   0.385004  0.003467   0.422915  0.414912\n",
      "3   0.0  2.0  0.063830  0.045485   0.314639  0.003467   0.422915  0.414912\n",
      "4   0.0  2.0  0.085106  0.042482   0.251116  0.003467   0.422915  0.414912\n",
      "DTYPES\n",
      "date         float64\n",
      "day          float64\n",
      "period       float64\n",
      "nswprice     float64\n",
      "nswdemand    float64\n",
      "vicprice     float64\n",
      "vicdemand    float64\n",
      "transfer     float64\n",
      "dtype: object\n",
      "# nan values in X 0\n",
      "\n",
      "reference data\n",
      "(15104, 8)\n",
      "[[0.       2.       0.       ... 0.003467 0.422915 0.414912]\n",
      " [0.       2.       0.021277 ... 0.003467 0.422915 0.414912]\n",
      " [0.       2.       0.042553 ... 0.003467 0.422915 0.414912]\n",
      " ...\n",
      " [0.434052 1.       0.617021 ... 0.003467 0.422915 0.414912]\n",
      " [0.434052 1.       0.638298 ... 0.003467 0.422915 0.414912]\n",
      " [0.434052 1.       0.659574 ... 0.003467 0.422915 0.414912]]\n",
      "\n",
      "reference labels\n",
      "(30208,)\n",
      "\n",
      "testing data\n",
      "(30208, 8)\n",
      "[[4.34052e-01 1.00000e+00 6.80851e-01 ... 3.46700e-03 4.22915e-01\n",
      "  4.14912e-01]\n",
      " [4.34052e-01 1.00000e+00 7.02128e-01 ... 3.46700e-03 4.22915e-01\n",
      "  4.14912e-01]\n",
      " [4.34052e-01 1.00000e+00 7.23404e-01 ... 3.46700e-03 4.22915e-01\n",
      "  4.14912e-01]\n",
      " ...\n",
      " [9.15800e-01 7.00000e+00 9.57447e-01 ... 2.98300e-03 2.47799e-01\n",
      "  3.62281e-01]\n",
      " [9.15800e-01 7.00000e+00 9.78723e-01 ... 4.63000e-03 3.45417e-01\n",
      "  2.06579e-01]\n",
      " [9.15800e-01 7.00000e+00 1.00000e+00 ... 3.54200e-03 3.55256e-01\n",
      "  2.31140e-01]]\n",
      "\n",
      "testing labels\n",
      "(15104,)\n"
     ]
    }
   ],
   "source": [
    "from eval_helpers import accepting\n",
    "\n",
    "df = pd.read_csv(\"../Datasets_concept_drift/real_world_data/electricity_dataset.csv\")\n",
    "\n",
    "X = df.drop(columns=['Unnamed: 0', 'label', 'real_date'])\n",
    "y = df[\"label\"]\n",
    "\n",
    "X['day'] = X['day'].apply(lambda x: float(x.split('\\'')[1]))\n",
    "\n",
    "print(X.head())\n",
    "print('DTYPES')\n",
    "print(X.dtypes)\n",
    "# X = float(X)\n",
    "# print(X.head())\n",
    "\n",
    "print('# nan values in X', np.count_nonzero(np.isnan(X)))\n",
    "\n",
    "X_ref = X[:15104]\n",
    "X_test = X[15104:]\n",
    "y_ref = y[:15104]\n",
    "y_test = y[15104:]\n",
    "\n",
    "X_ref = X_ref.to_numpy()\n",
    "X_test = X_test.to_numpy()\n",
    "y_ref = y_ref.to_numpy()\n",
    "y_test = y_test.to_numpy()\n",
    "\n",
    "print('\\nreference data')\n",
    "print(X_ref.shape)\n",
    "print(X_ref)\n",
    "print('\\nreference labels')\n",
    "print(y_ref.shape)\n",
    "print('\\ntesting data')\n",
    "print(X_test.shape)\n",
    "print(X_test)\n",
    "print('\\ntesting labels')\n",
    "print(y_test.shape)"
   ],
   "metadata": {
    "collapsed": false,
    "pycharm": {
     "name": "#%%\n"
    }
   }
  },
  {
   "cell_type": "markdown",
   "source": [
    "## Split the dataset to batches (size=365)"
   ],
   "metadata": {
    "collapsed": false
   }
  },
  {
   "cell_type": "code",
   "execution_count": 28,
   "outputs": [
    {
     "name": "stdout",
     "output_type": "stream",
     "text": [
      "chunk size 365\n",
      "number of chunks 82\n",
      "number of data 30208\n",
      "shape of X that can be split perfectly (29930, 8)\n",
      "number of resulting batches 82\n",
      "[[0.434052 1.       0.680851 ... 0.003467 0.422915 0.414912]\n",
      " [0.434052 1.       0.702128 ... 0.003467 0.422915 0.414912]\n",
      " [0.434052 1.       0.723404 ... 0.003467 0.422915 0.414912]\n",
      " ...\n",
      " [0.434406 2.       0.212766 ... 0.003467 0.422915 0.414912]\n",
      " [0.434406 2.       0.234043 ... 0.003467 0.422915 0.414912]\n",
      " [0.434406 2.       0.255319 ... 0.003467 0.422915 0.414912]]\n",
      "(365, 8)\n",
      "chunk size 365\n",
      "number of chunks 41\n",
      "number of data 15104\n",
      "shape of X that can be split perfectly (14965, 8)\n",
      "number of resulting batches 41\n",
      "[[0.00000e+00 2.00000e+00 0.00000e+00 ... 3.46700e-03 4.22915e-01\n",
      "  4.14912e-01]\n",
      " [0.00000e+00 2.00000e+00 2.12770e-02 ... 3.46700e-03 4.22915e-01\n",
      "  4.14912e-01]\n",
      " [0.00000e+00 2.00000e+00 4.25530e-02 ... 3.46700e-03 4.22915e-01\n",
      "  4.14912e-01]\n",
      " ...\n",
      " [3.10000e-04 2.00000e+00 5.53191e-01 ... 3.46700e-03 4.22915e-01\n",
      "  4.14912e-01]\n",
      " [3.10000e-04 2.00000e+00 5.74468e-01 ... 3.46700e-03 4.22915e-01\n",
      "  4.14912e-01]\n",
      " [3.10000e-04 2.00000e+00 5.95745e-01 ... 3.46700e-03 4.22915e-01\n",
      "  4.14912e-01]]\n",
      "(365, 8)\n",
      "# yearly test batches:\n",
      "82\n",
      "82\n",
      "# yearly ref batches:\n",
      "41\n",
      "41\n"
     ]
    }
   ],
   "source": [
    "from eval_helpers import helpers\n",
    "\n",
    "X_test_batches_year, y_test_batches_year = helpers.split_to_fixed_size_batches(X_test, y_test, batch_size=365)\n",
    "X_ref_batches_year, y_ref_batches_year = helpers.split_to_fixed_size_batches(X_ref, y_ref, batch_size=365)\n",
    "\n",
    "print('# yearly test batches:')\n",
    "print(len(X_test_batches_year))\n",
    "print(len(y_test_batches_year))\n",
    "print('# yearly ref batches:')\n",
    "print(len(X_ref_batches_year))\n",
    "print(len(y_ref_batches_year))"
   ],
   "metadata": {
    "collapsed": false,
    "pycharm": {
     "name": "#%%\n"
    }
   }
  },
  {
   "cell_type": "markdown",
   "source": [
    "## Find suitable KMeans clustering parameters"
   ],
   "metadata": {
    "collapsed": false
   }
  },
  {
   "cell_type": "code",
   "execution_count": 29,
   "outputs": [
    {
     "name": "stdout",
     "output_type": "stream",
     "text": [
      "first few reference data points after scaling\n",
      "[[2.22044605e-11 1.66666667e-01 2.22044605e-11 9.33550125e-02\n",
      "  6.45216941e-01 2.22044605e-11 2.22044605e-11 2.22044605e-11]\n",
      " [2.22044605e-11 1.66666667e-01 2.12770000e-02 6.52037171e-02\n",
      "  6.04968436e-01 2.22044605e-11 2.22044605e-11 2.22044605e-11]\n",
      " [2.22044605e-11 1.66666667e-01 4.25530000e-02 6.39575594e-02\n",
      "  5.54781389e-01 2.22044605e-11 2.22044605e-11 2.22044605e-11]\n",
      " [2.22044605e-11 1.66666667e-01 6.38300000e-02 2.83293179e-02\n",
      "  4.37267444e-01 2.22044605e-11 2.22044605e-11 2.22044605e-11]\n",
      " [2.22044605e-11 1.66666667e-01 8.51060000e-02 1.05092631e-02\n",
      "  3.31180066e-01 2.22044605e-11 2.22044605e-11 2.22044605e-11]\n",
      " [2.22044605e-11 1.66666667e-01 1.06383000e-01 2.67033789e-03\n",
      "  2.58385384e-01 2.22044605e-11 2.22044605e-11 2.22044605e-11]\n",
      " [2.22044605e-11 1.66666667e-01 1.27660000e-01 2.67033789e-03\n",
      "  1.98757474e-01 2.22044605e-11 2.22044605e-11 2.22044605e-11]\n",
      " [2.22044605e-11 1.66666667e-01 1.48936000e-01 2.67033789e-03\n",
      "  1.66956144e-01 2.22044605e-11 2.22044605e-11 2.22044605e-11]\n",
      " [2.22044605e-11 1.66666667e-01 1.70213000e-01 2.67033789e-03\n",
      "  1.37142189e-01 2.22044605e-11 2.22044605e-11 2.22044605e-11]\n",
      " [2.22044605e-11 1.66666667e-01 1.91489000e-01 2.67033789e-03\n",
      "  1.46583052e-01 2.22044605e-11 2.22044605e-11 2.22044605e-11]\n",
      " [2.22044605e-11 1.66666667e-01 2.12766000e-01 2.17365504e-02\n",
      "  1.94036207e-01 2.22044605e-11 2.22044605e-11 2.22044605e-11]\n",
      " [2.22044605e-11 1.66666667e-01 2.34043000e-01 5.43384090e-02\n",
      "  2.66583720e-01 2.22044605e-11 2.22044605e-11 2.22044605e-11]\n",
      " [2.22044605e-11 1.66666667e-01 2.55319000e-01 6.39575594e-02\n",
      "  4.10683390e-01 2.22044605e-11 2.22044605e-11 2.22044605e-11]\n",
      " [2.22044605e-11 1.66666667e-01 2.76596000e-01 1.05092631e-02\n",
      "  5.63726243e-01 2.22044605e-11 2.22044605e-11 2.22044605e-11]\n",
      " [2.22044605e-11 1.66666667e-01 2.97872000e-01 8.90112629e-04\n",
      "  5.83601657e-01 2.22044605e-11 2.22044605e-11 2.22044605e-11]\n",
      " [2.22044605e-11 1.66666667e-01 3.19149000e-01 2.22044605e-11\n",
      "  6.83726911e-01 2.22044605e-11 2.22044605e-11 2.22044605e-11]\n",
      " [2.22044605e-11 1.66666667e-01 3.40426000e-01 8.90112629e-04\n",
      "  7.27205317e-01 2.22044605e-11 2.22044605e-11 2.22044605e-11]\n",
      " [2.22044605e-11 1.66666667e-01 3.61702000e-01 2.22044605e-11\n",
      "  7.35652493e-01 2.22044605e-11 2.22044605e-11 2.22044605e-11]\n",
      " [2.22044605e-11 1.66666667e-01 3.82979000e-01 1.95824778e-03\n",
      "  8.01242526e-01 2.22044605e-11 2.22044605e-11 2.22044605e-11]\n",
      " [2.22044605e-11 1.66666667e-01 4.04255000e-01 2.67033789e-03\n",
      "  8.24347841e-01 2.22044605e-11 2.22044605e-11 2.22044605e-11]]\n",
      "first few reference data points [[2.22044605e-11 1.66666667e-01 2.22044605e-11 9.33550125e-02\n",
      "  6.45216941e-01 2.22044605e-11 2.22044605e-11 2.22044605e-11]\n",
      " [2.22044605e-11 1.66666667e-01 2.12770000e-02 6.52037171e-02\n",
      "  6.04968436e-01 2.22044605e-11 2.22044605e-11 2.22044605e-11]\n",
      " [2.22044605e-11 1.66666667e-01 4.25530000e-02 6.39575594e-02\n",
      "  5.54781389e-01 2.22044605e-11 2.22044605e-11 2.22044605e-11]\n",
      " [2.22044605e-11 1.66666667e-01 6.38300000e-02 2.83293179e-02\n",
      "  4.37267444e-01 2.22044605e-11 2.22044605e-11 2.22044605e-11]\n",
      " [2.22044605e-11 1.66666667e-01 8.51060000e-02 1.05092631e-02\n",
      "  3.31180066e-01 2.22044605e-11 2.22044605e-11 2.22044605e-11]\n",
      " [2.22044605e-11 1.66666667e-01 1.06383000e-01 2.67033789e-03\n",
      "  2.58385384e-01 2.22044605e-11 2.22044605e-11 2.22044605e-11]\n",
      " [2.22044605e-11 1.66666667e-01 1.27660000e-01 2.67033789e-03\n",
      "  1.98757474e-01 2.22044605e-11 2.22044605e-11 2.22044605e-11]\n",
      " [2.22044605e-11 1.66666667e-01 1.48936000e-01 2.67033789e-03\n",
      "  1.66956144e-01 2.22044605e-11 2.22044605e-11 2.22044605e-11]\n",
      " [2.22044605e-11 1.66666667e-01 1.70213000e-01 2.67033789e-03\n",
      "  1.37142189e-01 2.22044605e-11 2.22044605e-11 2.22044605e-11]\n",
      " [2.22044605e-11 1.66666667e-01 1.91489000e-01 2.67033789e-03\n",
      "  1.46583052e-01 2.22044605e-11 2.22044605e-11 2.22044605e-11]\n",
      " [2.22044605e-11 1.66666667e-01 2.12766000e-01 2.17365504e-02\n",
      "  1.94036207e-01 2.22044605e-11 2.22044605e-11 2.22044605e-11]\n",
      " [2.22044605e-11 1.66666667e-01 2.34043000e-01 5.43384090e-02\n",
      "  2.66583720e-01 2.22044605e-11 2.22044605e-11 2.22044605e-11]\n",
      " [2.22044605e-11 1.66666667e-01 2.55319000e-01 6.39575594e-02\n",
      "  4.10683390e-01 2.22044605e-11 2.22044605e-11 2.22044605e-11]\n",
      " [2.22044605e-11 1.66666667e-01 2.76596000e-01 1.05092631e-02\n",
      "  5.63726243e-01 2.22044605e-11 2.22044605e-11 2.22044605e-11]\n",
      " [2.22044605e-11 1.66666667e-01 2.97872000e-01 8.90112629e-04\n",
      "  5.83601657e-01 2.22044605e-11 2.22044605e-11 2.22044605e-11]\n",
      " [2.22044605e-11 1.66666667e-01 3.19149000e-01 2.22044605e-11\n",
      "  6.83726911e-01 2.22044605e-11 2.22044605e-11 2.22044605e-11]\n",
      " [2.22044605e-11 1.66666667e-01 3.40426000e-01 8.90112629e-04\n",
      "  7.27205317e-01 2.22044605e-11 2.22044605e-11 2.22044605e-11]\n",
      " [2.22044605e-11 1.66666667e-01 3.61702000e-01 2.22044605e-11\n",
      "  7.35652493e-01 2.22044605e-11 2.22044605e-11 2.22044605e-11]\n",
      " [2.22044605e-11 1.66666667e-01 3.82979000e-01 1.95824778e-03\n",
      "  8.01242526e-01 2.22044605e-11 2.22044605e-11 2.22044605e-11]\n",
      " [2.22044605e-11 1.66666667e-01 4.04255000e-01 2.67033789e-03\n",
      "  8.24347841e-01 2.22044605e-11 2.22044605e-11 2.22044605e-11]]\n",
      "column sum [1.72690323e+02 1.72833333e+02 1.76638299e+02 5.93108155e+01\n",
      " 1.97147425e+02 8.10462808e-09 8.10462808e-09 8.10462808e-09]\n"
     ]
    },
    {
     "name": "stderr",
     "output_type": "stream",
     "text": [
      "C:\\Users\\jpohl\\PycharmProjects\\clustering-drift-detection\\mssw\\core\\mssw_preprocessing.py:63: RuntimeWarning: invalid value encountered in sqrt\n",
      "  return weighted_data\n"
     ]
    }
   ],
   "source": [
    "import importlib\n",
    "from core import mssw_preprocessing\n",
    "from eval_helpers import kmeans_verbose_helpers\n",
    "importlib.reload(mssw_preprocessing)\n",
    "\n",
    "weighted_joined_reference_data, _, _ = mssw_preprocessing.mssw_preprocess(X_ref_batches_year, X_test_batches_year)\n",
    "\n",
    "# filename = 'elec_output.txt'\n",
    "# print(kmeans_verbose_helpers)\n",
    "# kmeans_verbose_helpers.write_verbose_kmeans_to_file(filename, weighted_joined_reference_data,\n",
    "#                                                     n_clusters=10, n_init=100, max_iter=500, tol=0, random_state=1053)\n",
    "# output_dicts = kmeans_verbose_helpers.convert_kmeans_output_file_to_dicts(filename, n_init=100)\n",
    "# kmeans_verbose_helpers.print_stats_from_kmeans_output_dicts(output_dicts)"
   ],
   "metadata": {
    "collapsed": false,
    "pycharm": {
     "name": "#%%\n"
    }
   }
  },
  {
   "cell_type": "markdown",
   "source": [
    "## Try different numbers of clusters"
   ],
   "metadata": {
    "collapsed": false
   }
  },
  {
   "cell_type": "code",
   "execution_count": null,
   "outputs": [],
   "source": [
    "from yellowbrick.cluster.elbow import kelbow_visualizer\n",
    "from yellowbrick.datasets.loaders import load_nfl\n",
    "from sklearn.cluster import KMeans\n",
    "\n",
    "\n",
    "kmeans = KMeans(\n",
    "    n_init=100,\n",
    "    max_iter=10000,\n",
    "    tol=0,\n",
    "    random_state=0\n",
    ")\n",
    "\n",
    "kelbow_visualizer(kmeans, weighted_joined_reference_data, k=(2, 30))\n",
    "\n",
    "\n",
    "\n"
   ],
   "metadata": {
    "collapsed": false,
    "pycharm": {
     "name": "#%%\n"
    }
   }
  }
 ],
 "metadata": {
  "kernelspec": {
   "display_name": "Python 3",
   "language": "python",
   "name": "python3"
  },
  "language_info": {
   "codemirror_mode": {
    "name": "ipython",
    "version": 2
   },
   "file_extension": ".py",
   "mimetype": "text/x-python",
   "name": "python",
   "nbconvert_exporter": "python",
   "pygments_lexer": "ipython2",
   "version": "2.7.6"
  }
 },
 "nbformat": 4,
 "nbformat_minor": 0
}