{
 "cells": [
  {
   "cell_type": "markdown",
   "metadata": {
    "collapsed": true,
    "pycharm": {
     "name": "#%% md\n"
    }
   },
   "source": [
    "# UCDD on spam evaluation"
   ]
  },
  {
   "cell_type": "markdown",
   "source": [
    "## Accept and preprocess the spam dataset"
   ],
   "metadata": {
    "collapsed": false
   }
  },
  {
   "cell_type": "code",
   "execution_count": 3,
   "outputs": [],
   "source": [
    "import numpy as np\n",
    "import pandas as pd"
   ],
   "metadata": {
    "collapsed": false,
    "pycharm": {
     "name": "#%%\n"
    }
   }
  },
  {
   "cell_type": "code",
   "execution_count": 12,
   "outputs": [
    {
     "name": "stdout",
     "output_type": "stream",
     "text": [
      "df columns\n",
      "Index(['Unnamed: 0', 'aa', 'aba', 'abandon', 'abb', 'abbey', 'abbrevi',\n",
      "       'abdomin', 'abduct', 'aberr',\n",
      "       ...\n",
      "       'zig', 'zimbabw', 'zinc', 'zip', 'zodiac', 'zone', 'zoo', 'zoom',\n",
      "       'zowi', 'ACTUAL_LABEL'],\n",
      "      dtype='object', length=10729)\n",
      "columns with all same values\n",
      "Index(['aba', 'abbey', 'abdomin', 'aberr', 'abid', 'abolish', 'abolit',\n",
      "       'abort', 'abridg', 'absent',\n",
      "       ...\n",
      "       'yoga', 'yon', 'yorker', 'yuck', 'za', 'zed', 'zee', 'zodiac', 'zoo',\n",
      "       'zowi'],\n",
      "      dtype='object', length=2728)\n",
      "\n",
      "reference data\n",
      "(1468, 10727)\n",
      "[[0. 0. 0. ... 0. 0. 0.]\n",
      " [0. 0. 0. ... 0. 0. 0.]\n",
      " [0. 0. 0. ... 0. 0. 0.]\n",
      " ...\n",
      " [0. 0. 0. ... 0. 0. 0.]\n",
      " [0. 0. 0. ... 0. 0. 0.]\n",
      " [0. 0. 0. ... 0. 0. 0.]]\n",
      "\n",
      "reference labels\n",
      "(1468, 1)\n",
      "\n",
      "testing data\n",
      "(2937, 10727)\n",
      "[[0. 0. 0. ... 0. 0. 0.]\n",
      " [0. 0. 0. ... 0. 0. 0.]\n",
      " [0. 0. 0. ... 0. 0. 0.]\n",
      " ...\n",
      " [0. 0. 0. ... 0. 0. 0.]\n",
      " [0. 0. 0. ... 0. 0. 0.]\n",
      " [0. 0. 0. ... 0. 0. 0.]]\n",
      "\n",
      "testing labels\n",
      "(2937, 1)\n"
     ]
    }
   ],
   "source": [
    "from sklearn.preprocessing import MinMaxScaler\n",
    "\n",
    "\n",
    "df = pd.read_csv(\"../Datasets_concept_drift/real_world_data/spam_dataset.csv\")\n",
    "\n",
    "print('df columns')\n",
    "print(df.columns)\n",
    "\n",
    "X = df.drop(columns=['Unnamed: 0', 'ACTUAL_LABEL'])\n",
    "y = df[\"ACTUAL_LABEL\"]\n",
    "\n",
    "X_ref = X[:1468]\n",
    "X_test = X[1468:]\n",
    "y_ref = y[:1468]\n",
    "y_test = y[1468:]\n",
    "\n",
    "X_ref = X_ref.to_numpy()\n",
    "X_test = X_test.to_numpy()\n",
    "y_ref = y_ref.to_numpy().reshape((len(y_ref.index), 1))\n",
    "y_test = y_test.to_numpy().reshape((len(y_test.index), 1))\n",
    "\n",
    "print('\\nreference data')\n",
    "print(X_ref.shape)\n",
    "print(X_ref)\n",
    "print('\\nreference labels')\n",
    "print(y_ref.shape)\n",
    "print('\\ntesting data')\n",
    "print(X_test.shape)\n",
    "print(X_test)\n",
    "print('\\ntesting labels')\n",
    "print(y_test.shape)"
   ],
   "metadata": {
    "collapsed": false,
    "pycharm": {
     "name": "#%%\n"
    }
   }
  },
  {
   "cell_type": "markdown",
   "source": [
    "    ## Split the dataset to batches"
   ],
   "metadata": {
    "collapsed": false
   }
  },
  {
   "cell_type": "markdown",
   "source": [
    "### Size=100"
   ],
   "metadata": {
    "collapsed": false
   }
  },
  {
   "cell_type": "code",
   "execution_count": 5,
   "outputs": [
    {
     "name": "stdout",
     "output_type": "stream",
     "text": [
      "chunk size 100\n",
      "number of chunks 29\n",
      "number of data 2937\n",
      "shape of X that can be split perfectly (2900, 10727)\n",
      "number of resulting batches 29\n",
      "[[0. 0. 0. ... 0. 0. 0.]\n",
      " [0. 0. 0. ... 0. 0. 0.]\n",
      " [0. 0. 0. ... 0. 0. 0.]\n",
      " ...\n",
      " [0. 0. 0. ... 0. 0. 0.]\n",
      " [0. 0. 0. ... 0. 0. 0.]\n",
      " [0. 0. 0. ... 0. 0. 0.]]\n",
      "(100, 10727)\n",
      "chunk size 100\n",
      "number of chunks 14\n",
      "number of data 1468\n",
      "shape of X that can be split perfectly (1400, 10727)\n",
      "number of resulting batches 14\n",
      "[[0. 0. 0. ... 0. 0. 0.]\n",
      " [0. 0. 0. ... 0. 0. 0.]\n",
      " [0. 0. 0. ... 0. 0. 0.]\n",
      " ...\n",
      " [0. 0. 0. ... 0. 0. 0.]\n",
      " [0. 0. 0. ... 0. 0. 0.]\n",
      " [0. 0. 0. ... 0. 0. 0.]]\n",
      "(100, 10727)\n",
      "# test batches 100:\n",
      "29\n",
      "29\n",
      "# ref batches 100:\n",
      "14\n",
      "14\n"
     ]
    }
   ],
   "source": [
    "from eval_helpers import helpers\n",
    "\n",
    "X_test_batches_100, y_test_batches_100 = helpers.split_to_fixed_size_batches(X_test, y_test, batch_size=100)\n",
    "X_ref_batches_100, y_ref_batches_100 = helpers.split_to_fixed_size_batches(X_ref, y_ref, batch_size=100)\n",
    "\n",
    "print('# test batches 100:')\n",
    "print(len(X_test_batches_100))\n",
    "print(len(y_test_batches_100))\n",
    "print('# ref batches 100:')\n",
    "print(len(X_ref_batches_100))\n",
    "print(len(y_ref_batches_100))"
   ],
   "metadata": {
    "collapsed": false,
    "pycharm": {
     "name": "#%%\n"
    }
   }
  },
  {
   "cell_type": "markdown",
   "source": [
    "### Size=50"
   ],
   "metadata": {
    "collapsed": false
   }
  },
  {
   "cell_type": "code",
   "execution_count": 6,
   "outputs": [
    {
     "name": "stdout",
     "output_type": "stream",
     "text": [
      "chunk size 50\n",
      "number of chunks 58\n",
      "number of data 2937\n",
      "shape of X that can be split perfectly (2900, 10727)\n",
      "number of resulting batches 58\n",
      "[[0. 0. 0. ... 0. 0. 0.]\n",
      " [0. 0. 0. ... 0. 0. 0.]\n",
      " [0. 0. 0. ... 0. 0. 0.]\n",
      " ...\n",
      " [0. 0. 0. ... 0. 0. 0.]\n",
      " [0. 0. 0. ... 0. 0. 0.]\n",
      " [0. 0. 0. ... 0. 0. 0.]]\n",
      "(50, 10727)\n",
      "chunk size 50\n",
      "number of chunks 29\n",
      "number of data 1468\n",
      "shape of X that can be split perfectly (1450, 10727)\n",
      "number of resulting batches 29\n",
      "[[0. 0. 0. ... 0. 0. 0.]\n",
      " [0. 0. 0. ... 0. 0. 0.]\n",
      " [0. 0. 0. ... 0. 0. 0.]\n",
      " ...\n",
      " [0. 0. 0. ... 0. 0. 0.]\n",
      " [0. 0. 0. ... 0. 0. 0.]\n",
      " [0. 0. 0. ... 0. 0. 0.]]\n",
      "(50, 10727)\n",
      "# test batches 50:\n",
      "58\n",
      "58\n",
      "# ref batches 50:\n",
      "29\n",
      "29\n"
     ]
    }
   ],
   "source": [
    "from eval_helpers import helpers\n",
    "\n",
    "X_test_batches_50, y_test_batches_50 = helpers.split_to_fixed_size_batches(X_test, y_test, batch_size=50)\n",
    "X_ref_batches_50, y_ref_batches_50 = helpers.split_to_fixed_size_batches(X_ref, y_ref, batch_size=50)\n",
    "\n",
    "print('# test batches 50:')\n",
    "print(len(X_test_batches_50))\n",
    "print(len(y_test_batches_50))\n",
    "print('# ref batches 50:')\n",
    "print(len(X_ref_batches_50))\n",
    "print(len(y_ref_batches_50))"
   ],
   "metadata": {
    "collapsed": false,
    "pycharm": {
     "name": "#%%\n"
    }
   }
  },
  {
   "cell_type": "markdown",
   "source": [
    "### Size=20"
   ],
   "metadata": {
    "collapsed": false
   }
  },
  {
   "cell_type": "code",
   "execution_count": 7,
   "outputs": [
    {
     "name": "stdout",
     "output_type": "stream",
     "text": [
      "chunk size 20\n",
      "number of chunks 146\n",
      "number of data 2937\n",
      "shape of X that can be split perfectly (2920, 10727)\n",
      "number of resulting batches 146\n",
      "[[0. 0. 0. ... 0. 0. 0.]\n",
      " [0. 0. 0. ... 0. 0. 0.]\n",
      " [0. 0. 0. ... 0. 0. 0.]\n",
      " ...\n",
      " [0. 0. 0. ... 0. 0. 0.]\n",
      " [0. 0. 0. ... 0. 0. 0.]\n",
      " [0. 0. 0. ... 0. 0. 0.]]\n",
      "(20, 10727)\n",
      "chunk size 20\n",
      "number of chunks 73\n",
      "number of data 1468\n",
      "shape of X that can be split perfectly (1460, 10727)\n",
      "number of resulting batches 73\n",
      "[[0. 0. 0. ... 0. 0. 0.]\n",
      " [0. 0. 0. ... 0. 0. 0.]\n",
      " [0. 0. 0. ... 0. 0. 0.]\n",
      " ...\n",
      " [0. 0. 0. ... 0. 0. 0.]\n",
      " [0. 0. 0. ... 0. 0. 0.]\n",
      " [0. 0. 0. ... 0. 0. 0.]]\n",
      "(20, 10727)\n",
      "# test batches 20:\n",
      "146\n",
      "146\n",
      "# ref batches 20:\n",
      "73\n",
      "73\n"
     ]
    }
   ],
   "source": [
    "from eval_helpers import helpers\n",
    "\n",
    "X_test_batches_20, y_test_batches_20 = helpers.split_to_fixed_size_batches(X_test, y_test, batch_size=20)\n",
    "X_ref_batches_20, y_ref_batches_20 = helpers.split_to_fixed_size_batches(X_ref, y_ref, batch_size=20)\n",
    "\n",
    "print('# test batches 20:')\n",
    "print(len(X_test_batches_20))\n",
    "print(len(y_test_batches_20))\n",
    "print('# ref batches 20:')\n",
    "print(len(X_ref_batches_20))\n",
    "print(len(y_ref_batches_20))\n"
   ],
   "metadata": {
    "collapsed": false,
    "pycharm": {
     "name": "#%%\n"
    }
   }
  },
  {
   "cell_type": "markdown",
   "source": [
    "## Evaluation with size 100 batches"
   ],
   "metadata": {
    "collapsed": false,
    "pycharm": {
     "name": "#%% md\n"
    }
   }
  },
  {
   "cell_type": "code",
   "execution_count": 9,
   "outputs": [
    {
     "name": "stdout",
     "output_type": "stream",
     "text": [
      "something\n"
     ]
    },
    {
     "name": "stderr",
     "output_type": "stream",
     "text": [
      "C:\\Users\\jpohl\\PycharmProjects\\clustering-drift-detection\\mssw\\core\\mssw_preprocessing.py:14: RuntimeWarning: invalid value encountered in divide\n",
      "  return np.divide(reference_data, column_sum)\n"
     ]
    }
   ],
   "source": [
    "from core import mssw_preprocessing\n",
    "from eval_helpers import kmeans_verbose_helpers\n",
    "\n",
    "weighted_joined_reference_data, _, _ = mssw_preprocessing.mssw_preprocess(X_ref_batches_100, X_test_batches_100)"
   ],
   "metadata": {
    "collapsed": false,
    "pycharm": {
     "name": "#%%\n"
    }
   }
  },
  {
   "cell_type": "code",
   "execution_count": null,
   "outputs": [],
   "source": [],
   "metadata": {
    "collapsed": false,
    "pycharm": {
     "name": "#%%\n"
    }
   }
  }
 ],
 "metadata": {
  "kernelspec": {
   "display_name": "Python 3",
   "language": "python",
   "name": "python3"
  },
  "language_info": {
   "codemirror_mode": {
    "name": "ipython",
    "version": 2
   },
   "file_extension": ".py",
   "mimetype": "text/x-python",
   "name": "python",
   "nbconvert_exporter": "python",
   "pygments_lexer": "ipython2",
   "version": "2.7.6"
  }
 },
 "nbformat": 4,
 "nbformat_minor": 0
}