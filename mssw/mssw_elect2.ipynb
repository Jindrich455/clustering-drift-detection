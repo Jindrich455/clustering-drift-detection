{
 "cells": [
  {
   "cell_type": "markdown",
   "metadata": {
    "collapsed": true,
    "pycharm": {
     "name": "#%% md\n"
    }
   },
   "source": [
    "# MSSW on ELECT2 evaluation"
   ]
  },
  {
   "cell_type": "markdown",
   "source": [
    "## Accept and preprocess the ELECT2 dataset"
   ],
   "metadata": {
    "collapsed": false
   }
  },
  {
   "cell_type": "code",
   "execution_count": 53,
   "outputs": [],
   "source": [
    "import csv\n",
    "\n",
    "import numpy as np\n",
    "import pandas as pd\n",
    "import seaborn as sb"
   ],
   "metadata": {
    "collapsed": false,
    "pycharm": {
     "name": "#%%\n"
    }
   }
  },
  {
   "cell_type": "code",
   "execution_count": 54,
   "outputs": [
    {
     "name": "stdout",
     "output_type": "stream",
     "text": [
      "   date  day    period  nswprice  nswdemand  vicprice  vicdemand  transfer\n",
      "0   0.0  2.0  0.000000  0.056443   0.439155  0.003467   0.422915  0.414912\n",
      "1   0.0  2.0  0.021277  0.051699   0.415055  0.003467   0.422915  0.414912\n",
      "2   0.0  2.0  0.042553  0.051489   0.385004  0.003467   0.422915  0.414912\n",
      "3   0.0  2.0  0.063830  0.045485   0.314639  0.003467   0.422915  0.414912\n",
      "4   0.0  2.0  0.085106  0.042482   0.251116  0.003467   0.422915  0.414912\n",
      "DTYPES\n",
      "date         float64\n",
      "day          float64\n",
      "period       float64\n",
      "nswprice     float64\n",
      "nswdemand    float64\n",
      "vicprice     float64\n",
      "vicdemand    float64\n",
      "transfer     float64\n",
      "dtype: object\n",
      "# nan values in X 0\n",
      "remaining columns\n",
      "Index(['date', 'day', 'period', 'nswprice', 'nswdemand', 'vicprice',\n",
      "       'vicdemand', 'transfer'],\n",
      "      dtype='object')\n",
      "\n",
      "reference data\n",
      "(15104, 8)\n",
      "[[0.       2.       0.       ... 0.003467 0.422915 0.414912]\n",
      " [0.       2.       0.021277 ... 0.003467 0.422915 0.414912]\n",
      " [0.       2.       0.042553 ... 0.003467 0.422915 0.414912]\n",
      " ...\n",
      " [0.434052 1.       0.617021 ... 0.003467 0.422915 0.414912]\n",
      " [0.434052 1.       0.638298 ... 0.003467 0.422915 0.414912]\n",
      " [0.434052 1.       0.659574 ... 0.003467 0.422915 0.414912]]\n",
      "\n",
      "reference labels\n",
      "(15104,)\n",
      "\n",
      "testing data\n",
      "(30208, 8)\n",
      "[[4.34052e-01 1.00000e+00 6.80851e-01 ... 3.46700e-03 4.22915e-01\n",
      "  4.14912e-01]\n",
      " [4.34052e-01 1.00000e+00 7.02128e-01 ... 3.46700e-03 4.22915e-01\n",
      "  4.14912e-01]\n",
      " [4.34052e-01 1.00000e+00 7.23404e-01 ... 3.46700e-03 4.22915e-01\n",
      "  4.14912e-01]\n",
      " ...\n",
      " [9.15800e-01 7.00000e+00 9.57447e-01 ... 2.98300e-03 2.47799e-01\n",
      "  3.62281e-01]\n",
      " [9.15800e-01 7.00000e+00 9.78723e-01 ... 4.63000e-03 3.45417e-01\n",
      "  2.06579e-01]\n",
      " [9.15800e-01 7.00000e+00 1.00000e+00 ... 3.54200e-03 3.55256e-01\n",
      "  2.31140e-01]]\n",
      "\n",
      "testing labels\n",
      "(30208,)\n"
     ]
    }
   ],
   "source": [
    "from eval_helpers import accepting\n",
    "\n",
    "df = pd.read_csv(\"../Datasets_concept_drift/real_world_data/electricity_dataset.csv\")\n",
    "\n",
    "X = df.drop(columns=['Unnamed: 0', 'label', 'real_date'])\n",
    "y = df[\"label\"]\n",
    "\n",
    "X['day'] = X['day'].apply(lambda x: float(x.split('\\'')[1]))\n",
    "\n",
    "print(X.head())\n",
    "print('DTYPES')\n",
    "print(X.dtypes)\n",
    "# X = float(X)\n",
    "# print(X.head())\n",
    "\n",
    "print('# nan values in X', np.count_nonzero(np.isnan(X)))\n",
    "\n",
    "X_ref = X[:15104]\n",
    "X_test = X[15104:]\n",
    "y_ref = y[:15104]\n",
    "y_test = y[15104:]\n",
    "\n",
    "print('remaining columns')\n",
    "print(X_ref.columns)\n",
    "\n",
    "X_ref = X_ref.to_numpy()\n",
    "X_test = X_test.to_numpy()\n",
    "y_ref = y_ref.to_numpy()\n",
    "y_test = y_test.to_numpy()\n",
    "\n",
    "print('\\nreference data')\n",
    "print(X_ref.shape)\n",
    "print(X_ref)\n",
    "print('\\nreference labels')\n",
    "print(y_ref.shape)\n",
    "print('\\ntesting data')\n",
    "print(X_test.shape)\n",
    "print(X_test)\n",
    "print('\\ntesting labels')\n",
    "print(y_test.shape)"
   ],
   "metadata": {
    "collapsed": false,
    "pycharm": {
     "name": "#%%\n"
    }
   }
  },
  {
   "cell_type": "markdown",
   "source": [
    "## Split the dataset to batches (size=365)"
   ],
   "metadata": {
    "collapsed": false
   }
  },
  {
   "cell_type": "code",
   "execution_count": 55,
   "outputs": [
    {
     "name": "stdout",
     "output_type": "stream",
     "text": [
      "chunk size 365\n",
      "number of chunks 82\n",
      "number of data 30208\n",
      "shape of X that can be split perfectly (29930, 8)\n",
      "number of resulting batches 82\n",
      "[[0.434052 1.       0.680851 ... 0.003467 0.422915 0.414912]\n",
      " [0.434052 1.       0.702128 ... 0.003467 0.422915 0.414912]\n",
      " [0.434052 1.       0.723404 ... 0.003467 0.422915 0.414912]\n",
      " ...\n",
      " [0.434406 2.       0.212766 ... 0.003467 0.422915 0.414912]\n",
      " [0.434406 2.       0.234043 ... 0.003467 0.422915 0.414912]\n",
      " [0.434406 2.       0.255319 ... 0.003467 0.422915 0.414912]]\n",
      "(365, 8)\n",
      "chunk size 365\n",
      "number of chunks 41\n",
      "number of data 15104\n",
      "shape of X that can be split perfectly (14965, 8)\n",
      "number of resulting batches 41\n",
      "[[0.00000e+00 2.00000e+00 0.00000e+00 ... 3.46700e-03 4.22915e-01\n",
      "  4.14912e-01]\n",
      " [0.00000e+00 2.00000e+00 2.12770e-02 ... 3.46700e-03 4.22915e-01\n",
      "  4.14912e-01]\n",
      " [0.00000e+00 2.00000e+00 4.25530e-02 ... 3.46700e-03 4.22915e-01\n",
      "  4.14912e-01]\n",
      " ...\n",
      " [3.10000e-04 2.00000e+00 5.53191e-01 ... 3.46700e-03 4.22915e-01\n",
      "  4.14912e-01]\n",
      " [3.10000e-04 2.00000e+00 5.74468e-01 ... 3.46700e-03 4.22915e-01\n",
      "  4.14912e-01]\n",
      " [3.10000e-04 2.00000e+00 5.95745e-01 ... 3.46700e-03 4.22915e-01\n",
      "  4.14912e-01]]\n",
      "(365, 8)\n",
      "# yearly test batches:\n",
      "82\n",
      "82\n",
      "# yearly ref batches:\n",
      "41\n",
      "41\n"
     ]
    }
   ],
   "source": [
    "from eval_helpers import helpers\n",
    "\n",
    "X_test_batches_year, y_test_batches_year = helpers.split_to_fixed_size_batches(X_test, y_test, batch_size=365)\n",
    "X_ref_batches_year, y_ref_batches_year = helpers.split_to_fixed_size_batches(X_ref, y_ref, batch_size=365)\n",
    "\n",
    "print('# yearly test batches:')\n",
    "print(len(X_test_batches_year))\n",
    "print(len(y_test_batches_year))\n",
    "print('# yearly ref batches:')\n",
    "print(len(X_ref_batches_year))\n",
    "print(len(y_ref_batches_year))"
   ],
   "metadata": {
    "collapsed": false,
    "pycharm": {
     "name": "#%%\n"
    }
   }
  },
  {
   "cell_type": "markdown",
   "source": [
    "## Find suitable KMeans clustering parameters"
   ],
   "metadata": {
    "collapsed": false
   }
  },
  {
   "cell_type": "code",
   "execution_count": 51,
   "outputs": [
    {
     "name": "stdout",
     "output_type": "stream",
     "text": [
      "<module 'eval_helpers.kmeans_verbose_helpers' from 'C:\\\\Users\\\\jpohl\\\\PycharmProjects\\\\clustering-drift-detection\\\\mssw\\\\eval_helpers\\\\kmeans_verbose_helpers.py'>\n",
      "random state: 1053\n",
      "total number of results: 100\n",
      "maximum number of iterations: 12\n",
      "minimum initial inertia: 19.84713208349392\n",
      "maximum initial inertia: 38.73653887770708\n",
      "number of unique final inertia values: 6\n",
      "minimum final inertia: 17.439267125234473\n",
      "maximum final inertia: 20.951295696041562\n",
      "total number of convergences: 100\n",
      "number of strict convergences: 100\n",
      "number of tol-based convergences: 0\n"
     ]
    }
   ],
   "source": [
    "import importlib\n",
    "from core import mssw_preprocessing\n",
    "from eval_helpers import kmeans_verbose_helpers\n",
    "importlib.reload(mssw_preprocessing)\n",
    "\n",
    "weighted_joined_reference_data, _, _ = mssw_preprocessing.mssw_preprocess(X_ref_batches_year, X_test_batches_year)\n",
    "# print(print('# nan values in wjrd', np.count_nonzero(np.isnan(weighted_joined_reference_data))))\n",
    "\n",
    "filename = 'elect2_output.txt'\n",
    "print(kmeans_verbose_helpers)\n",
    "kmeans_verbose_helpers.write_verbose_kmeans_to_file(filename, weighted_joined_reference_data,\n",
    "                                                    n_clusters=10, n_init=100, max_iter=500, tol=0, random_state=1053)\n",
    "output_dicts = kmeans_verbose_helpers.convert_kmeans_output_file_to_dicts(filename, n_init=100)\n",
    "kmeans_verbose_helpers.print_stats_from_kmeans_output_dicts(output_dicts)"
   ],
   "metadata": {
    "collapsed": false,
    "pycharm": {
     "name": "#%%\n"
    }
   }
  },
  {
   "cell_type": "markdown",
   "source": [
    "## Try different numbers of clusters"
   ],
   "metadata": {
    "collapsed": false
   }
  },
  {
   "cell_type": "code",
   "execution_count": 52,
   "outputs": [
    {
     "data": {
      "text/plain": "<Figure size 800x550 with 2 Axes>",
      "image/png": "[encoded data removed]"
     },
     "metadata": {},
     "output_type": "display_data"
    },
    {
     "data": {
      "text/plain": "KElbowVisualizer(ax=<AxesSubplot: title={'center': 'Distortion Score Elbow for KMeans Clustering'}, xlabel='k', ylabel='distortion score'>,\n                 estimator=KMeans(max_iter=10000, n_clusters=29, n_init=100,\n                                  random_state=0, tol=0),\n                 k=(2, 30))",
      "text/html": "<style>#sk-container-id-2 {color: black;background-color: white;}#sk-container-id-2 pre{padding: 0;}#sk-container-id-2 div.sk-toggleable {background-color: white;}#sk-container-id-2 label.sk-toggleable__label {cursor: pointer;display: block;width: 100%;margin-bottom: 0;padding: 0.3em;box-sizing: border-box;text-align: center;}#sk-container-id-2 label.sk-toggleable__label-arrow:before {content: \"▸\";float: left;margin-right: 0.25em;color: #696969;}#sk-container-id-2 label.sk-toggleable__label-arrow:hover:before {color: black;}#sk-container-id-2 div.sk-estimator:hover label.sk-toggleable__label-arrow:before {color: black;}#sk-container-id-2 div.sk-toggleable__content {max-height: 0;max-width: 0;overflow: hidden;text-align: left;background-color: #f0f8ff;}#sk-container-id-2 div.sk-toggleable__content pre {margin: 0.2em;color: black;border-radius: 0.25em;background-color: #f0f8ff;}#sk-container-id-2 input.sk-toggleable__control:checked~div.sk-toggleable__content {max-height: 200px;max-width: 100%;overflow: auto;}#sk-container-id-2 input.sk-toggleable__control:checked~label.sk-toggleable__label-arrow:before {content: \"▾\";}#sk-container-id-2 div.sk-estimator input.sk-toggleable__control:checked~label.sk-toggleable__label {background-color: #d4ebff;}#sk-container-id-2 div.sk-label input.sk-toggleable__control:checked~label.sk-toggleable__label {background-color: #d4ebff;}#sk-container-id-2 input.sk-hidden--visually {border: 0;clip: rect(1px 1px 1px 1px);clip: rect(1px, 1px, 1px, 1px);height: 1px;margin: -1px;overflow: hidden;padding: 0;position: absolute;width: 1px;}#sk-container-id-2 div.sk-estimator {font-family: monospace;background-color: #f0f8ff;border: 1px dotted black;border-radius: 0.25em;box-sizing: border-box;margin-bottom: 0.5em;}#sk-container-id-2 div.sk-estimator:hover {background-color: #d4ebff;}#sk-container-id-2 div.sk-parallel-item::after {content: \"\";width: 100%;border-bottom: 1px solid gray;flex-grow: 1;}#sk-container-id-2 div.sk-label:hover label.sk-toggleable__label {background-color: #d4ebff;}#sk-container-id-2 div.sk-serial::before {content: \"\";position: absolute;border-left: 1px solid gray;box-sizing: border-box;top: 0;bottom: 0;left: 50%;z-index: 0;}#sk-container-id-2 div.sk-serial {display: flex;flex-direction: column;align-items: center;background-color: white;padding-right: 0.2em;padding-left: 0.2em;position: relative;}#sk-container-id-2 div.sk-item {position: relative;z-index: 1;}#sk-container-id-2 div.sk-parallel {display: flex;align-items: stretch;justify-content: center;background-color: white;position: relative;}#sk-container-id-2 div.sk-item::before, #sk-container-id-2 div.sk-parallel-item::before {content: \"\";position: absolute;border-left: 1px solid gray;box-sizing: border-box;top: 0;bottom: 0;left: 50%;z-index: -1;}#sk-container-id-2 div.sk-parallel-item {display: flex;flex-direction: column;z-index: 1;position: relative;background-color: white;}#sk-container-id-2 div.sk-parallel-item:first-child::after {align-self: flex-end;width: 50%;}#sk-container-id-2 div.sk-parallel-item:last-child::after {align-self: flex-start;width: 50%;}#sk-container-id-2 div.sk-parallel-item:only-child::after {width: 0;}#sk-container-id-2 div.sk-dashed-wrapped {border: 1px dashed gray;margin: 0 0.4em 0.5em 0.4em;box-sizing: border-box;padding-bottom: 0.4em;background-color: white;}#sk-container-id-2 div.sk-label label {font-family: monospace;font-weight: bold;display: inline-block;line-height: 1.2em;}#sk-container-id-2 div.sk-label-container {text-align: center;}#sk-container-id-2 div.sk-container {/* jupyter's `normalize.less` sets `[hidden] { display: none; }` but bootstrap.min.css set `[hidden] { display: none !important; }` so we also need the `!important` here to be able to override the default hidden behavior on the sphinx rendered scikit-learn.org. See: https://github.com/scikit-learn/scikit-learn/issues/21755 */display: inline-block !important;position: relative;}#sk-container-id-2 div.sk-text-repr-fallback {display: none;}</style><div id=\"sk-container-id-2\" class=\"sk-top-container\"><div class=\"sk-text-repr-fallback\"><pre>KElbowVisualizer(ax=&lt;AxesSubplot: title={&#x27;center&#x27;: &#x27;Distortion Score Elbow for KMeans Clustering&#x27;}, xlabel=&#x27;k&#x27;, ylabel=&#x27;distortion score&#x27;&gt;,\n                 estimator=KMeans(max_iter=10000, n_clusters=29, n_init=100,\n                                  random_state=0, tol=0),\n                 k=(2, 30))</pre><b>In a Jupyter environment, please rerun this cell to show the HTML representation or trust the notebook. <br />On GitHub, the HTML representation is unable to render, please try loading this page with nbviewer.org.</b></div><div class=\"sk-container\" hidden><div class=\"sk-item sk-dashed-wrapped\"><div class=\"sk-label-container\"><div class=\"sk-label sk-toggleable\"><input class=\"sk-toggleable__control sk-hidden--visually\" id=\"sk-estimator-id-4\" type=\"checkbox\" ><label for=\"sk-estimator-id-4\" class=\"sk-toggleable__label sk-toggleable__label-arrow\">KElbowVisualizer</label><div class=\"sk-toggleable__content\"><pre>KElbowVisualizer(ax=&lt;AxesSubplot: title={&#x27;center&#x27;: &#x27;Distortion Score Elbow for KMeans Clustering&#x27;}, xlabel=&#x27;k&#x27;, ylabel=&#x27;distortion score&#x27;&gt;,\n                 estimator=KMeans(max_iter=10000, n_clusters=29, n_init=100,\n                                  random_state=0, tol=0),\n                 k=(2, 30))</pre></div></div></div><div class=\"sk-parallel\"><div class=\"sk-parallel-item\"><div class=\"sk-item\"><div class=\"sk-label-container\"><div class=\"sk-label sk-toggleable\"><input class=\"sk-toggleable__control sk-hidden--visually\" id=\"sk-estimator-id-5\" type=\"checkbox\" ><label for=\"sk-estimator-id-5\" class=\"sk-toggleable__label sk-toggleable__label-arrow\">estimator: KMeans</label><div class=\"sk-toggleable__content\"><pre>KMeans(max_iter=10000, n_clusters=29, n_init=100, random_state=0, tol=0)</pre></div></div></div><div class=\"sk-serial\"><div class=\"sk-item\"><div class=\"sk-estimator sk-toggleable\"><input class=\"sk-toggleable__control sk-hidden--visually\" id=\"sk-estimator-id-6\" type=\"checkbox\" ><label for=\"sk-estimator-id-6\" class=\"sk-toggleable__label sk-toggleable__label-arrow\">KMeans</label><div class=\"sk-toggleable__content\"><pre>KMeans(max_iter=10000, n_clusters=29, n_init=100, random_state=0, tol=0)</pre></div></div></div></div></div></div></div></div></div></div>"
     },
     "execution_count": 52,
     "metadata": {},
     "output_type": "execute_result"
    }
   ],
   "source": [
    "from yellowbrick.cluster.elbow import kelbow_visualizer\n",
    "from yellowbrick.datasets.loaders import load_nfl\n",
    "from sklearn.cluster import KMeans\n",
    "\n",
    "\n",
    "kmeans = KMeans(\n",
    "    n_init=100,\n",
    "    max_iter=10000,\n",
    "    tol=0,\n",
    "    random_state=0\n",
    ")\n",
    "\n",
    "kelbow_visualizer(kmeans, weighted_joined_reference_data, k=(2, 30))"
   ],
   "metadata": {
    "collapsed": false,
    "pycharm": {
     "name": "#%%\n"
    }
   }
  },
  {
   "cell_type": "markdown",
   "source": [
    "## Inspect one run of MSSW"
   ],
   "metadata": {
    "collapsed": false,
    "pycharm": {
     "name": "#%% md\n"
    }
   }
  },
  {
   "cell_type": "code",
   "execution_count": 56,
   "outputs": [
    {
     "name": "stdout",
     "output_type": "stream",
     "text": [
      "mean_av_s 148.63215745413504\n",
      "mean_mr 14.353964361763346\n",
      "# drifts detected 82\n",
      "lower bound 110.45061225184455\n",
      "upper bound 186.81370265642553\n",
      "all_av_sr [[9.17415084e-02 3.58862137e-01 7.64441184e-01 4.05177114e+00\n",
      "  5.64661835e+00 6.09451806e+00 6.53930462e+00 1.01294820e+01\n",
      "  1.15299543e+01 1.19742916e+01 1.24223328e+01 1.56590393e+01\n",
      "  1.73542467e+01 1.78012334e+01 1.82457979e+01 2.11733577e+01\n",
      "  2.31806399e+01 2.36264696e+01 2.40732266e+01 2.72599696e+01\n",
      "  2.90666567e+01 2.95111742e+01 2.99563238e+01 3.27962335e+01\n",
      "  3.48915968e+01 3.53376874e+01 3.57835245e+01 3.88814033e+01\n",
      "  4.07783658e+01 4.12232261e+01 4.16701771e+01 3.38363433e+02\n",
      "  5.62418833e+02 5.62865937e+02 5.63310467e+02 5.65751506e+02\n",
      "  5.68247144e+02 5.68691864e+02 5.69139021e+02 5.73006267e+02\n",
      "  5.74250316e+02 5.74865556e+02 5.75776523e+02 5.79801954e+02\n",
      "  5.80246486e+02 5.80693461e+02 5.81835577e+02 5.85649456e+02\n",
      "  5.86075300e+02 5.86519703e+02 5.86966424e+02 5.91301178e+02\n",
      "  5.91901499e+02 5.92348450e+02 5.92860461e+02 5.97342463e+02\n",
      "  5.97787982e+02 5.98233012e+02 5.98680211e+02 6.02925494e+02\n",
      "  6.03615736e+02 6.04061281e+02 6.04505983e+02 6.08443719e+02\n",
      "  6.09442315e+02 6.09888660e+02 6.10334514e+02 6.14544834e+02\n",
      "  6.24423418e+02 6.33389518e+02 6.16220199e+02 6.20068033e+02\n",
      "  6.21155250e+02 6.21602756e+02 6.22047441e+02 6.26168975e+02\n",
      "  6.27042465e+02 6.27487012e+02 6.27934461e+02 1.05423797e+03\n",
      "  1.14868605e+03 1.14913219e+03 1.14957674e+03 1.15302693e+03\n",
      "  1.15451342e+03 1.15495912e+03 1.15566007e+03 1.16007021e+03\n",
      "  1.16051732e+03 1.16096235e+03 1.16140788e+03 1.16583259e+03\n",
      "  1.16634347e+03 1.16679026e+03 1.16739282e+03 1.17383486e+03\n",
      "  1.17552167e+03 1.17418564e+03 1.28913307e+03 1.17745657e+03\n",
      "  1.17805688e+03 1.17850385e+03 1.17901592e+03 1.18349815e+03\n",
      "  1.18394348e+03 1.18438835e+03 1.18483545e+03 1.18908075e+03\n",
      "  1.18977105e+03 1.19021675e+03 1.20675080e+03 1.18995691e+03\n",
      "  1.19559763e+03 1.19604394e+03 1.19648980e+03 1.20070045e+03\n",
      "  1.20148480e+03 1.20192938e+03 1.20237554e+03 1.20622337e+03\n",
      "  1.20731061e+03 1.20775821e+03 1.20820275e+03]]\n",
      "reference av_sr [[9.17415084e-02 3.58862137e-01 7.64441184e-01 4.05177114e+00\n",
      "  5.64661835e+00 6.09451806e+00 6.53930462e+00 1.01294820e+01\n",
      "  1.15299543e+01 1.19742916e+01 1.24223328e+01 1.56590393e+01\n",
      "  1.73542467e+01 1.78012334e+01 1.82457979e+01 2.11733577e+01\n",
      "  2.31806399e+01 2.36264696e+01 2.40732266e+01 2.72599696e+01\n",
      "  2.90666567e+01 2.95111742e+01 2.99563238e+01 3.27962335e+01\n",
      "  3.48915968e+01 3.53376874e+01 3.57835245e+01 3.88814033e+01\n",
      "  4.07783658e+01 4.12232261e+01 4.16701771e+01 3.38363433e+02\n",
      "  5.62418833e+02 5.62865937e+02 5.63310467e+02 5.65751506e+02\n",
      "  5.68247144e+02 5.68691864e+02 5.69139021e+02 5.73006267e+02\n",
      "  5.74250316e+02]]\n"
     ]
    }
   ],
   "source": [
    "from core import mssw\n",
    "import importlib\n",
    "importlib.reload(mssw)\n",
    "from matplotlib import pyplot as plt\n",
    "\n",
    "\n",
    "drifts_detected, LCL_Av_s, UCL_Av_s, all_av_c, all_av_sr, all_cluster_num_points = \\\n",
    "    mssw.all_drifting_batches_return_plot_data(\n",
    "        X_ref_batches_year,\n",
    "        X_test_batches_year,\n",
    "        n_clusters=10,\n",
    "        n_init=100,\n",
    "        max_iter=100,\n",
    "        tol=0,\n",
    "        random_state=0\n",
    "    )\n",
    "\n",
    "print('# drifts detected', np.sum(drifts_detected))\n",
    "print('lower bound', LCL_Av_s)\n",
    "print('upper bound', UCL_Av_s)\n",
    "# print('all_av_c', all_av_c)\n",
    "print('all_av_sr', all_av_sr)\n",
    "print('reference av_sr', all_av_sr[:, :len(X_ref_batches_year)])\n",
    "\n"
   ],
   "metadata": {
    "collapsed": false,
    "pycharm": {
     "name": "#%%\n"
    }
   }
  }
 ],
 "metadata": {
  "kernelspec": {
   "display_name": "Python 3",
   "language": "python",
   "name": "python3"
  },
  "language_info": {
   "codemirror_mode": {
    "name": "ipython",
    "version": 2
   },
   "file_extension": ".py",
   "mimetype": "text/x-python",
   "name": "python",
   "nbconvert_exporter": "python",
   "pygments_lexer": "ipython2",
   "version": "2.7.6"
  }
 },
 "nbformat": 4,
 "nbformat_minor": 0
}